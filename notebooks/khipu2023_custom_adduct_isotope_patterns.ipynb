{
 "cells": [
  {
   "cell_type": "markdown",
   "id": "b81701a3-54b9-4e98-8ae2-f2e28b56fd28",
   "metadata": {},
   "source": [
    "# Demo using custom patterns for isotopes or adducts in khipu\n",
    "\n",
    "- Goal: how to use custom ion patterns for isotopes or adducts in khipu \n",
    "- Citation: Li, S. and Zheng, S., 2023. Generalized tree structure to annotate untargeted metabolomics and stable isotope tracing data. Analytical chemistry, 95(15), pp.6212-6217. (https://pubs.acs.org/doi/10.1021/acs.analchem.2c05810)\n",
    "- Original repo: https://github.com/shuzhao-li-lab/khipu\n",
    "\n",
    "\n",
    "SL 2023-03-02"
   ]
  },
  {
   "cell_type": "code",
   "execution_count": 1,
   "id": "0cce130b-0fb4-4b4e-bed7-a162330e20ac",
   "metadata": {},
   "outputs": [],
   "source": [
    "!pip install -q --upgrade khipu-metabolomics"
   ]
  },
  {
   "cell_type": "code",
   "execution_count": 2,
   "id": "7641973d-0ec9-4858-a31f-11f006c20698",
   "metadata": {},
   "outputs": [],
   "source": [
    "from khipu.utils import *\n",
    "from khipu.epdsConstructor import epdsConstructor"
   ]
  },
  {
   "cell_type": "code",
   "execution_count": 3,
   "id": "765e12f7-6880-4c2c-9e93-ab27ff633cb8",
   "metadata": {},
   "outputs": [
    {
     "name": "stdout",
     "output_type": "stream",
     "text": [
      "['In', 'Out', 'PROTON', '_', '_dh', '_exit_code', '_i', '_i1', '_i2', '_i3', '_ih', '_ii', '_iii', '_oh', 'add_data_to_tag', 'adduct_search_patterns', 'adduct_search_patterns_neg', 'assign_masstrack_ids_in_khipu', 'build_centurion_tree', 'electron', 'epdsConstructor', 'exit', 'export_json_trees', 'export_tsv_trees', 'extended_adducts', 'find_all_matches_centurion_indexed_list', 'find_trees_by_datatag', 'find_trees_by_datatag_list', 'get_adduct_edge_pairs', 'get_ipython', 'get_isotope_pattern_name', 'get_isotopic_edge_pairs', 'is_datatag_in_tree', 'isotope_search_patterns', 'json', 'make_edge_tag', 'make_expected_adduct_index', 'make_peak_dict', 'make_peak_tag', 'np', 'nx', 'peaks_to_networks', 'quit', 'read_features_from_text', 'realign_isotopes', 'realign_isotopes_reverse', 'relabel_dict', 'rt_compared_by_values', 'rt_matched_by_tolerance']\n"
     ]
    }
   ],
   "source": [
    "# inspect variables in current scope\n",
    "\n",
    "print([x for x in dir() if x[:2] != '__'])"
   ]
  },
  {
   "cell_type": "code",
   "execution_count": 4,
   "id": "dbd56ad6-085c-4e6e-aac2-4f50c7bd2370",
   "metadata": {},
   "outputs": [
    {
     "name": "stdout",
     "output_type": "stream",
     "text": [
      "Help on function read_features_from_text in module khipu.utils:\n",
      "\n",
      "read_features_from_text(text_table, id_col=0, mz_col=1, rtime_col=2, intensity_cols=(3, 6), delimiter='\\t')\n",
      "    Read a text feature table into a list of features.\n",
      "    Input\n",
      "    -----\n",
      "    text_table: Tab delimited feature table read as text. First line as header.\n",
      "                    Recommended col 0 for ID, col 1 for m/z, col 2 for rtime.\n",
      "    id_col: column for id. If feature ID is not given, row_number is used as ID.\n",
      "    mz_col: column for m/z.\n",
      "    rtime_col: column for retention time.\n",
      "    intensity_cols: range of columns for intensity values. E.g. (3,5) includes only col 3 and 4.\n",
      "    Return\n",
      "    ------\n",
      "    List of features: [{'id': '', 'mz': 0, 'rtime': 0, \n",
      "                        intensities: [], 'representative_intensity': 0, ...}, \n",
      "                        ...], \n",
      "                        where representative_intensity is mean value.\n",
      "\n"
     ]
    }
   ],
   "source": [
    "help(read_features_from_text)"
   ]
  },
  {
   "cell_type": "code",
   "execution_count": 5,
   "id": "a0060c10-e22f-4350-90ef-3a2ebb1b51e9",
   "metadata": {},
   "outputs": [
    {
     "name": "stdout",
     "output_type": "stream",
     "text": [
      "table header looks like:  ['id_number', 'mz', 'rtime', 'cSelectivity', 'goodness_fitting', 'snr', 'posi-Yeast-12C14N-a', 'posi-Yeast-12C14N-b', 'posi-Yeast-12C14N-c']\n",
      "Read 14051 feature lines\n"
     ]
    }
   ],
   "source": [
    "# The input file, yeast_pos_full.tsv, from khipu GitHub repo.\n",
    "\n",
    "features = read_features_from_text(open('yeast_pos_full.tsv').read(), \n",
    "                                  id_col=0, mz_col=1, rtime_col=2, intensity_cols=(6, 9), delimiter='\\t')"
   ]
  },
  {
   "cell_type": "code",
   "execution_count": 6,
   "id": "890ab3a9-fa72-484b-ab42-af18e44b398e",
   "metadata": {},
   "outputs": [
    {
     "data": {
      "text/plain": [
       "{'id': 'F100',\n",
       " 'mz': 260.1688,\n",
       " 'rtime': 185.63,\n",
       " 'intensities': [943328.0, 666713.0, 671035.0],\n",
       " 'representative_intensity': 760358.6666666666}"
      ]
     },
     "execution_count": 6,
     "metadata": {},
     "output_type": "execute_result"
    }
   ],
   "source": [
    "features[99]"
   ]
  },
  {
   "cell_type": "markdown",
   "id": "81c404a6-3074-45d4-a2b9-92ad01e44c11",
   "metadata": {},
   "source": [
    "### Current patterns"
   ]
  },
  {
   "cell_type": "code",
   "execution_count": 7,
   "id": "ebd486d1-140c-4c93-8bef-b9446f00fd7b",
   "metadata": {},
   "outputs": [
    {
     "name": "stdout",
     "output_type": "stream",
     "text": [
      "[(21.982, 'Na/H'), (41.026549, 'ACN'), (35.9767, 'HCl'), (37.955882, 'K/H')] \n",
      "\n",
      "[(1.003355, '13C/12C', (0, 0.8)), (2.00671, '13C/12C*2', (0, 0.8)), (3.010065, '13C/12C*3', (0, 0.8)), (4.01342, '13C/12C*4', (0, 0.8)), (5.016775, '13C/12C*5', (0, 0.8)), (6.02013, '13C/12C*6', (0, 0.8)), (7.023485, '13C/12C*7', (0, 0.8)), (8.02684, '13C/12C*8', (0, 0.8)), (9.030195, '13C/12C*9', (0, 0.8)), (10.03355, '13C/12C*10', (0, 0.8)), (11.036905, '13C/12C*11', (0, 0.8)), (12.04026, '13C/12C*12', (0, 0.8))] \n",
      "\n",
      "[(1.0078, 'H'), (-1.0078, '-H'), (10.991, 'Na/H, double charged'), (0.5017, '13C/12C, double charged'), (117.02655, '-NH3'), (17.02655, 'NH3'), (-18.0106, '-H2O'), (18.0106, 'H2O'), (18.033823, 'NH4'), (27.01089904, 'HCN'), (37.94694, 'Ca/H2'), (32.026215, 'MeOH'), (43.96389, 'Na2/H2'), (67.987424, 'NaCOOH'), (83.961361, 'KCOOH'), (97.96737927, 'H2SO4'), (97.97689507, 'H3PO4')] \n",
      "\n"
     ]
    }
   ],
   "source": [
    "for x in (adduct_search_patterns, isotope_search_patterns, extended_adducts):\n",
    "    print(x, '\\n')"
   ]
  },
  {
   "cell_type": "markdown",
   "id": "cb3f7138-9509-4ddd-831c-c3019c448aa3",
   "metadata": {},
   "source": [
    "### Redefine custom patterns"
   ]
  },
  {
   "cell_type": "code",
   "execution_count": 8,
   "id": "9612a9c7-8f93-40bb-be02-4f7786cb53b2",
   "metadata": {},
   "outputs": [],
   "source": [
    "isotope_search_patterns = [(1.003355, '13C/12C', (0, 0.8)), (2.00671, '13C/12C*2', (0, 0.8))]\n",
    "\n",
    "extended_adducts = [(1.0078, 'H'), (-1.0078, '-H'), (10.991, 'Na/H, double charged'), (0.5017, '13C/12C, double charged'), \n",
    "                    (117.02655, '-NH3'), (17.02655, 'NH3'), (-18.0106, '-H2O'), (18.0106, 'H2O'),\n",
    "                    (55.96644655, 'KOH'), (60.02112937, 'C2H4O2'), \n",
    "                    (62.00039, 'H2CO3'), (62.9956429, 'HNO3'), (75.91176374, '2K-2H'),]"
   ]
  },
  {
   "cell_type": "markdown",
   "id": "9999533f-60bc-4a96-aa42-0bc878464029",
   "metadata": {},
   "source": [
    "### Annotate features using custom patterns"
   ]
  },
  {
   "cell_type": "code",
   "execution_count": 9,
   "id": "2802b63b-9132-43b3-a363-99fd7cf859a8",
   "metadata": {},
   "outputs": [
    {
     "name": "stdout",
     "output_type": "stream",
     "text": [
      "Help on class epdsConstructor in module khipu.epdsConstructor:\n",
      "\n",
      "class epdsConstructor(builtins.object)\n",
      " |  epdsConstructor(peak_list, mode='pos')\n",
      " |  \n",
      " |  Wrapper class to organize a list of peaks/features into a list of empirical compounds.\n",
      " |  \n",
      " |  To-dos:\n",
      " |      add support of user input formats where rtime isn't precise or unavailable.\n",
      " |      add options of coelution_function (see mass2chem.epdsConstructor )\n",
      " |  \n",
      " |  Methods defined here:\n",
      " |  \n",
      " |  __init__(self, peak_list, mode='pos')\n",
      " |      Parameters\n",
      " |      ----------\n",
      " |      peak_list : [{'parent_masstrace_id': 1670, 'mz': 133.09702315984987, 'rtime': 654, 'height': 14388.0, 'id': 555}, ...]\n",
      " |      mz_tolerance_ppm: ppm tolerance in examining m/z patterns.\n",
      " |  \n",
      " |  peaks_to_epdDict(self, isotope_search_patterns, adduct_search_patterns, extended_adducts, mz_tolerance_ppm, rt_tolerance=2)\n",
      " |      Parameters\n",
      " |      ----------\n",
      " |      isotope_search_patterns : exact list used to retrieve the subnetworks. E.g. \n",
      " |          [ (1.003355, '13C/12C', (0, 0.8)),\n",
      " |          (2.00671, '13C/12C*2', (0, 0.8)),\n",
      " |          (3.010065, '13C/12C*3', (0, 0.8)),\n",
      " |          (4.01342, '13C/12C*4', (0, 0.8)),\n",
      " |          (5.016775, '13C/12C*5', (0, 0.8)),\n",
      " |          (6.02013, '13C/12C*6', (0, 0.8)),]\n",
      " |      \n",
      " |      adduct_search_patterns : exact list used to retrieve the subnetworks. \n",
      " |          It's not recommended to have a long list here, as it's better to search additional \n",
      " |          in-source modifications after empCpds are seeded. Example adduct_search_patterns list: \n",
      " |          [ (1.0078, 'H'), \n",
      " |          (21.9820, 'Na/H'), \n",
      " |          (41.026549, 'Acetonitrile')]\n",
      " |          adduct_search_patterns is dependent on ionization, but the option is left open for other functions.\n",
      " |      \n",
      " |      mz_tolerance_ppm : ppm tolerance in examining m/z patterns.\n",
      " |      rt_tolerance : tolerance threshold for deviation in retetion time, arbitrary unit depending on input data.\n",
      " |              Default intended as 2 seconds.\n",
      " |      \n",
      " |      Returns\n",
      " |      -------\n",
      " |      epdDict : A dictionary of empCpds (empirical compounds) indexed by IDs ('interim_id').\n",
      " |              Not including singletons.\n",
      " |  \n",
      " |  ----------------------------------------------------------------------\n",
      " |  Data descriptors defined here:\n",
      " |  \n",
      " |  __dict__\n",
      " |      dictionary for instance variables (if defined)\n",
      " |  \n",
      " |  __weakref__\n",
      " |      list of weak references to the object (if defined)\n",
      "\n"
     ]
    }
   ],
   "source": [
    "help(epdsConstructor)"
   ]
  },
  {
   "cell_type": "code",
   "execution_count": 13,
   "id": "e713883c-8369-47a4-92a1-c43f7f4dfbb4",
   "metadata": {},
   "outputs": [
    {
     "name": "stdout",
     "output_type": "stream",
     "text": [
      "\n",
      "\n",
      "Initial khipu search grid: \n",
      "               M+H+       Na/H        HCl        K/H        ACN\n",
      "M0         1.007276  22.989276  36.983976  38.963158  42.033825\n",
      "13C/12C    2.010631  23.992631  37.987331  39.966513  43.037180\n",
      "13C/12C*2  3.013986  24.995986  38.990686  40.969868  44.040535\n",
      "\n",
      "\n",
      "Downsized input network with 64 features, highest peak at F6410 \n",
      "Warning no match in isotope_pattern:  3.0108999999999924\n",
      "Unknown isotope match ~  (268.2636, 'F469')\n",
      "Downsized input network with 297 features, highest peak at F8433 \n",
      "Warning no match in isotope_pattern:  44.03710000000001\n",
      "Unknown isotope match ~  (376.2592, 'F6829')\n",
      "Warning no match in isotope_pattern:  59.9692\n",
      "Unknown isotope match ~  (392.1913, 'F8433')\n",
      "Warning no match in isotope_pattern:  60.97249999999997\n",
      "Unknown isotope match ~  (393.1946, 'F8570')\n",
      "Warning no match in isotope_pattern:  61.0634\n",
      "Unknown isotope match ~  (393.2855, 'F8615')\n",
      "Warning no match in isotope_pattern:  61.97429999999997\n",
      "Unknown isotope match ~  (394.1964, 'F8703')\n",
      "Warning no match in isotope_pattern:  62.066599999999994\n",
      "Unknown isotope match ~  (394.2887, 'F3701')\n",
      "Warning no match in isotope_pattern:  65.01490000000001\n",
      "Unknown isotope match ~  (397.237, 'F3971')\n",
      "Warning no match in isotope_pattern:  69.04589999999996\n",
      "Unknown isotope match ~  (401.268, 'F4387')\n",
      "Warning no match in isotope_pattern:  70.04849999999999\n",
      "Unknown isotope match ~  (402.2706, 'F4490')\n",
      "Warning no match in isotope_pattern:  88.00059999999996\n",
      "Unknown isotope match ~  (420.2227, 'F6247')\n",
      "Warning no match in isotope_pattern:  89.0949\n",
      "Unknown isotope match ~  (421.317, 'F6424')\n",
      "Warning no match in isotope_pattern:  100.05180000000001\n",
      "Unknown isotope match ~  (432.2739, 'F7583')\n",
      "Warning no match in isotope_pattern:  198.08969999999994\n",
      "Unknown isotope match ~  (530.3118, 'F8580')\n",
      "Warning no match in isotope_pattern:  256.1312\n",
      "Unknown isotope match ~  (588.3533, 'F8903')\n",
      "Warning no match in isotope_pattern:  3.0107999999999606\n",
      "Unknown isotope match ~  (272.2222, 'F795')\n",
      "Warning no match in isotope_pattern:  3.010600000000011\n",
      "Unknown isotope match ~  (272.2586, 'F806')\n",
      "Downsized input network with 47 features, highest peak at F2646 \n",
      "Downsized input network with 30 features, highest peak at F651 \n",
      "Warning no match in isotope_pattern:  3.0108000000000175\n",
      "Unknown isotope match ~  (274.1802, 'F897')\n",
      "Downsized input network with 16 features, highest peak at F3524 \n",
      "Downsized input network with 23 features, highest peak at F712 \n",
      "Downsized input network with 39 features, highest peak at F3227 \n",
      "Downsized input network with 21 features, highest peak at F4170 \n",
      "Warning no match in isotope_pattern:  3.0108999999999924\n",
      "Unknown isotope match ~  (286.2744, 'F1779')\n",
      "Downsized input network with 32 features, highest peak at F3234 \n",
      "Warning no match in isotope_pattern:  3.011000000000024\n",
      "Unknown isotope match ~  (306.1549, 'F3393')\n",
      "Warning no match in isotope_pattern:  4.014200000000017\n",
      "Unknown isotope match ~  (307.1581, 'F3500')\n"
     ]
    },
    {
     "name": "stderr",
     "output_type": "stream",
     "text": [
      "/opt/conda/lib/python3.10/site-packages/scipy/optimize/_minpack_py.py:833: OptimizeWarning: Covariance of the parameters could not be estimated\n",
      "  warnings.warn('Covariance of the parameters could not be estimated',\n"
     ]
    },
    {
     "name": "stdout",
     "output_type": "stream",
     "text": [
      "Warning no match in isotope_pattern:  3.0109999999999673\n",
      "Unknown isotope match ~  (356.3162, 'F4242')\n",
      "Warning no match in isotope_pattern:  4.0142999999999915\n",
      "Unknown isotope match ~  (357.3195, 'F4416')\n",
      "Warning no match in isotope_pattern:  3.0108999999999924\n",
      "Unknown isotope match ~  (398.363, 'F4120')\n",
      "Warning no match in isotope_pattern:  4.0142999999999915\n",
      "Unknown isotope match ~  (399.3664, 'F4211')\n",
      "Downsized input network with 25 features, highest peak at F4327 \n",
      "Downsized input network with 17 features, highest peak at F6770 \n",
      "Downsized input network with 18 features, highest peak at F4422 \n",
      "Downsized input network with 17 features, highest peak at F4461 \n",
      "Warning no match in isotope_pattern:  41.02710000000002\n",
      "Unknown isotope match ~  (399.2345, 'F4157')\n",
      "Warning no match in isotope_pattern:  3.0107000000000426\n",
      "Unknown isotope match ~  (446.2533, 'F4949')\n",
      "Warning no match in isotope_pattern:  4.014499999999998\n",
      "Unknown isotope match ~  (447.2571, 'F5051')\n",
      "Downsized input network with 40 features, highest peak at F8756 \n",
      "Downsized input network with 24 features, highest peak at F4664 \n",
      "Downsized input network with 34 features, highest peak at F6243 \n",
      "Downsized input network with 35 features, highest peak at F9075 \n",
      "Warning no match in isotope_pattern:  0.0020999999999844476\n",
      "Unknown isotope match ~  (363.1726, 'F5136')\n",
      "Warning no match in isotope_pattern:  3.008199999999988\n",
      "Unknown isotope match ~  (452.1574, 'F5507')\n",
      "Downsized input network with 24 features, highest peak at F6117 \n",
      "Warning no match in isotope_pattern:  0.002200000000016189\n",
      "Unknown isotope match ~  (417.2884, 'F5973')\n",
      "Warning no match in isotope_pattern:  3.009900000000016\n",
      "Unknown isotope match ~  (374.196, 'F11023')\n",
      "Downsized input network with 30 features, highest peak at F10939 \n",
      "Warning no match in isotope_pattern:  0.002599999999972624\n",
      "Unknown isotope match ~  (502.3855, 'F6341')\n",
      "Downsized input network with 29 features, highest peak at F9872 \n",
      "Warning no match in isotope_pattern:  3.0103000000000293\n",
      "Unknown isotope match ~  (426.2232, 'F6884')\n",
      "Downsized input network with 16 features, highest peak at F6838 \n",
      "Warning no match in isotope_pattern:  3.0084000000000515\n",
      "Unknown isotope match ~  (387.3038, 'F7950')\n",
      "Warning no match in isotope_pattern:  3.0079999999999814\n",
      "Unknown isotope match ~  (435.2885, 'F7870')\n",
      "Warning no match in isotope_pattern:  0.0027000000000043656\n",
      "Unknown isotope match ~  (475.2973, 'F7777')\n",
      "Downsized input network with 19 features, highest peak at F11321 \n",
      "Warning no match in isotope_pattern:  3.0083999999999946\n",
      "Unknown isotope match ~  (395.1562, 'F3744')\n",
      "Warning no match in isotope_pattern:  3.0091999999999643\n",
      "Unknown isotope match ~  (811.3642, 'F9628')\n",
      "Warning no match in isotope_pattern:  3.009999999999991\n",
      "Unknown isotope match ~  (548.4432, 'F10192')\n",
      "Warning no match in isotope_pattern:  5.01419999999996\n",
      "Unknown isotope match ~  (550.4474, 'F10333')\n",
      "Warning no match in isotope_pattern:  3.0068999999999733\n",
      "Unknown isotope match ~  (870.3901, 'F10058')\n",
      "Warning no match in isotope_pattern:  3.009900000000016\n",
      "Unknown isotope match ~  (621.4826, 'F13019')\n",
      "Warning no match in isotope_pattern:  3.005899999999997\n",
      "Unknown isotope match ~  (861.3589, 'F13750')\n",
      "\n",
      "\n",
      " ~~~~~~ Got 2161 khipus, with 7819 features ~~~~~~~ \n",
      "\n",
      "\n"
     ]
    }
   ],
   "source": [
    "ECON = epdsConstructor(features, mode='pos')\n",
    "\n",
    "khipu_dict = ECON.peaks_to_epdDict(\n",
    "    isotope_search_patterns = isotope_search_patterns,\n",
    "    adduct_search_patterns = adduct_search_patterns,\n",
    "    extended_adducts = extended_adducts,\n",
    "    mz_tolerance_ppm=5, \n",
    "    rt_tolerance=2, \n",
    " )"
   ]
  },
  {
   "cell_type": "code",
   "execution_count": 14,
   "id": "d55c9312-9158-4101-b295-bc4641631bea",
   "metadata": {},
   "outputs": [
    {
     "data": {
      "text/plain": [
       "('kp100_313.2617',\n",
       " {'interim_id': 'kp100_313.2617',\n",
       "  'neutral_formula_mass': 313.26169603322995,\n",
       "  'neutral_formula': None,\n",
       "  'Database_referred': [],\n",
       "  'identity': [],\n",
       "  'MS1_pseudo_Spectra': [{'id': 'F683',\n",
       "    'mz': 315.2723,\n",
       "    'rtime': 159.79,\n",
       "    'intensities': [25028245.0, 25883849.0, 24629612.0],\n",
       "    'representative_intensity': 25180568.666666668,\n",
       "    'parent_masstrack_id': '315.2723',\n",
       "    'isotope': '13C/12C',\n",
       "    'modification': 'M+H+',\n",
       "    'ion_relation': '13C/12C,M+H+'},\n",
       "   {'id': 'F578',\n",
       "    'mz': 314.269,\n",
       "    'rtime': 159.79,\n",
       "    'intensities': [133991630.0, 135907142.0, 137575102.0],\n",
       "    'representative_intensity': 135824624.66666666,\n",
       "    'parent_masstrack_id': '314.269',\n",
       "    'isotope': 'M0',\n",
       "    'modification': 'M+H+',\n",
       "    'ion_relation': 'M0,M+H+'}],\n",
       "  'MS2_Spectra': []})"
      ]
     },
     "execution_count": 14,
     "metadata": {},
     "output_type": "execute_result"
    }
   ],
   "source": [
    "list(khipu_dict.items())[99]"
   ]
  },
  {
   "cell_type": "markdown",
   "id": "50904005-9c8a-49bb-9a48-96708adde3aa",
   "metadata": {},
   "source": [
    "# Conclusion\n",
    "\n",
    "This notebook shows how to use khipu.epdsConstructor.epdsConstructor to generate a dictionary of khipus (empCpds).\n",
    "The epdsConstructor.peaks_to_epdDict() function takes custom patterns."
   ]
  }
 ],
 "metadata": {
  "kernelspec": {
   "display_name": "Python 3 (ipykernel)",
   "language": "python",
   "name": "python3"
  },
  "language_info": {
   "codemirror_mode": {
    "name": "ipython",
    "version": 3
   },
   "file_extension": ".py",
   "mimetype": "text/x-python",
   "name": "python",
   "nbconvert_exporter": "python",
   "pygments_lexer": "ipython3",
   "version": "3.10.5"
  }
 },
 "nbformat": 4,
 "nbformat_minor": 5
}
