{
 "cells": [
  {
   "cell_type": "markdown",
   "metadata": {},
   "source": [
    "# Analyzing the cardiomyocyte data in asari pipeline\n",
    "\n",
    "- Goal: data analysis to find sunitinib metabolites in Bowen et al 2023, published in the asari pipeline (pcpfm) paper\n",
    "- Mitchell, J.M., Chi, Y., Thapa, M., Pang, Z., Xia, J. and Li, S., 2024. Common data models to streamline metabolomics processing and annotation, and implementation in a Python pipeline. PLOS Computational Biology, 20(6), p.e1011912. (https://doi.org/10.1371/journal.pcbi.1011912)\n",
    "- Original repo: https://github.com/shuzhao-li-lab/PythonCentricPipelineForMetabolomics\n"
   ]
  },
  {
   "cell_type": "code",
   "execution_count": null,
   "metadata": {},
   "outputs": [],
   "source": [
    "# lets download the example dataset\n",
    "# you can download the zip from here : \n",
    "# lets assume you downloaded it to ~/Downloads/ and unziped it"
   ]
  },
  {
   "cell_type": "code",
   "execution_count": 7,
   "metadata": {},
   "outputs": [],
   "source": [
    "# now we need to make the sequence file as input to the pipeline\n",
    "\n",
    "import pandas as pd\n",
    "import os\n",
    "\n",
    "bowen_sequence = []\n",
    "downloads_path = os.path.abspath(os.path.expanduser(\"~/Downloads/Bowen_CellData/\"))\n",
    "for f in os.listdir(downloads_path):\n",
    "    file_path = os.path.join(downloads_path, f)\n",
    "    filename = os.path.basename(file_path).rstrip(\".mzML\")\n",
    "    if \"blank\" in filename:\n",
    "        sample_type = \"Blank\"\n",
    "    else:\n",
    "        sample_type = \"Unknown\"\n",
    "    bowen_sequence.append({\n",
    "        \"Filepath\": file_path,\n",
    "        \"File Name\": filename,\n",
    "        \"Method\": \"Unknown\",\n",
    "        \"Sample Type\": sample_type\n",
    "    })\n",
    "pd.DataFrame(bowen_sequence).to_csv(\"bowen_cell_sequence.csv\", index=False)\n"
   ]
  },
  {
   "cell_type": "code",
   "execution_count": 8,
   "metadata": {},
   "outputs": [
    {
     "data": {
      "text/plain": [
       "'/Users/mitchjo/pcpfm_tutorials/notebooks'"
      ]
     },
     "execution_count": 8,
     "metadata": {},
     "output_type": "execute_result"
    }
   ],
   "source": [
    "# the below block will run the pcpfm analysis. This relies upon python3 being on your $PATH.\n",
    "\n",
    "# if not, you will need to open the terminal and cd to this directory:\n",
    "\n",
    "os.getcwd()\n",
    "\n",
    "# run the command to add it to $PATH and do it manually using the commands below:\n",
    "\n",
    "# else you can use the block below to do it 'inline'"
   ]
  },
  {
   "cell_type": "code",
   "execution_count": 9,
   "metadata": {},
   "outputs": [
    {
     "name": "stderr",
     "output_type": "stream",
     "text": [
      "/Users/mitchjo/Library/Python/3.9/lib/python/site-packages/urllib3/__init__.py:34: NotOpenSSLWarning: urllib3 v2 only supports OpenSSL 1.1.1+, currently the 'ssl' module is compiled with 'LibreSSL 2.8.3'. See: https://github.com/urllib3/urllib3/issues/3020\n",
      "  warnings.warn(\n",
      "/Users/mitchjo/Library/Python/3.9/lib/python/site-packages/urllib3/__init__.py:34: NotOpenSSLWarning: urllib3 v2 only supports OpenSSL 1.1.1+, currently the 'ssl' module is compiled with 'LibreSSL 2.8.3'. See: https://github.com/urllib3/urllib3/issues/3020\n",
      "  warnings.warn(\n",
      "/Users/mitchjo/Library/Python/3.9/lib/python/site-packages/urllib3/__init__.py:34: NotOpenSSLWarning: urllib3 v2 only supports OpenSSL 1.1.1+, currently the 'ssl' module is compiled with 'LibreSSL 2.8.3'. See: https://github.com/urllib3/urllib3/issues/3020\n",
      "  warnings.warn(\n"
     ]
    },
    {
     "name": "stdout",
     "output_type": "stream",
     "text": [
      "\n",
      "\n",
      "~~~~~~~ Hello from Asari (1.12.8) ~~~~~~~~~\n",
      "\n",
      "Working on ~~ /Users/mitchjo/pcpfm_tutorials/notebooks/bowen_cell/converted_acquisitions/ ~~ \n",
      "\n",
      "\n"
     ]
    },
    {
     "name": "stderr",
     "output_type": "stream",
     "text": [
      "/Users/mitchjo/Library/Python/3.9/lib/python/site-packages/urllib3/__init__.py:34: NotOpenSSLWarning: urllib3 v2 only supports OpenSSL 1.1.1+, currently the 'ssl' module is compiled with 'LibreSSL 2.8.3'. See: https://github.com/urllib3/urllib3/issues/3020\n",
      "  warnings.warn(\n",
      "/Users/mitchjo/Library/Python/3.9/lib/python/site-packages/urllib3/__init__.py:34: NotOpenSSLWarning: urllib3 v2 only supports OpenSSL 1.1.1+, currently the 'ssl' module is compiled with 'LibreSSL 2.8.3'. See: https://github.com/urllib3/urllib3/issues/3020\n",
      "  warnings.warn(\n",
      "/Users/mitchjo/Library/Python/3.9/lib/python/site-packages/urllib3/__init__.py:34: NotOpenSSLWarning: urllib3 v2 only supports OpenSSL 1.1.1+, currently the 'ssl' module is compiled with 'LibreSSL 2.8.3'. See: https://github.com/urllib3/urllib3/issues/3020\n",
      "  warnings.warn(\n",
      "/Users/mitchjo/Library/Python/3.9/lib/python/site-packages/urllib3/__init__.py:34: NotOpenSSLWarning: urllib3 v2 only supports OpenSSL 1.1.1+, currently the 'ssl' module is compiled with 'LibreSSL 2.8.3'. See: https://github.com/urllib3/urllib3/issues/3020\n",
      "  warnings.warn(\n",
      "/Users/mitchjo/Library/Python/3.9/lib/python/site-packages/urllib3/__init__.py:34: NotOpenSSLWarning: urllib3 v2 only supports OpenSSL 1.1.1+, currently the 'ssl' module is compiled with 'LibreSSL 2.8.3'. See: https://github.com/urllib3/urllib3/issues/3020\n",
      "  warnings.warn(\n"
     ]
    },
    {
     "name": "stdout",
     "output_type": "stream",
     "text": [
      "Extracted AZ1.mzML to 1303 mass tracks.\n",
      "Extracted AZ15.mzML to 1427 mass tracks.\n",
      "Extracted AZ11.mzML to 1738 mass tracks.\n",
      "Extracted AZ13.mzML to 1613 mass tracks.\n",
      "Extracted AZ10.mzML to 1795 mass tracks.\n",
      "Extracted AZ16.mzML to 1560 mass tracks.\n",
      "Extracted AZ12.mzML to 1736 mass tracks.\n",
      "Extracted AZ14.mzML to 1571 mass tracks.\n",
      "Extracted AZ2.mzML to 1433 mass tracks.\n",
      "Extracted AZ4.mzML to 1516 mass tracks.\n",
      "Extracted AZ6.mzML to 1647 mass tracks.\n",
      "Extracted AZ17.mzML to 3104 mass tracks.\n",
      "Extracted AZ3.mzML to 1483 mass tracks.\n",
      "Extracted AZ7.mzML to 1583 mass tracks.\n",
      "Extracted AZ5.mzML to 2104 mass tracks.\n",
      "Extracted AZ18.mzML to 1824 mass tracks.\n",
      "Extracted AZ8.mzML to 1518 mass tracks.\n",
      "Extracted blank_cell_end.mzML to 1021 mass tracks.\n",
      "Extracted AZ9.mzML to 1466 mass tracks.\n",
      "Extracted blank_cell_start.mzML to 1064 mass tracks.\n",
      "\n",
      "    The reference sample is:\n",
      "    ||* AZ17 *||\n",
      "\n",
      "Max reference retention time is 840.44 at scan number 2245.\n",
      "\n",
      "Constructing MassGrid, ...\n",
      "\n",
      "Building composite mass tracks and calibrating retention time ...\n",
      "\n",
      "    AZ17\n",
      "\t\tgood_reference_landmark_peaks:  292\n",
      "    AZ1\n",
      "\tgood_landmark_peaks:  101\n",
      "    AZ10\n",
      "\tgood_landmark_peaks:  147\n",
      "    AZ11\n",
      "\tgood_landmark_peaks:  127\n",
      "    AZ12\n",
      "\tgood_landmark_peaks:  127\n",
      "    AZ13\n",
      "\tgood_landmark_peaks:  122\n",
      "    AZ14\n",
      "\tgood_landmark_peaks:  125\n",
      "    AZ15\n",
      "\tgood_landmark_peaks:  95\n",
      "    AZ16\n",
      "\tgood_landmark_peaks:  106\n",
      "    AZ18\n",
      "\tgood_landmark_peaks:  131\n",
      "    AZ2\n",
      "\tgood_landmark_peaks:  102\n",
      "    AZ3\n",
      "\tgood_landmark_peaks:  92\n",
      "    AZ4\n",
      "\tgood_landmark_peaks:  101\n",
      "    AZ5\n",
      "\tgood_landmark_peaks:  104\n",
      "    AZ6\n",
      "\tgood_landmark_peaks:  95\n",
      "    AZ7\n",
      "\tgood_landmark_peaks:  130\n",
      "    AZ8\n",
      "\tgood_landmark_peaks:  109\n",
      "    AZ9\n",
      "\tgood_landmark_peaks:  112\n",
      "    blank_cell_end\n",
      "\tgood_landmark_peaks:  59\n",
      "    blank_cell_start\n",
      "\tgood_landmark_peaks:  64\n",
      "\n",
      "Peak detection on 4695 composite mass tracks, ...\n",
      "\n"
     ]
    },
    {
     "name": "stderr",
     "output_type": "stream",
     "text": [
      "/Users/mitchjo/Library/Python/3.9/lib/python/site-packages/urllib3/__init__.py:34: NotOpenSSLWarning: urllib3 v2 only supports OpenSSL 1.1.1+, currently the 'ssl' module is compiled with 'LibreSSL 2.8.3'. See: https://github.com/urllib3/urllib3/issues/3020\n",
      "  warnings.warn(\n",
      "/Users/mitchjo/Library/Python/3.9/lib/python/site-packages/urllib3/__init__.py:34: NotOpenSSLWarning: urllib3 v2 only supports OpenSSL 1.1.1+, currently the 'ssl' module is compiled with 'LibreSSL 2.8.3'. See: https://github.com/urllib3/urllib3/issues/3020\n",
      "  warnings.warn(\n",
      "/Users/mitchjo/Library/Python/3.9/lib/python/site-packages/urllib3/__init__.py:34: NotOpenSSLWarning: urllib3 v2 only supports OpenSSL 1.1.1+, currently the 'ssl' module is compiled with 'LibreSSL 2.8.3'. See: https://github.com/urllib3/urllib3/issues/3020\n",
      "  warnings.warn(\n",
      "/Users/mitchjo/Library/Python/3.9/lib/python/site-packages/urllib3/__init__.py:34: NotOpenSSLWarning: urllib3 v2 only supports OpenSSL 1.1.1+, currently the 'ssl' module is compiled with 'LibreSSL 2.8.3'. See: https://github.com/urllib3/urllib3/issues/3020\n",
      "  warnings.warn(\n",
      "/Users/mitchjo/Library/Python/3.9/lib/python/site-packages/urllib3/__init__.py:34: NotOpenSSLWarning: urllib3 v2 only supports OpenSSL 1.1.1+, currently the 'ssl' module is compiled with 'LibreSSL 2.8.3'. See: https://github.com/urllib3/urllib3/issues/3020\n",
      "  warnings.warn(\n"
     ]
    },
    {
     "name": "stdout",
     "output_type": "stream",
     "text": [
      "Mass accuracy was estimated on 212 matched values as -0.3 ppm.\n",
      "\n",
      "\n",
      "Multiple charges considered: [1, 2, 3]\n",
      "\n",
      "\n",
      "Khipu search grid: \n",
      "               M+H+       Na/H        HCl        K/H        ACN\n",
      "M0         1.007276  22.989276  36.983976  38.963158  42.033825\n",
      "13C/12C    2.010631  23.992631  37.987331  39.966513  43.037180\n",
      "13C/12C*2  3.013986  24.995986  38.990686  40.969868  44.040535\n",
      "Constructed 837 khipus in this round.\n",
      "\n",
      "\n",
      "Khipu search grid: \n",
      "                       M+H+, 2x charged  ...  ACN, 2x charged\n",
      "M0                             0.503638  ...        21.520551\n",
      "13C/12C, 2x charged            1.005316  ...        22.022228\n",
      "13C/12C*2, 2x charged          1.506993  ...        22.523906\n",
      "\n",
      "[3 rows x 5 columns]\n",
      "Constructed 44 khipus in this round.\n",
      "\n",
      "\n",
      "Khipu search grid: \n",
      "                       M+H+, 3x charged  ...  ACN, 3x charged\n",
      "M0                             0.335759  ...        14.682793\n",
      "13C/12C, 3x charged            0.670210  ...        15.017244\n",
      "13C/12C*2, 3x charged          1.004662  ...        15.351696\n",
      "\n",
      "[3 rows x 5 columns]\n",
      "Constructed 4 khipus in this round.\n",
      "\n",
      "\n",
      "\n",
      "\n",
      " ~~~~~~ Got 885 khipus, with 2342 features ~~~~~~~ \n",
      "\n",
      "\n",
      "\n",
      "Annotation of 3943 Empirical compounds was written to /Users/mitchjo/pcpfm_tutorials/notebooks/bowen_cell/asari_asari_project_214143654/Feature_annotation.tsv.\n",
      "\n",
      "\n",
      "\n",
      "Feature table (5199 x 20) was written to /Users/mitchjo/pcpfm_tutorials/notebooks/bowen_cell/asari_asari_project_214143654/export/full_Feature_table.tsv.\n",
      "\n",
      "Filtered Feature table (3626 x 20) was written to /Users/mitchjo/pcpfm_tutorials/notebooks/bowen_cell/asari_asari_project_214143654/preferred_Feature_table.tsv.\n",
      "\n",
      "Unique compound table (2576 x 20) was written to /Users/mitchjo/pcpfm_tutorials/notebooks/bowen_cell/asari_asari_project_214143654/export/unique_compound__Feature_table.tsv.\n",
      "\n",
      "Removing temporary pickle files...\n"
     ]
    }
   ],
   "source": [
    "%%bash\n",
    "\n",
    "pcpfm assemble -s bowen_cell_sequence.csv -j bowen_cell -o .\n",
    "pcpfm asari -i bowen_cell"
   ]
  },
  {
   "cell_type": "code",
   "execution_count": 11,
   "metadata": {},
   "outputs": [
    {
     "name": "stderr",
     "output_type": "stream",
     "text": [
      "/Users/mitchjo/Library/Python/3.9/lib/python/site-packages/urllib3/__init__.py:34: NotOpenSSLWarning: urllib3 v2 only supports OpenSSL 1.1.1+, currently the 'ssl' module is compiled with 'LibreSSL 2.8.3'. See: https://github.com/urllib3/urllib3/issues/3020\n",
      "  warnings.warn(\n",
      "/Users/mitchjo/Library/Python/3.9/lib/python/site-packages/urllib3/__init__.py:34: NotOpenSSLWarning: urllib3 v2 only supports OpenSSL 1.1.1+, currently the 'ssl' module is compiled with 'LibreSSL 2.8.3'. See: https://github.com/urllib3/urllib3/issues/3020\n",
      "  warnings.warn(\n",
      "/Users/mitchjo/Library/Python/3.9/lib/python/site-packages/urllib3/__init__.py:34: NotOpenSSLWarning: urllib3 v2 only supports OpenSSL 1.1.1+, currently the 'ssl' module is compiled with 'LibreSSL 2.8.3'. See: https://github.com/urllib3/urllib3/issues/3020\n",
      "  warnings.warn(\n",
      "/Users/mitchjo/Library/Python/3.9/lib/python/site-packages/urllib3/__init__.py:34: NotOpenSSLWarning: urllib3 v2 only supports OpenSSL 1.1.1+, currently the 'ssl' module is compiled with 'LibreSSL 2.8.3'. See: https://github.com/urllib3/urllib3/issues/3020\n",
      "  warnings.warn(\n"
     ]
    }
   ],
   "source": [
    "%%bash \n",
    "\n",
    "# now lets blank_mask the samples and drop outliers\n",
    "\n",
    "pcpfm blank_masking --table_moniker preferred --new_moniker pref_blank_masked --blank_value Blank --sample_value Unknown --query_field \"Sample Type\" --blank_intensity_ratio 3 -i bowen_cell\n",
    "pcpfm drop_samples --table_moniker pref_blank_masked --new_moniker masked_pref_unknowns --drop_value Unknown --drop_field \"Sample Type\" --drop_others true -i bowen_cell\n",
    "\n",
    "pcpfm blank_masking --table_moniker full --new_moniker full_blank_masked --blank_value Blank --sample_value Unknown --query_field \"Sample Type\" --blank_intensity_ratio 3 -i bowen_cell\n",
    "pcpfm drop_samples --table_moniker full_blank_masked --new_moniker masked_full_unknowns --drop_value Unknown --drop_field \"Sample Type\" --drop_others true -i bowen_cell\n"
   ]
  },
  {
   "cell_type": "code",
   "execution_count": 23,
   "metadata": {},
   "outputs": [],
   "source": [
    "# lets look for the features reported in the paper\n",
    "expected_features_cell = [\n",
    "    (399.1823, 33.4,  'M0_1'),\n",
    "    (399.2184, 224.8, 'M0_2'),\n",
    "    (371.1874, 257.2, 'M1'),\n",
    "    (415.2134, 264.8, 'M2_1'),\n",
    "    (415.2128, 224.5, 'M2_2'),\n",
    "    (343.1562, 249.4, 'M3'),\n",
    "    (387.1823, 35.4,  'M4_1'),\n",
    "    (387.1824, 242.5, 'M4_2'),\n",
    "    (413.1978, 34.6,  'M12'),\n",
    "    (385.1667, 38.9,  'M14_1'),\n",
    "    (385.1666, 65.8,  'M14_2'),\n",
    "    (159.1490, 273.2, 'M20')\n",
    "]\n",
    "\n",
    "import json\n",
    "\n",
    "# load the preferred and full feature table\n",
    "pft_cell = pd.read_csv(\"./bowen_cell/filtered_feature_tables/masked_pref_unknowns_Feature_table.tsv\", sep=\"\\t\")\n",
    "fft_cell = pd.read_csv(\"./bowen_cell/filtered_feature_tables/masked_full_unknowns_Feature_table.tsv\", sep=\"\\t\")\n"
   ]
  },
  {
   "cell_type": "code",
   "execution_count": 24,
   "metadata": {},
   "outputs": [
    {
     "name": "stdout",
     "output_type": "stream",
     "text": [
      "Cell - preferred\n",
      "M0_1 {'F3900', 'F3899'}\n",
      "M0_2 set()\n",
      "M1 set()\n",
      "M2_1 set()\n",
      "M2_2 set()\n",
      "M3 {'F3729'}\n",
      "M4_1 {'F3483'}\n",
      "M4_2 {'F3488'}\n",
      "M12 {'F4048'}\n",
      "M14_1 set()\n",
      "M14_2 set()\n",
      "M20 {'F395'}\n",
      "\n",
      "Cell - full\n",
      "M0_1 {'F3900', 'F3899'}\n",
      "M0_2 {'F3910'}\n",
      "M1 {'F3741'}\n",
      "M2_1 {'F4229'}\n",
      "M2_2 set()\n",
      "M3 {'F3729'}\n",
      "M4_1 {'F3483', 'F3484'}\n",
      "M4_2 {'F3488'}\n",
      "M12 {'F4047', 'F4048', 'F4049'}\n",
      "M14_1 {'F3364', 'F3366', 'F3365'}\n",
      "M14_2 {'F3368'}\n",
      "M20 {'F395'}\n"
     ]
    }
   ],
   "source": [
    "# this builds an efficient structure to search the feature table by\n",
    "\n",
    "from intervaltree import IntervalTree\n",
    "\n",
    "ppm_mz_tol = 5\n",
    "rt_tol = 10\n",
    "\n",
    "pft_mz_tree = IntervalTree()\n",
    "pft_rt_tree = IntervalTree()\n",
    "for mz, rt, id in zip(pft_cell['mz'], pft_cell['rtime'], pft_cell['id_number']):\n",
    "    mz_err = mz/1e6 * ppm_mz_tol\n",
    "    pft_mz_tree.addi(mz-mz_err, mz+mz_err, id)\n",
    "    pft_rt_tree.addi(rt-rt_tol, rt+rt_tol, id)\n",
    "\n",
    "fft_mz_tree = IntervalTree()\n",
    "fft_rt_tree = IntervalTree()\n",
    "for mz, rt, id in zip(fft_cell['mz'], fft_cell['rtime'], fft_cell['id_number']):\n",
    "    mz_err = mz/1e6 * ppm_mz_tol\n",
    "    fft_mz_tree.addi(mz-mz_err, mz+mz_err, id)\n",
    "    fft_rt_tree.addi(rt-rt_tol, rt+rt_tol, id)\n",
    "\n",
    "\n",
    "# now look for the features\n",
    "    \n",
    "print(\"Cell - preferred\")\n",
    "for expected in expected_features_cell:\n",
    "    exp_mz, exp_rt, id = expected\n",
    "    matches_mz = set([x.data for x in pft_mz_tree.at(exp_mz)])\n",
    "    matches_rt = set([x.data for x in pft_rt_tree.at(exp_rt)])\n",
    "    true_matches = matches_mz.intersection(matches_rt)\n",
    "    print(id, true_matches)\n",
    "print()\n",
    "print(\"Cell - full\")\n",
    "for expected in expected_features_cell:\n",
    "    exp_mz, exp_rt, id = expected\n",
    "    matches_mz = set([x.data for x in fft_mz_tree.at(exp_mz)])\n",
    "    matches_rt = set([x.data for x in fft_rt_tree.at(exp_rt)])\n",
    "    true_matches = matches_mz.intersection(matches_rt)\n",
    "    print(id, true_matches)"
   ]
  },
  {
   "cell_type": "code",
   "execution_count": 28,
   "metadata": {},
   "outputs": [
    {
     "name": "stderr",
     "output_type": "stream",
     "text": [
      "/Users/mitchjo/Library/Python/3.9/lib/python/site-packages/urllib3/__init__.py:34: NotOpenSSLWarning: urllib3 v2 only supports OpenSSL 1.1.1+, currently the 'ssl' module is compiled with 'LibreSSL 2.8.3'. See: https://github.com/urllib3/urllib3/issues/3020\n",
      "  warnings.warn(\n"
     ]
    },
    {
     "name": "stdout",
     "output_type": "stream",
     "text": [
      "\n",
      "\n",
      "~~~~~~~ Hello from Asari (1.12.8) ~~~~~~~~~\n",
      "\n",
      "//*Asari dashboard*//   Press Control-C to exit.\n",
      "Launching server at http://localhost:58687\n"
     ]
    }
   ],
   "source": [
    "# As you can see, we have one missing feature but why is it missing?\n",
    "\n",
    "# lets look using asari viz\n",
    "\n",
    "experiment = json.load(open(\"./bowen_cell/experiment.json\"))\n",
    "asari_path = experiment[\"feature_tables\"]['full'].split(\"export\")[0]\n",
    "os.system(\"asari viz --input \" + asari_path)"
   ]
  },
  {
   "cell_type": "code",
   "execution_count": null,
   "metadata": {},
   "outputs": [],
   "source": [
    "# now find the mass track for m/z=415.2128 using asari viz"
   ]
  }
 ],
 "metadata": {
  "kernelspec": {
   "display_name": "Python 3",
   "language": "python",
   "name": "python3"
  },
  "language_info": {
   "codemirror_mode": {
    "name": "ipython",
    "version": 3
   },
   "file_extension": ".py",
   "mimetype": "text/x-python",
   "name": "python",
   "nbconvert_exporter": "python",
   "pygments_lexer": "ipython3",
   "version": "3.9.6"
  }
 },
 "nbformat": 4,
 "nbformat_minor": 2
}
