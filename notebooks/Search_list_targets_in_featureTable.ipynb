{
 "cells": [
  {
   "cell_type": "markdown",
   "id": "d68ed131",
   "metadata": {},
   "source": [
    "# Search a list of target features in a feature table\n",
    "\n",
    "This is the simpliest method to match m/z and retention time between a list of targets and a dataset, by defined windows of m/z and retention time.\n",
    "\n",
    "The only trick is to index the dataset so that the search isn't too slow.\n",
    "\n",
    "This was using jupyter/scipy-notebook, e.g.:\n",
    "\n",
    "docker run -v /home/shuzhao/play:/home/jovyan -p 8888:8888 jupyter/scipy-notebook\n",
    "\n",
    "Shuzhao Li, 2021-06-23"
   ]
  },
  {
   "cell_type": "code",
   "execution_count": 1,
   "id": "d65e0ce0",
   "metadata": {},
   "outputs": [
    {
     "name": "stdout",
     "output_type": "stream",
     "text": [
      "['name\\tm/z(M+H)\\tRT\\n', 'betaine_D11\\t129.15410400000002\\t0\\n', 'citrulline_D4\\t180.1275884\\t0\\n', 'creatine_D3\\t135.0951996\\t0\\n', 'homocysteine_D5\\t141.0734744\\t0\\n', 'ornithine_D6\\t139.1341256\\t0\\n', 'phenylacetylglutamine_D5\\t270.1490786\\t0\\n', 'taurine_D4\\t130.0465648\\t0\\n', 'test_pos\\t267.0048\\t164\\n'] \n",
      "\n",
      "[['betaine_D11', 129.15410400000002, 0.0], ['citrulline_D4', 180.1275884, 0.0], ['creatine_D3', 135.0951996, 0.0], ['homocysteine_D5', 141.0734744, 0.0], ['ornithine_D6', 139.1341256, 0.0], ['phenylacetylglutamine_D5', 270.1490786, 0.0], ['taurine_D4', 130.0465648, 0.0], ['test_pos', 267.0048, 164.0]]\n"
     ]
    }
   ],
   "source": [
    "# This is a list of labeled compounds, \n",
    "targets = \"labeled_targets.txt\"\n",
    "targets = open(targets).readlines()\n",
    "print(targets[:10], '\\n')\n",
    "\n",
    "# name at col 0, m/z at col 1 and rt col 2\n",
    "wanted = []\n",
    "for line in targets[1:]:\n",
    "    a = line.split('\\t')\n",
    "    wanted.append([a[0], float(a[1]), float(a[2])])\n",
    "    \n",
    "print(wanted)"
   ]
  },
  {
   "cell_type": "markdown",
   "id": "2f557e81",
   "metadata": {},
   "source": [
    "One can compute the adducts if needed:\n",
    "\n",
    "PROTON = 1.00727646677\n",
    "\n",
    "SODIUM = 21.9820 + PROTON\n",
    "\n",
    "H2O = 18.0106"
   ]
  },
  {
   "cell_type": "code",
   "execution_count": 2,
   "id": "512033b4",
   "metadata": {},
   "outputs": [
    {
     "name": "stdout",
     "output_type": "stream",
     "text": [
      "[['row1', 85.02783, 59.0, '85.02783\\t59\\t17.23\\t17.18\\t17.44\\t15.67\\t15.57\\t17.26\\t16.94\\t16.98\\t16.56\\n'], ['row2', 85.04717, 124.0, '85.04717\\t124\\t16.53\\t15.8\\t16.62\\t14.37\\t14.85\\t15.63\\t16.71\\t15.65\\t16.27\\n'], ['row3', 85.06532, 68.0, '85.06532\\t68\\t10.8\\t10.61\\t11.36\\t14.87\\t14.89\\t12.53\\t14.42\\t14.03\\t10.81\\n']]\n",
      "min_mz, max_mz =  85.02783 1956.091\n"
     ]
    }
   ],
   "source": [
    "feature_table = \"input_data/ave_log2_modc_ae_2012.txt\"\n",
    "\n",
    "# m/z at col 1, rt at col 2\n",
    "\n",
    "row = 0\n",
    "features = []\n",
    "for line in open(feature_table).readlines()[1:]:\n",
    "    a = line.split('\\t')\n",
    "    row += 1\n",
    "    features.append([ 'row'+str(row), float(a[0]), float(a[1]), line ])\n",
    "    \n",
    "print (features[:3])\n",
    "\n",
    "tree = {}\n",
    "all_mzs = [x[1] for x in features]\n",
    "min_mz, max_mz = min(all_mzs), max(all_mzs)\n",
    "print(\"min_mz, max_mz = \", min_mz, max_mz)\n",
    "\n",
    "for ii in range(int(min_mz), int(max_mz)+1):\n",
    "    tree[ii] = []\n",
    "\n",
    "# building feature index so that the search isn't too slow.\n",
    "for f in features:\n",
    "    tree[int(f[1])].append(f)\n"
   ]
  },
  {
   "cell_type": "code",
   "execution_count": 3,
   "id": "d16f81fd",
   "metadata": {},
   "outputs": [
    {
     "data": {
      "text/plain": [
       "True"
      ]
     },
     "execution_count": 3,
     "metadata": {},
     "output_type": "execute_result"
    }
   ],
   "source": [
    "# 0.000010 is 10 ppm\n",
    "PPM_tolerance = 0.000010\n",
    "# use a large number to include anything in RTime, small number to be specific\n",
    "RTime_tolerance = 5000       # seconds in retention time, usually a small number\n",
    "                            # more lenient for diff instruments\n",
    "                            # and possible diff void volume\n",
    "             \n",
    "# F1 = (m/z, rt)\n",
    "def match2(F1, F2):\n",
    "    if abs(F1[0]-F2[0])/F1[0] < PPM_tolerance and abs(F1[1] - F2[1]) < RTime_tolerance:\n",
    "        return True\n",
    "    else:\n",
    "        return False\n",
    "    \n",
    "# test\n",
    "match2((129.1541, 55), (129.1533, 144))"
   ]
  },
  {
   "cell_type": "code",
   "execution_count": 4,
   "id": "75e0f84b",
   "metadata": {},
   "outputs": [
    {
     "name": "stdout",
     "output_type": "stream",
     "text": [
      "Found 1 matches, result written to search_result.tsv\n"
     ]
    }
   ],
   "source": [
    "result_file = \"search_result.tsv\"\n",
    "\n",
    "def find_targets(targetList, featuresTree, result_file):\n",
    "    # target format: name at col 0, m/z at col 1 and rt col 2\n",
    "    # feature format: row_number, m/z, rt, original line\n",
    "    matched = []\n",
    "    # filter targetList\n",
    "    new = []\n",
    "    min_mz, max_mz = min(featuresTree.keys()), max(featuresTree.keys())\n",
    "    for x in targetList:\n",
    "        if min_mz < x[1] < max_mz:\n",
    "            new.append(x)\n",
    "        else:\n",
    "            print(\"out of m/z range: \", x)\n",
    "    for x in new:\n",
    "        # mz -0.1 to + 0.1 as search range\n",
    "        neighbors = set([int(x[1]-0.1), int(x[1]+0.1)])\n",
    "        for ii in neighbors:\n",
    "            for F in featuresTree[ii]:\n",
    "                if match2( (x[1], x[2]), F[1:3] ):\n",
    "                    matched.append((x + F))\n",
    "                \n",
    "    if matched:\n",
    "        s = \"#Matched result\\n\"\n",
    "        for line in matched:\n",
    "            s += '\\t'.join([str(x) for x in line]) + '\\n'\n",
    "        with open(result_file, 'w') as file:\n",
    "            file.write(s)\n",
    "        print(\"Found %d matches, result written to %s\" %(len(matched), result_file))\n",
    "    else:\n",
    "        print(\"No match found\")\n",
    "        \n",
    "    return matched\n",
    "\n",
    "matched = find_targets( wanted, tree, result_file )"
   ]
  },
  {
   "cell_type": "code",
   "execution_count": 5,
   "id": "e5463607",
   "metadata": {},
   "outputs": [
    {
     "name": "stdout",
     "output_type": "stream",
     "text": [
      "[['test_pos', 267.0048, 164.0, 'row5819', 267.0048, 164.0, '267.0048\\t164\\t15.57\\t14.45\\t14.78\\t12.09\\t14.34\\t14.38\\t14.97\\t14.97\\t14.47\\n']]\n"
     ]
    }
   ],
   "source": [
    "# Can do more with matched here\n",
    "print(matched[:3])"
   ]
  }
 ],
 "metadata": {
  "kernelspec": {
   "display_name": "Python 3",
   "language": "python",
   "name": "python3"
  },
  "language_info": {
   "codemirror_mode": {
    "name": "ipython",
    "version": 3
   },
   "file_extension": ".py",
   "mimetype": "text/x-python",
   "name": "python",
   "nbconvert_exporter": "python",
   "pygments_lexer": "ipython3",
   "version": "3.9.5"
  }
 },
 "nbformat": 4,
 "nbformat_minor": 5
}
