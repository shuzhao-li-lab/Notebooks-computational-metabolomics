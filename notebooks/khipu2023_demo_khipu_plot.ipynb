{
 "cells": [
  {
   "cell_type": "markdown",
   "metadata": {},
   "source": [
    "# Demo of khipu plots\n",
    "\n",
    "- Goal: quick illustration of the khipugram \n",
    "- Citation: Li, S. and Zheng, S., 2023. Generalized tree structure to annotate untargeted metabolomics and stable isotope tracing data. Analytical chemistry, 95(15), pp.6212-6217. (https://pubs.acs.org/doi/10.1021/acs.analchem.2c05810)\n",
    "- Original repo: https://github.com/shuzhao-li-lab/khipu\n",
    "\n",
    "\n",
    "**Note**\n",
    "\n",
    "This notebook is run on $docker run -v /Users/shuzhao/play:/home/jovyan -p 8888:8888 jupyter/scipy-notebook\n",
    "\n",
    "This is similar to run in terminal: `python3 -m khipu.test`\n",
    "\n",
    "Shuzhao Li, 2022-12-25"
   ]
  },
  {
   "cell_type": "code",
   "execution_count": 1,
   "metadata": {},
   "outputs": [
    {
     "name": "stdout",
     "output_type": "stream",
     "text": [
      "Requirement already up-to-date: khipu-metabolomics in /opt/conda/lib/python3.7/site-packages (0.4.8)\n",
      "Requirement already satisfied, skipping upgrade: networkx in /opt/conda/lib/python3.7/site-packages (from khipu-metabolomics) (2.3)\n",
      "Requirement already satisfied, skipping upgrade: treelib in /opt/conda/lib/python3.7/site-packages (from khipu-metabolomics) (1.6.1)\n",
      "Requirement already satisfied, skipping upgrade: mass2chem in /opt/conda/lib/python3.7/site-packages (from khipu-metabolomics) (0.4.1)\n",
      "Requirement already satisfied, skipping upgrade: decorator>=4.3.0 in /opt/conda/lib/python3.7/site-packages (from networkx->khipu-metabolomics) (4.4.0)\n",
      "Requirement already satisfied, skipping upgrade: future in /opt/conda/lib/python3.7/site-packages (from treelib->khipu-metabolomics) (0.18.2)\n",
      "Requirement already satisfied, skipping upgrade: scipy in /opt/conda/lib/python3.7/site-packages (from mass2chem->khipu-metabolomics) (1.3.1)\n",
      "Requirement already satisfied, skipping upgrade: numpy in /opt/conda/lib/python3.7/site-packages (from mass2chem->khipu-metabolomics) (1.17.2)\n"
     ]
    }
   ],
   "source": [
    "!pip install --upgrade khipu-metabolomics"
   ]
  },
  {
   "cell_type": "code",
   "execution_count": 2,
   "metadata": {},
   "outputs": [],
   "source": [
    "import matplotlib.pyplot as plt\n",
    "from khipu.test import *"
   ]
  },
  {
   "cell_type": "code",
   "execution_count": 3,
   "metadata": {},
   "outputs": [
    {
     "name": "stdout",
     "output_type": "stream",
     "text": [
      "['In', 'Khipu', 'Out', 'PROTON', 'Weavor', 'add_data_to_tag', 'adduct_search_patterns', 'adduct_search_patterns_neg', 'assign_masstrack_ids_in_khipu', 'build_centurion_tree', 'curve_fit', 'electron', 'exit', 'export_empCpd_khipu_list', 'export_json_khipu_list', 'export_json_trees', 'export_tsv_trees', 'extend_khipu_list', 'extended_adducts', 'find_all_matches_centurion_indexed_list', 'find_trees_by_datatag', 'find_trees_by_datatag_list', 'get_adduct_edge_pairs', 'get_ipython', 'get_isotope_pattern_name', 'get_isotopic_edge_pairs', 'is_datatag_in_tree', 'isotope_search_patterns', 'json', 'khipu_annotate', 'khipu_diagnosis', 'local_read_file', 'make_edge_tag', 'make_expected_adduct_index', 'make_peak_dict', 'make_peak_tag', 'np', 'nx', 'pd', 'peak_dict_to_khipu_list', 'peaks_to_networks', 'plt', 'quit', 'read_features_from_text', 'realign_isotopes', 'realign_isotopes_reverse', 'rt_compared_by_values', 'rt_matched_by_tolerance', 'test_read_url', 'treelib', 'urllib']\n"
     ]
    }
   ],
   "source": [
    "# Variables imported\n",
    "print([x for x in dir() if x[0] != '_'])"
   ]
  },
  {
   "cell_type": "code",
   "execution_count": 4,
   "metadata": {},
   "outputs": [
    {
     "name": "stdout",
     "output_type": "stream",
     "text": [
      "Retrieving test data from GitHub.\n",
      "table header looks like:  ['id_number', 'mz', 'rtime', '12C_Ecoli_20220321_004', '12C_Ecoli_20220321_004_20220322095030', '12C_Ecoli_20220321_004_20220322130235', '13C_Ecoli_20220321_004', '13C_Ecoli_20220321_004_20220322132355', '13C_Ecoli_20220321_004_20220322101150']\n",
      "Read 3602 feature lines\n",
      "504 3602\n"
     ]
    }
   ],
   "source": [
    "# Read test feature table into khipu package\n",
    "subnetworks, peak_dict, edge_dict = test_read_url()\n",
    "print(len(subnetworks), len(peak_dict))"
   ]
  },
  {
   "cell_type": "code",
   "execution_count": 5,
   "metadata": {},
   "outputs": [
    {
     "name": "stdout",
     "output_type": "stream",
     "text": [
      "[('F56', {'id': 'F56', 'mz': 97.1013, 'rtime': 66.21, 'intensities': [3138738.0, 2184196.0, 1433236.0, 3032564.0, 1719115.0, 1937016.0], 'representative_intensity': 2240810.8333333335}), ('F57', {'id': 'F57', 'mz': 134.0909, 'rtime': 24.15, 'intensities': [0.0, 0.0, 0.0, 527014.0, 654599.0, 545435.0], 'representative_intensity': 287841.3333333333})]\n"
     ]
    }
   ],
   "source": [
    "# Have a look at peak data structure\n",
    "print(list(peak_dict.items())[55:57])"
   ]
  },
  {
   "cell_type": "code",
   "execution_count": 6,
   "metadata": {},
   "outputs": [
    {
     "name": "stdout",
     "output_type": "stream",
     "text": [
      "[(1.003355, '13C/12C', (0, 0.8)), (2.00671, '13C/12C*2', (0, 0.8)), (3.010065, '13C/12C*3', (0, 0.8)), (4.01342, '13C/12C*4', (0, 0.8)), (5.016775, '13C/12C*5', (0, 0.8)), (6.02013, '13C/12C*6', (0, 0.8)), (7.023485, '13C/12C*7', (0, 0.8)), (8.02684, '13C/12C*8', (0, 0.8)), (9.030195, '13C/12C*9', (0, 0.8)), (10.03355, '13C/12C*10', (0, 0.8)), (11.036905, '13C/12C*11', (0, 0.8)), (12.04026, '13C/12C*12', (0, 0.8))]\n",
      "[(21.982, 'Na/H'), (41.026549, 'ACN'), (35.9767, 'HCl'), (37.955882, 'K/H')]\n"
     ]
    }
   ],
   "source": [
    "# Have a look at default ion patterns\n",
    "print(isotope_search_patterns)\n",
    "print(adduct_search_patterns)"
   ]
  },
  {
   "cell_type": "code",
   "execution_count": 7,
   "metadata": {},
   "outputs": [
    {
     "name": "stdout",
     "output_type": "stream",
     "text": [
      "                 M+H+       Na/H        HCl        K/H        ACN\n",
      "M0           1.007276  22.989276  36.983976  38.963158  42.033825\n",
      "13C/12C      2.010631  23.992631  37.987331  39.966513  43.037180\n",
      "13C/12C*2    3.013986  24.995986  38.990686  40.969868  44.040535\n",
      "13C/12C*3    4.017341  25.999341  39.994041  41.973223  45.043890\n",
      "13C/12C*4    5.020696  27.002696  40.997396  42.976578  46.047245\n",
      "13C/12C*5    6.024051  28.006051  42.000751  43.979933  47.050600\n",
      "13C/12C*6    7.027406  29.009406  43.004106  44.983288  48.053955\n",
      "13C/12C*7    8.030761  30.012761  44.007461  45.986643  49.057310\n",
      "13C/12C*8    9.034116  31.016116  45.010816  46.989998  50.060665\n",
      "13C/12C*9   10.037471  32.019471  46.014171  47.993353  51.064020\n",
      "13C/12C*10  11.040826  33.022826  47.017526  48.996708  52.067375\n",
      "13C/12C*11  12.044181  34.026181  48.020881  50.000063  53.070730\n",
      "13C/12C*12  13.047536  35.029536  49.024236  51.003418  54.074085\n"
     ]
    }
   ],
   "source": [
    "# initiate Weavor class\n",
    "WV = Weavor(peak_dict, isotope_search_patterns, adduct_search_patterns, \n",
    "                mz_tolerance_ppm=5, mode='pos')\n",
    "print(WV.mzgrid)"
   ]
  },
  {
   "cell_type": "code",
   "execution_count": 8,
   "metadata": {},
   "outputs": [
    {
     "data": {
      "text/plain": [
       "(array([424.,  56.,  15.,   4.,   2.,   2.,   1.]),\n",
       " array([ 2,  4,  6,  8, 10, 12, 20, 30]),\n",
       " <a list of 7 Patch objects>)"
      ]
     },
     "execution_count": 8,
     "metadata": {},
     "output_type": "execute_result"
    },
    {
     "data": {
      "image/png": "[encoded data removed]",
      "text/plain": [
       "<Figure size 432x288 with 1 Axes>"
      ]
     },
     "metadata": {
      "needs_background": "light"
     },
     "output_type": "display_data"
    }
   ],
   "source": [
    "# distribution of input network sizes\n",
    "sizes = [n.number_of_nodes() for n in subnetworks]\n",
    "plt.hist(sizes, bins=[2, 4, 6, 8, 10, 12, 20, 30])"
   ]
  },
  {
   "cell_type": "code",
   "execution_count": 9,
   "metadata": {},
   "outputs": [
    {
     "name": "stdout",
     "output_type": "stream",
     "text": [
      "[(3, 9), (27, 30), (50, 14), (81, 10), (82, 9), (118, 13), (171, 9), (183, 9), (228, 11)]\n"
     ]
    }
   ],
   "source": [
    "# choose one of the bigger groups to build demo khipu\n",
    "list_sizes = [\n",
    "    (ii, sizes[ii]) for ii in range(len(sizes)) if sizes[ii] > 8\n",
    "]\n",
    "\n",
    "print(list_sizes[:20])"
   ]
  },
  {
   "cell_type": "code",
   "execution_count": 10,
   "metadata": {},
   "outputs": [
    {
     "data": {
      "text/plain": [
       "EdgeDataView([('F279', 'F2793', {'type': 'isotope', 'tag': '13C/12C*4'}), ('F52', 'F99', {'type': 'isotope', 'tag': '13C/12C'}), ('F52', 'F922', {'type': 'isotope', 'tag': '13C/12C*4'}), ('F52', 'F1009', {'type': 'isotope', 'tag': '13C/12C*3'}), ('F52', 'F1120', {'type': 'isotope', 'tag': '13C/12C'}), ('F52', 'F2793', {'type': 'isotope', 'tag': '13C/12C'}), ('F99', 'F922', {'type': 'isotope', 'tag': '13C/12C*5'}), ('F99', 'F1009', {'type': 'isotope', 'tag': '13C/12C*4'}), ('F99', 'F1120', {'type': 'isotope', 'tag': '13C/12C*2'}), ('F1009', 'F922', {'type': 'isotope', 'tag': '13C/12C'}), ('F1009', 'F1120', {'type': 'isotope', 'tag': '13C/12C*2'}), ('F1120', 'F922', {'type': 'isotope', 'tag': '13C/12C*3'})])"
      ]
     },
     "execution_count": 10,
     "metadata": {},
     "output_type": "execute_result"
    }
   ],
   "source": [
    "# subnetworks will have different numbers in each run. Here we choose a larger one for demo\n",
    "G = subnetworks[9]\n",
    "G.edges(data=True)"
   ]
  },
  {
   "cell_type": "code",
   "execution_count": 11,
   "metadata": {},
   "outputs": [],
   "source": [
    "# examine one example khipu on subnetworks[9]\n",
    "# The khipu_diagnosis class has a few extra functions than khipu main class\n",
    "KP = khipu_diagnosis(G)\n",
    "KP.build_khipu(WV)"
   ]
  },
  {
   "cell_type": "code",
   "execution_count": 12,
   "metadata": {},
   "outputs": [
    {
     "name": "stdout",
     "output_type": "stream",
     "text": [
      "nodes_to_use:  ['F279', 'F52', 'F99', 'F1009', 'F1120', 'F2793', 'F922']\n",
      "redundant_nodes:  []\n"
     ]
    }
   ],
   "source": [
    "# Redundant features are set aside during khipu construction\n",
    "KP.show_trimming()"
   ]
  },
  {
   "cell_type": "code",
   "execution_count": 13,
   "metadata": {},
   "outputs": [
    {
     "name": "stdout",
     "output_type": "stream",
     "text": [
      "Minimal khipu tree: \n",
      "130.05@25.7\n",
      "└── 134.0635@25.7\n",
      "    ├── 131.0533@25.7\n",
      "    ├── 133.0598@25.7\n",
      "    ├── 133.0608@25.1\n",
      "    │   └── 137.0743@24.8\n",
      "    └── 135.0667@25.7\n",
      "\n"
     ]
    }
   ],
   "source": [
    "# minimal tree view of the edges\n",
    "KP.build_diagnostic_tree_clean()"
   ]
  },
  {
   "cell_type": "code",
   "execution_count": 14,
   "metadata": {},
   "outputs": [
    {
     "name": "stdout",
     "output_type": "stream",
     "text": [
      "            M+H+\n",
      "M0          F922\n",
      "13C/12C    F1009\n",
      "13C/12C*3  F2793\n",
      "13C/12C*4    F52\n",
      "13C/12C*5    F99\n",
      "13C/12C*7   F279\n"
     ]
    }
   ],
   "source": [
    "# the khipu in grid view, via simple text, compatible with terminals\n",
    "KP.print()"
   ]
  },
  {
   "cell_type": "code",
   "execution_count": 15,
   "metadata": {},
   "outputs": [
    {
     "name": "stdout",
     "output_type": "stream",
     "text": [
      "        M0 13C/12C 13C/12C*3 13C/12C*4 13C/12C*5 13C/12C*7\n",
      "M+H+  F922   F1009     F2793       F52       F99      F279\n"
     ]
    }
   ],
   "source": [
    "# rotated view\n",
    "KP.print2()"
   ]
  },
  {
   "cell_type": "code",
   "execution_count": 16,
   "metadata": {},
   "outputs": [
    {
     "name": "stdout",
     "output_type": "stream",
     "text": [
      "Aligned khipu tree: \n",
      "129.043\n",
      "└── M+H+\n",
      "    ├── 130.05@25.7\n",
      "    ├── 131.0533@25.7\n",
      "    ├── 133.0608@25.1\n",
      "    ├── 134.0635@25.7\n",
      "    ├── 135.0667@25.7\n",
      "    └── 137.0743@24.8\n",
      "\n"
     ]
    }
   ],
   "source": [
    "KP.build_khipu_tree()"
   ]
  },
  {
   "cell_type": "code",
   "execution_count": 17,
   "metadata": {},
   "outputs": [],
   "source": [
    "# Look at another compound\n",
    "G = subnetworks[118]\n",
    "\n",
    "KP = khipu_diagnosis(G)\n",
    "KP.build_khipu(WV)"
   ]
  },
  {
   "cell_type": "code",
   "execution_count": 18,
   "metadata": {},
   "outputs": [
    {
     "name": "stdout",
     "output_type": "stream",
     "text": [
      "Aligned khipu tree: \n",
      "187.1686\n",
      "├── ACN\n",
      "├── HCl\n",
      "├── K/H\n",
      "│   ├── 226.1318@21.5\n",
      "│   └── 235.1621@21.5\n",
      "├── M+H+\n",
      "│   ├── 188.1759@20.6\n",
      "│   ├── 189.1792@20.6\n",
      "│   ├── 190.1826@20.6\n",
      "│   ├── 191.1859@20.6\n",
      "│   ├── 192.1893@20.8\n",
      "│   ├── 193.1927@20.8\n",
      "│   ├── 194.196@20.8\n",
      "│   ├── 196.2028@20.8\n",
      "│   └── 197.2061@20.6\n",
      "└── Na/H\n",
      "    ├── 210.1578@20.6\n",
      "    └── 219.1881@21.3\n",
      "\n"
     ]
    }
   ],
   "source": [
    "KP.build_khipu_tree()"
   ]
  },
  {
   "cell_type": "code",
   "execution_count": 19,
   "metadata": {},
   "outputs": [
    {
     "data": {
      "text/html": [
       "<div>\n",
       "<style scoped>\n",
       "    .dataframe tbody tr th:only-of-type {\n",
       "        vertical-align: middle;\n",
       "    }\n",
       "\n",
       "    .dataframe tbody tr th {\n",
       "        vertical-align: top;\n",
       "    }\n",
       "\n",
       "    .dataframe thead th {\n",
       "        text-align: right;\n",
       "    }\n",
       "</style>\n",
       "<table border=\"1\" class=\"dataframe\">\n",
       "  <thead>\n",
       "    <tr style=\"text-align: right;\">\n",
       "      <th></th>\n",
       "      <th>M+H+</th>\n",
       "      <th>Na/H</th>\n",
       "      <th>HCl</th>\n",
       "      <th>K/H</th>\n",
       "      <th>ACN</th>\n",
       "    </tr>\n",
       "  </thead>\n",
       "  <tbody>\n",
       "    <tr>\n",
       "      <td>M0</td>\n",
       "      <td>F2353</td>\n",
       "      <td>F3209</td>\n",
       "      <td></td>\n",
       "      <td>F3269</td>\n",
       "      <td></td>\n",
       "    </tr>\n",
       "    <tr>\n",
       "      <td>13C/12C</td>\n",
       "      <td>F1331</td>\n",
       "      <td></td>\n",
       "      <td></td>\n",
       "      <td></td>\n",
       "      <td></td>\n",
       "    </tr>\n",
       "    <tr>\n",
       "      <td>13C/12C*2</td>\n",
       "      <td>F1397</td>\n",
       "      <td></td>\n",
       "      <td></td>\n",
       "      <td></td>\n",
       "      <td></td>\n",
       "    </tr>\n",
       "    <tr>\n",
       "      <td>13C/12C*3</td>\n",
       "      <td>F1434</td>\n",
       "      <td></td>\n",
       "      <td></td>\n",
       "      <td></td>\n",
       "      <td></td>\n",
       "    </tr>\n",
       "    <tr>\n",
       "      <td>13C/12C*4</td>\n",
       "      <td>F1461</td>\n",
       "      <td></td>\n",
       "      <td></td>\n",
       "      <td></td>\n",
       "      <td></td>\n",
       "    </tr>\n",
       "    <tr>\n",
       "      <td>13C/12C*5</td>\n",
       "      <td>F1507</td>\n",
       "      <td></td>\n",
       "      <td></td>\n",
       "      <td></td>\n",
       "      <td></td>\n",
       "    </tr>\n",
       "    <tr>\n",
       "      <td>13C/12C*6</td>\n",
       "      <td>F1550</td>\n",
       "      <td></td>\n",
       "      <td></td>\n",
       "      <td></td>\n",
       "      <td></td>\n",
       "    </tr>\n",
       "    <tr>\n",
       "      <td>13C/12C*7</td>\n",
       "      <td></td>\n",
       "      <td></td>\n",
       "      <td></td>\n",
       "      <td></td>\n",
       "      <td></td>\n",
       "    </tr>\n",
       "    <tr>\n",
       "      <td>13C/12C*8</td>\n",
       "      <td>F1685</td>\n",
       "      <td></td>\n",
       "      <td></td>\n",
       "      <td></td>\n",
       "      <td></td>\n",
       "    </tr>\n",
       "    <tr>\n",
       "      <td>13C/12C*9</td>\n",
       "      <td>F1741</td>\n",
       "      <td>F1454</td>\n",
       "      <td></td>\n",
       "      <td>F1883</td>\n",
       "      <td></td>\n",
       "    </tr>\n",
       "    <tr>\n",
       "      <td>13C/12C*10</td>\n",
       "      <td></td>\n",
       "      <td></td>\n",
       "      <td></td>\n",
       "      <td></td>\n",
       "      <td></td>\n",
       "    </tr>\n",
       "    <tr>\n",
       "      <td>13C/12C*11</td>\n",
       "      <td></td>\n",
       "      <td></td>\n",
       "      <td></td>\n",
       "      <td></td>\n",
       "      <td></td>\n",
       "    </tr>\n",
       "    <tr>\n",
       "      <td>13C/12C*12</td>\n",
       "      <td></td>\n",
       "      <td></td>\n",
       "      <td></td>\n",
       "      <td></td>\n",
       "      <td></td>\n",
       "    </tr>\n",
       "  </tbody>\n",
       "</table>\n",
       "</div>"
      ],
      "text/plain": [
       "             M+H+   Na/H HCl    K/H ACN\n",
       "M0          F2353  F3209      F3269    \n",
       "13C/12C     F1331                      \n",
       "13C/12C*2   F1397                      \n",
       "13C/12C*3   F1434                      \n",
       "13C/12C*4   F1461                      \n",
       "13C/12C*5   F1507                      \n",
       "13C/12C*6   F1550                      \n",
       "13C/12C*7                              \n",
       "13C/12C*8   F1685                      \n",
       "13C/12C*9   F1741  F1454      F1883    \n",
       "13C/12C*10                             \n",
       "13C/12C*11                             \n",
       "13C/12C*12                             "
      ]
     },
     "execution_count": 19,
     "metadata": {},
     "output_type": "execute_result"
    }
   ],
   "source": [
    "KP.khipu_grid"
   ]
  },
  {
   "cell_type": "code",
   "execution_count": 20,
   "metadata": {},
   "outputs": [
    {
     "data": {
      "text/html": [
       "<div>\n",
       "<style scoped>\n",
       "    .dataframe tbody tr th:only-of-type {\n",
       "        vertical-align: middle;\n",
       "    }\n",
       "\n",
       "    .dataframe tbody tr th {\n",
       "        vertical-align: top;\n",
       "    }\n",
       "\n",
       "    .dataframe thead th {\n",
       "        text-align: right;\n",
       "    }\n",
       "</style>\n",
       "<table border=\"1\" class=\"dataframe\">\n",
       "  <thead>\n",
       "    <tr style=\"text-align: right;\">\n",
       "      <th></th>\n",
       "      <th>M+H+</th>\n",
       "      <th>Na/H</th>\n",
       "      <th>HCl</th>\n",
       "      <th>K/H</th>\n",
       "      <th>ACN</th>\n",
       "    </tr>\n",
       "  </thead>\n",
       "  <tbody>\n",
       "    <tr>\n",
       "      <td>M0</td>\n",
       "      <td>188.176</td>\n",
       "      <td>210.158</td>\n",
       "      <td></td>\n",
       "      <td>226.132</td>\n",
       "      <td></td>\n",
       "    </tr>\n",
       "    <tr>\n",
       "      <td>13C/12C</td>\n",
       "      <td>189.179</td>\n",
       "      <td></td>\n",
       "      <td></td>\n",
       "      <td></td>\n",
       "      <td></td>\n",
       "    </tr>\n",
       "    <tr>\n",
       "      <td>13C/12C*2</td>\n",
       "      <td>190.183</td>\n",
       "      <td></td>\n",
       "      <td></td>\n",
       "      <td></td>\n",
       "      <td></td>\n",
       "    </tr>\n",
       "    <tr>\n",
       "      <td>13C/12C*3</td>\n",
       "      <td>191.186</td>\n",
       "      <td></td>\n",
       "      <td></td>\n",
       "      <td></td>\n",
       "      <td></td>\n",
       "    </tr>\n",
       "    <tr>\n",
       "      <td>13C/12C*4</td>\n",
       "      <td>192.189</td>\n",
       "      <td></td>\n",
       "      <td></td>\n",
       "      <td></td>\n",
       "      <td></td>\n",
       "    </tr>\n",
       "    <tr>\n",
       "      <td>13C/12C*5</td>\n",
       "      <td>193.193</td>\n",
       "      <td></td>\n",
       "      <td></td>\n",
       "      <td></td>\n",
       "      <td></td>\n",
       "    </tr>\n",
       "    <tr>\n",
       "      <td>13C/12C*6</td>\n",
       "      <td>194.196</td>\n",
       "      <td></td>\n",
       "      <td></td>\n",
       "      <td></td>\n",
       "      <td></td>\n",
       "    </tr>\n",
       "    <tr>\n",
       "      <td>13C/12C*7</td>\n",
       "      <td></td>\n",
       "      <td></td>\n",
       "      <td></td>\n",
       "      <td></td>\n",
       "      <td></td>\n",
       "    </tr>\n",
       "    <tr>\n",
       "      <td>13C/12C*8</td>\n",
       "      <td>196.203</td>\n",
       "      <td></td>\n",
       "      <td></td>\n",
       "      <td></td>\n",
       "      <td></td>\n",
       "    </tr>\n",
       "    <tr>\n",
       "      <td>13C/12C*9</td>\n",
       "      <td>197.206</td>\n",
       "      <td>219.188</td>\n",
       "      <td></td>\n",
       "      <td>235.162</td>\n",
       "      <td></td>\n",
       "    </tr>\n",
       "    <tr>\n",
       "      <td>13C/12C*10</td>\n",
       "      <td></td>\n",
       "      <td></td>\n",
       "      <td></td>\n",
       "      <td></td>\n",
       "      <td></td>\n",
       "    </tr>\n",
       "    <tr>\n",
       "      <td>13C/12C*11</td>\n",
       "      <td></td>\n",
       "      <td></td>\n",
       "      <td></td>\n",
       "      <td></td>\n",
       "      <td></td>\n",
       "    </tr>\n",
       "    <tr>\n",
       "      <td>13C/12C*12</td>\n",
       "      <td></td>\n",
       "      <td></td>\n",
       "      <td></td>\n",
       "      <td></td>\n",
       "      <td></td>\n",
       "    </tr>\n",
       "  </tbody>\n",
       "</table>\n",
       "</div>"
      ],
      "text/plain": [
       "               M+H+     Na/H HCl      K/H ACN\n",
       "M0          188.176  210.158      226.132    \n",
       "13C/12C     189.179                          \n",
       "13C/12C*2   190.183                          \n",
       "13C/12C*3   191.186                          \n",
       "13C/12C*4   192.189                          \n",
       "13C/12C*5   193.193                          \n",
       "13C/12C*6   194.196                          \n",
       "13C/12C*7                                    \n",
       "13C/12C*8   196.203                          \n",
       "13C/12C*9   197.206  219.188      235.162    \n",
       "13C/12C*10                                   \n",
       "13C/12C*11                                   \n",
       "13C/12C*12                                   "
      ]
     },
     "execution_count": 20,
     "metadata": {},
     "output_type": "execute_result"
    }
   ],
   "source": [
    "KP.print3()"
   ]
  },
  {
   "cell_type": "code",
   "execution_count": 21,
   "metadata": {},
   "outputs": [
    {
     "data": {
      "text/html": [
       "<div>\n",
       "<style scoped>\n",
       "    .dataframe tbody tr th:only-of-type {\n",
       "        vertical-align: middle;\n",
       "    }\n",
       "\n",
       "    .dataframe tbody tr th {\n",
       "        vertical-align: top;\n",
       "    }\n",
       "\n",
       "    .dataframe thead th {\n",
       "        text-align: right;\n",
       "    }\n",
       "</style>\n",
       "<table border=\"1\" class=\"dataframe\">\n",
       "  <thead>\n",
       "    <tr style=\"text-align: right;\">\n",
       "      <th></th>\n",
       "      <th>M+H+</th>\n",
       "      <th>Na/H</th>\n",
       "      <th>HCl</th>\n",
       "      <th>K/H</th>\n",
       "      <th>ACN</th>\n",
       "    </tr>\n",
       "  </thead>\n",
       "  <tbody>\n",
       "    <tr>\n",
       "      <td>M0</td>\n",
       "      <td>2.529945e+07</td>\n",
       "      <td>163826.833333</td>\n",
       "      <td>0.0</td>\n",
       "      <td>278655.666667</td>\n",
       "      <td>0.0</td>\n",
       "    </tr>\n",
       "    <tr>\n",
       "      <td>13C/12C</td>\n",
       "      <td>2.229457e+06</td>\n",
       "      <td>0.000000</td>\n",
       "      <td>0.0</td>\n",
       "      <td>0.000000</td>\n",
       "      <td>0.0</td>\n",
       "    </tr>\n",
       "    <tr>\n",
       "      <td>13C/12C*2</td>\n",
       "      <td>2.214622e+06</td>\n",
       "      <td>0.000000</td>\n",
       "      <td>0.0</td>\n",
       "      <td>0.000000</td>\n",
       "      <td>0.0</td>\n",
       "    </tr>\n",
       "    <tr>\n",
       "      <td>13C/12C*3</td>\n",
       "      <td>1.198928e+05</td>\n",
       "      <td>0.000000</td>\n",
       "      <td>0.0</td>\n",
       "      <td>0.000000</td>\n",
       "      <td>0.0</td>\n",
       "    </tr>\n",
       "    <tr>\n",
       "      <td>13C/12C*4</td>\n",
       "      <td>2.858817e+05</td>\n",
       "      <td>0.000000</td>\n",
       "      <td>0.0</td>\n",
       "      <td>0.000000</td>\n",
       "      <td>0.0</td>\n",
       "    </tr>\n",
       "    <tr>\n",
       "      <td>13C/12C*5</td>\n",
       "      <td>2.355958e+06</td>\n",
       "      <td>0.000000</td>\n",
       "      <td>0.0</td>\n",
       "      <td>0.000000</td>\n",
       "      <td>0.0</td>\n",
       "    </tr>\n",
       "    <tr>\n",
       "      <td>13C/12C*6</td>\n",
       "      <td>7.429862e+05</td>\n",
       "      <td>0.000000</td>\n",
       "      <td>0.0</td>\n",
       "      <td>0.000000</td>\n",
       "      <td>0.0</td>\n",
       "    </tr>\n",
       "    <tr>\n",
       "      <td>13C/12C*7</td>\n",
       "      <td>0.000000e+00</td>\n",
       "      <td>0.000000</td>\n",
       "      <td>0.0</td>\n",
       "      <td>0.000000</td>\n",
       "      <td>0.0</td>\n",
       "    </tr>\n",
       "    <tr>\n",
       "      <td>13C/12C*8</td>\n",
       "      <td>1.783273e+06</td>\n",
       "      <td>0.000000</td>\n",
       "      <td>0.0</td>\n",
       "      <td>0.000000</td>\n",
       "      <td>0.0</td>\n",
       "    </tr>\n",
       "    <tr>\n",
       "      <td>13C/12C*9</td>\n",
       "      <td>1.639578e+07</td>\n",
       "      <td>94556.333333</td>\n",
       "      <td>0.0</td>\n",
       "      <td>205383.500000</td>\n",
       "      <td>0.0</td>\n",
       "    </tr>\n",
       "    <tr>\n",
       "      <td>13C/12C*10</td>\n",
       "      <td>0.000000e+00</td>\n",
       "      <td>0.000000</td>\n",
       "      <td>0.0</td>\n",
       "      <td>0.000000</td>\n",
       "      <td>0.0</td>\n",
       "    </tr>\n",
       "    <tr>\n",
       "      <td>13C/12C*11</td>\n",
       "      <td>0.000000e+00</td>\n",
       "      <td>0.000000</td>\n",
       "      <td>0.0</td>\n",
       "      <td>0.000000</td>\n",
       "      <td>0.0</td>\n",
       "    </tr>\n",
       "    <tr>\n",
       "      <td>13C/12C*12</td>\n",
       "      <td>0.000000e+00</td>\n",
       "      <td>0.000000</td>\n",
       "      <td>0.0</td>\n",
       "      <td>0.000000</td>\n",
       "      <td>0.0</td>\n",
       "    </tr>\n",
       "  </tbody>\n",
       "</table>\n",
       "</div>"
      ],
      "text/plain": [
       "                    M+H+           Na/H  HCl            K/H  ACN\n",
       "M0          2.529945e+07  163826.833333  0.0  278655.666667  0.0\n",
       "13C/12C     2.229457e+06       0.000000  0.0       0.000000  0.0\n",
       "13C/12C*2   2.214622e+06       0.000000  0.0       0.000000  0.0\n",
       "13C/12C*3   1.198928e+05       0.000000  0.0       0.000000  0.0\n",
       "13C/12C*4   2.858817e+05       0.000000  0.0       0.000000  0.0\n",
       "13C/12C*5   2.355958e+06       0.000000  0.0       0.000000  0.0\n",
       "13C/12C*6   7.429862e+05       0.000000  0.0       0.000000  0.0\n",
       "13C/12C*7   0.000000e+00       0.000000  0.0       0.000000  0.0\n",
       "13C/12C*8   1.783273e+06       0.000000  0.0       0.000000  0.0\n",
       "13C/12C*9   1.639578e+07   94556.333333  0.0  205383.500000  0.0\n",
       "13C/12C*10  0.000000e+00       0.000000  0.0       0.000000  0.0\n",
       "13C/12C*11  0.000000e+00       0.000000  0.0       0.000000  0.0\n",
       "13C/12C*12  0.000000e+00       0.000000  0.0       0.000000  0.0"
      ]
     },
     "execution_count": 21,
     "metadata": {},
     "output_type": "execute_result"
    }
   ],
   "source": [
    "KP.get_khipu_intensities()"
   ]
  },
  {
   "cell_type": "code",
   "execution_count": 22,
   "metadata": {},
   "outputs": [
    {
     "data": {
      "image/png": "[encoded data removed]",
      "text/plain": [
       "<Figure size 432x288 with 1 Axes>"
      ]
     },
     "metadata": {
      "needs_background": "light"
     },
     "output_type": "display_data"
    }
   ],
   "source": [
    "KP.plot_khipu_diagram()"
   ]
  },
  {
   "cell_type": "code",
   "execution_count": 23,
   "metadata": {},
   "outputs": [
    {
     "name": "stdout",
     "output_type": "stream",
     "text": [
      "extended khipu with additional adducts: \n",
      "             M+H+   Na/H HCl    K/H ACN M+H+,Na2/H2\n",
      "M0          F2353  F3209      F3269                \n",
      "13C/12C     F1331                                  \n",
      "13C/12C*2   F1397                                  \n",
      "13C/12C*3   F1434                                  \n",
      "13C/12C*4   F1461                                  \n",
      "13C/12C*5   F1507                                  \n",
      "13C/12C*6   F1550                                  \n",
      "13C/12C*7                                          \n",
      "13C/12C*8   F1685                             F2000\n",
      "13C/12C*9   F1741  F1454      F1883                \n",
      "13C/12C*10                                         \n",
      "13C/12C*11                                         \n",
      "13C/12C*12                                         \n"
     ]
    }
   ],
   "source": [
    "# extend khipu\n",
    "unassigned_peaks = [v for x,v in peak_dict.items() if x not in KP.nodes_to_use]\n",
    "mztree =  build_centurion_tree(unassigned_peaks)\n",
    "KP.extended_search(mztree, extended_adducts)\n",
    "print(\"extended khipu with additional adducts: \")\n",
    "KP.print()"
   ]
  },
  {
   "cell_type": "code",
   "execution_count": 24,
   "metadata": {},
   "outputs": [
    {
     "data": {
      "text/plain": [
       "{'F1685': ('13C/12C*8', 'M+H+'),\n",
       " 'F1397': ('13C/12C*2', 'M+H+'),\n",
       " 'F1331': ('13C/12C', 'M+H+'),\n",
       " 'F2353': ('M0', 'M+H+'),\n",
       " 'F1507': ('13C/12C*5', 'M+H+'),\n",
       " 'F3209': ('M0', 'Na/H'),\n",
       " 'F3269': ('M0', 'K/H'),\n",
       " 'F1454': ('13C/12C*9', 'Na/H'),\n",
       " 'F1461': ('13C/12C*4', 'M+H+'),\n",
       " 'F1741': ('13C/12C*9', 'M+H+'),\n",
       " 'F1434': ('13C/12C*3', 'M+H+'),\n",
       " 'F1883': ('13C/12C*9', 'K/H'),\n",
       " 'F1550': ('13C/12C*6', 'M+H+'),\n",
       " 'F2000': ('13C/12C*8', 'M+H+,Na2/H2')}"
      ]
     },
     "execution_count": 24,
     "metadata": {},
     "output_type": "execute_result"
    }
   ],
   "source": [
    "KP.feature_map"
   ]
  },
  {
   "cell_type": "code",
   "execution_count": 25,
   "metadata": {},
   "outputs": [
    {
     "data": {
      "image/png": "[encoded data removed]",
      "text/plain": [
       "<Figure size 432x288 with 1 Axes>"
      ]
     },
     "metadata": {
      "needs_background": "light"
     },
     "output_type": "display_data"
    }
   ],
   "source": [
    "KP.plot_khipu_diagram()"
   ]
  },
  {
   "cell_type": "code",
   "execution_count": 26,
   "metadata": {},
   "outputs": [
    {
     "data": {
      "image/png": "[encoded data removed]",
      "text/plain": [
       "<Figure size 432x288 with 1 Axes>"
      ]
     },
     "metadata": {
      "needs_background": "light"
     },
     "output_type": "display_data"
    },
    {
     "data": {
      "image/png": "[encoded data removed]",
      "text/plain": [
       "<Figure size 432x288 with 1 Axes>"
      ]
     },
     "metadata": {
      "needs_background": "light"
     },
     "output_type": "display_data"
    },
    {
     "data": {
      "image/png": "[encoded data removed]",
      "text/plain": [
       "<Figure size 432x288 with 1 Axes>"
      ]
     },
     "metadata": {
      "needs_background": "light"
     },
     "output_type": "display_data"
    },
    {
     "data": {
      "image/png": "[encoded data removed]",
      "text/plain": [
       "<Figure size 432x288 with 1 Axes>"
      ]
     },
     "metadata": {
      "needs_background": "light"
     },
     "output_type": "display_data"
    },
    {
     "data": {
      "image/png": "[encoded data removed]",
      "text/plain": [
       "<Figure size 432x288 with 1 Axes>"
      ]
     },
     "metadata": {
      "needs_background": "light"
     },
     "output_type": "display_data"
    }
   ],
   "source": [
    "# plot a few more\n",
    "\n",
    "for x in list_sizes[:5]:\n",
    "    KP = Khipu(subnetworks[x[0]])\n",
    "    KP.build_khipu(WV)\n",
    "    KP.plot_khipu_diagram()\n"
   ]
  },
  {
   "cell_type": "markdown",
   "metadata": {},
   "source": [
    "# Summary\n",
    "\n",
    "This notebook demonstrates the internal data structures of khipu and basic visualization plots."
   ]
  }
 ],
 "metadata": {
  "kernelspec": {
   "display_name": "Python 3",
   "language": "python",
   "name": "python3"
  },
  "language_info": {
   "codemirror_mode": {
    "name": "ipython",
    "version": 3
   },
   "file_extension": ".py",
   "mimetype": "text/x-python",
   "name": "python",
   "nbconvert_exporter": "python",
   "pygments_lexer": "ipython3",
   "version": "3.7.3"
  }
 },
 "nbformat": 4,
 "nbformat_minor": 2
}
