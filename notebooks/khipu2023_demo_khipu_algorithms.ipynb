{
 "cells": [
  {
   "cell_type": "markdown",
   "metadata": {},
   "source": [
    "# Demo of khipu algorithms\n",
    "\n",
    "- Goal: quick illustration of the khipu algorithm\n",
    "- Citation: Li, S. and Zheng, S., 2023. Generalized tree structure to annotate untargeted metabolomics and stable isotope tracing data. Analytical chemistry, 95(15), pp.6212-6217. (https://pubs.acs.org/doi/10.1021/acs.analchem.2c05810)\n",
    "- Original repo: https://github.com/shuzhao-li-lab/khipu\n"
   ]
  },
  {
   "cell_type": "code",
   "execution_count": 7,
   "metadata": {},
   "outputs": [
    {
     "name": "stdout",
     "output_type": "stream",
     "text": [
      "Collecting khipu-metabolomics\n",
      "  Downloading https://files.pythonhosted.org/packages/c9/9e/c464dc50410278c0b4b8c853fcd3fd402dc4a9b923b57a753fa59d4d2e69/khipu_metabolomics-0.4.13-py3-none-any.whl\n",
      "Requirement already satisfied, skipping upgrade: treelib in /opt/conda/lib/python3.7/site-packages (from khipu-metabolomics) (1.6.1)\n",
      "Requirement already satisfied, skipping upgrade: mass2chem in /opt/conda/lib/python3.7/site-packages (from khipu-metabolomics) (0.4.1)\n",
      "Requirement already satisfied, skipping upgrade: networkx in /opt/conda/lib/python3.7/site-packages (from khipu-metabolomics) (2.3)\n",
      "Requirement already satisfied, skipping upgrade: future in /opt/conda/lib/python3.7/site-packages (from treelib->khipu-metabolomics) (0.18.2)\n",
      "Requirement already satisfied, skipping upgrade: scipy in /opt/conda/lib/python3.7/site-packages (from mass2chem->khipu-metabolomics) (1.3.1)\n",
      "Requirement already satisfied, skipping upgrade: numpy in /opt/conda/lib/python3.7/site-packages (from mass2chem->khipu-metabolomics) (1.17.2)\n",
      "Requirement already satisfied, skipping upgrade: decorator>=4.3.0 in /opt/conda/lib/python3.7/site-packages (from networkx->khipu-metabolomics) (4.4.0)\n",
      "Installing collected packages: khipu-metabolomics\n",
      "  Found existing installation: khipu-metabolomics 0.4.12\n",
      "    Uninstalling khipu-metabolomics-0.4.12:\n",
      "      Successfully uninstalled khipu-metabolomics-0.4.12\n",
      "Successfully installed khipu-metabolomics-0.4.13\n"
     ]
    }
   ],
   "source": [
    "!pip install --upgrade khipu-metabolomics"
   ]
  },
  {
   "cell_type": "code",
   "execution_count": 8,
   "metadata": {},
   "outputs": [],
   "source": [
    "import matplotlib.pyplot as plt\n",
    "import pandas as pd\n",
    "from khipu.extended import *"
   ]
  },
  {
   "cell_type": "code",
   "execution_count": 9,
   "metadata": {},
   "outputs": [
    {
     "name": "stdout",
     "output_type": "stream",
     "text": [
      "[(21.982, 'Na/H'), (41.026549, 'ACN'), (35.9767, 'HCl'), (37.955882, 'K/H')] \n",
      "\n",
      "[(1.003355, '13C/12C', (0, 0.8)), (2.00671, '13C/12C*2', (0, 0.8)), (3.010065, '13C/12C*3', (0, 0.8)), (4.01342, '13C/12C*4', (0, 0.8)), (5.016775, '13C/12C*5', (0, 0.8)), (6.02013, '13C/12C*6', (0, 0.8)), (7.023485, '13C/12C*7', (0, 0.8)), (8.02684, '13C/12C*8', (0, 0.8)), (9.030195, '13C/12C*9', (0, 0.8)), (10.03355, '13C/12C*10', (0, 0.8)), (11.036905, '13C/12C*11', (0, 0.8)), (12.04026, '13C/12C*12', (0, 0.8))] \n",
      "\n",
      "[(1.0078, 'H'), (10.991, 'Na/H, double charged'), (0.5017, '13C/12C, double charged'), (17.02655, 'NH3'), (18.0106, 'H2O'), (18.033823, 'M+NH4'), (27.01089904, 'HCN'), (37.94694, 'Ca/H2'), (32.026215, 'MeOH'), (43.96389, 'Na2/H2'), (67.987424, 'NaCOOH'), (83.961361, 'KCOOH'), (97.96737927, 'H2SO4'), (97.97689507, 'H3PO4')] \n",
      "\n"
     ]
    }
   ],
   "source": [
    "for x in (adduct_search_patterns, isotope_search_patterns, extended_adducts):\n",
    "    print(x, '\\n')"
   ]
  },
  {
   "cell_type": "code",
   "execution_count": 10,
   "metadata": {},
   "outputs": [
    {
     "name": "stdout",
     "output_type": "stream",
     "text": [
      "Working on file  ecoli_pos.tsv\n",
      "table header looks like:  ['id_number', 'mz', 'rtime', '12C_Ecoli_20220321_004', '12C_Ecoli_20220321_004_20220322095030', '12C_Ecoli_20220321_004_20220322130235', '13C_Ecoli_20220321_004', '13C_Ecoli_20220321_004_20220322132355', '13C_Ecoli_20220321_004_20220322101150']\n",
      "Read 3602 feature lines\n"
     ]
    }
   ],
   "source": [
    "# Read 12C data via khipu\n",
    "subnetworks, peak_dict, edge_dict = local_read_file(\n",
    "    \"ecoli_pos.tsv\", \n",
    "    start_col=3,\n",
    "    end_col=9,\n",
    "    isotope_search_patterns=isotope_search_patterns, \n",
    "    adduct_search_patterns=adduct_search_patterns,\n",
    "    mz_tolerance_ppm=5,\n",
    "    rt_tolerance=1,\n",
    ")"
   ]
  },
  {
   "cell_type": "code",
   "execution_count": 11,
   "metadata": {},
   "outputs": [
    {
     "name": "stdout",
     "output_type": "stream",
     "text": [
      "[(3, 9), (27, 30), (50, 14), (81, 10), (82, 9), (118, 13), (171, 9), (183, 9), (228, 11)]\n"
     ]
    }
   ],
   "source": [
    "sizes = [n.number_of_nodes() for n in subnetworks]\n",
    "list_sizes = [\n",
    "    (ii, sizes[ii]) for ii in range(len(sizes)) if sizes[ii] > 8\n",
    "]\n",
    "print(list_sizes)"
   ]
  },
  {
   "cell_type": "code",
   "execution_count": 22,
   "metadata": {},
   "outputs": [
    {
     "name": "stdout",
     "output_type": "stream",
     "text": [
      "['F1507', 'F1685', 'F1741', 'F1461', 'F1434', 'F1454', 'F1331', 'F2353', 'F3209', 'F1550', 'F1397', 'F3269', 'F1883']\n"
     ]
    }
   ],
   "source": [
    "for G in subnetworks:\n",
    "    if \"F2353\" in G.nodes():\n",
    "        print(G.nodes())\n",
    "        #print(G.edges(data=True))"
   ]
  },
  {
   "cell_type": "code",
   "execution_count": 20,
   "metadata": {},
   "outputs": [
    {
     "data": {
      "text/plain": [
       "NodeView(('F1507', 'F1685', 'F1741', 'F1461', 'F1434', 'F1454', 'F1331', 'F2353', 'F3209', 'F1550', 'F1397', 'F3269', 'F1883'))"
      ]
     },
     "execution_count": 20,
     "metadata": {},
     "output_type": "execute_result"
    }
   ],
   "source": [
    "subnetworks[118].nodes()"
   ]
  },
  {
   "cell_type": "code",
   "execution_count": 23,
   "metadata": {},
   "outputs": [
    {
     "data": {
      "text/plain": [
       "('F1507', 'F1397', {'type': 'isotope', 'tag': '13C/12C*3'})"
      ]
     },
     "execution_count": 23,
     "metadata": {},
     "output_type": "execute_result"
    }
   ],
   "source": [
    "list(subnetworks[118].edges(data=True))[1]"
   ]
  },
  {
   "cell_type": "code",
   "execution_count": 24,
   "metadata": {},
   "outputs": [
    {
     "name": "stdout",
     "output_type": "stream",
     "text": [
      "[('F1507', 'F1331', 'isotope'), ('F1507', 'F1397', 'isotope'), ('F1507', 'F1434', 'isotope'), ('F1507', 'F1461', 'isotope'), ('F1507', 'F1550', 'isotope'), ('F1507', 'F1685', 'isotope'), ('F1507', 'F1741', 'isotope'), ('F1507', 'F2353', 'isotope'), ('F1685', 'F1331', 'isotope'), ('F1685', 'F1397', 'isotope'), ('F1685', 'F1434', 'isotope'), ('F1685', 'F1461', 'isotope'), ('F1685', 'F1550', 'isotope'), ('F1685', 'F1741', 'isotope'), ('F1685', 'F2353', 'isotope'), ('F1741', 'F1331', 'isotope'), ('F1741', 'F1397', 'isotope'), ('F1741', 'F1434', 'isotope'), ('F1741', 'F1461', 'isotope'), ('F1741', 'F1550', 'isotope'), ('F1741', 'F2353', 'isotope'), ('F1741', 'F1454', 'modification'), ('F1741', 'F1883', 'modification'), ('F1461', 'F1331', 'isotope'), ('F1461', 'F1397', 'isotope'), ('F1461', 'F1434', 'isotope'), ('F1461', 'F1550', 'isotope'), ('F1461', 'F2353', 'isotope'), ('F1434', 'F1331', 'isotope'), ('F1434', 'F1397', 'isotope'), ('F1434', 'F1550', 'isotope'), ('F1434', 'F2353', 'isotope'), ('F1454', 'F3209', 'isotope'), ('F1331', 'F1397', 'isotope'), ('F1331', 'F1550', 'isotope'), ('F1331', 'F2353', 'isotope'), ('F2353', 'F1397', 'isotope'), ('F2353', 'F1550', 'isotope'), ('F2353', 'F3209', 'modification'), ('F2353', 'F3269', 'modification'), ('F1550', 'F1397', 'isotope'), ('F3269', 'F1883', 'isotope')]\n"
     ]
    }
   ],
   "source": [
    "edges = []\n",
    "for e in subnetworks[118].edges(data=True):\n",
    "    edges.append((e[0], e[1], e[2]['type']))\n",
    "    \n",
    "print(edges)"
   ]
  },
  {
   "cell_type": "code",
   "execution_count": 21,
   "metadata": {},
   "outputs": [
    {
     "name": "stderr",
     "output_type": "stream",
     "text": [
      "/opt/conda/lib/python3.7/site-packages/networkx/drawing/nx_pylab.py:579: MatplotlibDeprecationWarning: \n",
      "The iterable function was deprecated in Matplotlib 3.1 and will be removed in 3.3. Use np.iterable instead.\n",
      "  if not cb.iterable(width):\n"
     ]
    },
    {
     "data": {
      "image/png": "[encoded data removed]",
      "text/plain": [
       "<Figure size 432x288 with 1 Axes>"
      ]
     },
     "metadata": {},
     "output_type": "display_data"
    }
   ],
   "source": [
    "nx.draw(subnetworks[118], node_size=1200, node_color='g', linewidths=2, with_labels=1, alpha=0.5)"
   ]
  },
  {
   "cell_type": "code",
   "execution_count": 25,
   "metadata": {},
   "outputs": [],
   "source": [
    "s = \"source\\ttarget\\ttype\\n\"\n",
    "for e in edges:\n",
    "    s += '\\t'.join(e) + '\\n'\n",
    "with open('G118_network.txt', 'w') as O:\n",
    "    O.write(s)"
   ]
  },
  {
   "cell_type": "code",
   "execution_count": 31,
   "metadata": {},
   "outputs": [],
   "source": [
    "# initiate Weavor class\n",
    "WV = Weavor(peak_dict, isotope_search_patterns, adduct_search_patterns, \n",
    "                mz_tolerance_ppm=5, mode='pos')\n",
    "# print(WV.mzgrid)"
   ]
  },
  {
   "cell_type": "code",
   "execution_count": 30,
   "metadata": {},
   "outputs": [
    {
     "data": {
      "text/html": [
       "<div>\n",
       "<style scoped>\n",
       "    .dataframe tbody tr th:only-of-type {\n",
       "        vertical-align: middle;\n",
       "    }\n",
       "\n",
       "    .dataframe tbody tr th {\n",
       "        vertical-align: top;\n",
       "    }\n",
       "\n",
       "    .dataframe thead th {\n",
       "        text-align: right;\n",
       "    }\n",
       "</style>\n",
       "<table border=\"1\" class=\"dataframe\">\n",
       "  <thead>\n",
       "    <tr style=\"text-align: right;\">\n",
       "      <th></th>\n",
       "      <th>M+H+</th>\n",
       "      <th>Na/H</th>\n",
       "      <th>HCl</th>\n",
       "      <th>K/H</th>\n",
       "      <th>ACN</th>\n",
       "    </tr>\n",
       "  </thead>\n",
       "  <tbody>\n",
       "    <tr>\n",
       "      <td>M0</td>\n",
       "      <td>1.007276</td>\n",
       "      <td>22.989276</td>\n",
       "      <td>36.983976</td>\n",
       "      <td>38.963158</td>\n",
       "      <td>42.033825</td>\n",
       "    </tr>\n",
       "    <tr>\n",
       "      <td>13C/12C</td>\n",
       "      <td>2.010631</td>\n",
       "      <td>23.992631</td>\n",
       "      <td>37.987331</td>\n",
       "      <td>39.966513</td>\n",
       "      <td>43.037180</td>\n",
       "    </tr>\n",
       "    <tr>\n",
       "      <td>13C/12C*2</td>\n",
       "      <td>3.013986</td>\n",
       "      <td>24.995986</td>\n",
       "      <td>38.990686</td>\n",
       "      <td>40.969868</td>\n",
       "      <td>44.040535</td>\n",
       "    </tr>\n",
       "    <tr>\n",
       "      <td>13C/12C*3</td>\n",
       "      <td>4.017341</td>\n",
       "      <td>25.999341</td>\n",
       "      <td>39.994041</td>\n",
       "      <td>41.973223</td>\n",
       "      <td>45.043890</td>\n",
       "    </tr>\n",
       "    <tr>\n",
       "      <td>13C/12C*4</td>\n",
       "      <td>5.020696</td>\n",
       "      <td>27.002696</td>\n",
       "      <td>40.997396</td>\n",
       "      <td>42.976578</td>\n",
       "      <td>46.047245</td>\n",
       "    </tr>\n",
       "    <tr>\n",
       "      <td>13C/12C*5</td>\n",
       "      <td>6.024051</td>\n",
       "      <td>28.006051</td>\n",
       "      <td>42.000751</td>\n",
       "      <td>43.979933</td>\n",
       "      <td>47.050600</td>\n",
       "    </tr>\n",
       "    <tr>\n",
       "      <td>13C/12C*6</td>\n",
       "      <td>7.027406</td>\n",
       "      <td>29.009406</td>\n",
       "      <td>43.004106</td>\n",
       "      <td>44.983288</td>\n",
       "      <td>48.053955</td>\n",
       "    </tr>\n",
       "    <tr>\n",
       "      <td>13C/12C*7</td>\n",
       "      <td>8.030761</td>\n",
       "      <td>30.012761</td>\n",
       "      <td>44.007461</td>\n",
       "      <td>45.986643</td>\n",
       "      <td>49.057310</td>\n",
       "    </tr>\n",
       "    <tr>\n",
       "      <td>13C/12C*8</td>\n",
       "      <td>9.034116</td>\n",
       "      <td>31.016116</td>\n",
       "      <td>45.010816</td>\n",
       "      <td>46.989998</td>\n",
       "      <td>50.060665</td>\n",
       "    </tr>\n",
       "    <tr>\n",
       "      <td>13C/12C*9</td>\n",
       "      <td>10.037471</td>\n",
       "      <td>32.019471</td>\n",
       "      <td>46.014171</td>\n",
       "      <td>47.993353</td>\n",
       "      <td>51.064020</td>\n",
       "    </tr>\n",
       "    <tr>\n",
       "      <td>13C/12C*10</td>\n",
       "      <td>11.040826</td>\n",
       "      <td>33.022826</td>\n",
       "      <td>47.017526</td>\n",
       "      <td>48.996708</td>\n",
       "      <td>52.067375</td>\n",
       "    </tr>\n",
       "    <tr>\n",
       "      <td>13C/12C*11</td>\n",
       "      <td>12.044181</td>\n",
       "      <td>34.026181</td>\n",
       "      <td>48.020881</td>\n",
       "      <td>50.000063</td>\n",
       "      <td>53.070730</td>\n",
       "    </tr>\n",
       "    <tr>\n",
       "      <td>13C/12C*12</td>\n",
       "      <td>13.047536</td>\n",
       "      <td>35.029536</td>\n",
       "      <td>49.024236</td>\n",
       "      <td>51.003418</td>\n",
       "      <td>54.074085</td>\n",
       "    </tr>\n",
       "  </tbody>\n",
       "</table>\n",
       "</div>"
      ],
      "text/plain": [
       "                 M+H+       Na/H        HCl        K/H        ACN\n",
       "M0           1.007276  22.989276  36.983976  38.963158  42.033825\n",
       "13C/12C      2.010631  23.992631  37.987331  39.966513  43.037180\n",
       "13C/12C*2    3.013986  24.995986  38.990686  40.969868  44.040535\n",
       "13C/12C*3    4.017341  25.999341  39.994041  41.973223  45.043890\n",
       "13C/12C*4    5.020696  27.002696  40.997396  42.976578  46.047245\n",
       "13C/12C*5    6.024051  28.006051  42.000751  43.979933  47.050600\n",
       "13C/12C*6    7.027406  29.009406  43.004106  44.983288  48.053955\n",
       "13C/12C*7    8.030761  30.012761  44.007461  45.986643  49.057310\n",
       "13C/12C*8    9.034116  31.016116  45.010816  46.989998  50.060665\n",
       "13C/12C*9   10.037471  32.019471  46.014171  47.993353  51.064020\n",
       "13C/12C*10  11.040826  33.022826  47.017526  48.996708  52.067375\n",
       "13C/12C*11  12.044181  34.026181  48.020881  50.000063  53.070730\n",
       "13C/12C*12  13.047536  35.029536  49.024236  51.003418  54.074085"
      ]
     },
     "execution_count": 30,
     "metadata": {},
     "output_type": "execute_result"
    }
   ],
   "source": [
    "WV.mzgrid"
   ]
  },
  {
   "cell_type": "code",
   "execution_count": 27,
   "metadata": {},
   "outputs": [],
   "source": [
    "KP = khipu_diagnosis(subnetworks[118])\n",
    "KP.build_khipu(WV)"
   ]
  },
  {
   "cell_type": "code",
   "execution_count": 28,
   "metadata": {},
   "outputs": [
    {
     "name": "stdout",
     "output_type": "stream",
     "text": [
      "nodes_to_use:  ['F1507', 'F1685', 'F1741', 'F1461', 'F1434', 'F1454', 'F1331', 'F2353', 'F3209', 'F1550', 'F1397', 'F3269', 'F1883']\n",
      "redundant_nodes:  []\n"
     ]
    }
   ],
   "source": [
    "KP.show_trimming()"
   ]
  },
  {
   "cell_type": "code",
   "execution_count": 29,
   "metadata": {},
   "outputs": [
    {
     "name": "stdout",
     "output_type": "stream",
     "text": [
      "Aligned khipu tree: \n",
      "187.1686\n",
      "├── ACN\n",
      "├── HCl\n",
      "├── K/H\n",
      "│   ├── 226.1318@21.5\n",
      "│   └── 235.1621@21.5\n",
      "├── M+H+\n",
      "│   ├── 188.1759@20.6\n",
      "│   ├── 189.1792@20.6\n",
      "│   ├── 190.1826@20.6\n",
      "│   ├── 191.1859@20.6\n",
      "│   ├── 192.1893@20.8\n",
      "│   ├── 193.1927@20.8\n",
      "│   ├── 194.196@20.8\n",
      "│   ├── 196.2028@20.8\n",
      "│   └── 197.2061@20.6\n",
      "└── Na/H\n",
      "    ├── 210.1578@20.6\n",
      "    └── 219.1881@21.3\n",
      "\n"
     ]
    }
   ],
   "source": [
    "KP.build_khipu_tree()"
   ]
  },
  {
   "cell_type": "markdown",
   "metadata": {},
   "source": [
    "# Summary\n",
    "\n",
    "Networks are ported to txt files and visualized in CytoScape."
   ]
  }
 ],
 "metadata": {
  "kernelspec": {
   "display_name": "Python 3",
   "language": "python",
   "name": "python3"
  },
  "language_info": {
   "codemirror_mode": {
    "name": "ipython",
    "version": 3
   },
   "file_extension": ".py",
   "mimetype": "text/x-python",
   "name": "python",
   "nbconvert_exporter": "python",
   "pygments_lexer": "ipython3",
   "version": "3.7.3"
  }
 },
 "nbformat": 4,
 "nbformat_minor": 2
}
