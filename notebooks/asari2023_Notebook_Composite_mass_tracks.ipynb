{
 "cells": [
  {
   "cell_type": "markdown",
   "metadata": {},
   "source": [
    "# Composite mass tracks in asari\n",
    "\n",
    "- Goal: illustration of the concept of composite mass tracks in asari\n",
    "- Citation: Li, S., Siddiqa, A., Thapa, M., Chi, Y. and Zheng, S., 2023. Trackable and scalable LC-MS metabolomics data processing using asari. Nature Communications, 14(1), p.4113. (https://www.nature.com/articles/s41467-023-39889-1)\n",
    "- Original repo: https://github.com/shuzhao-li-lab/asari\n",
    "\n",
    "### Background\n",
    "Similar set of peaks are presenet across samples. Instead of doing peak detection in each sample, their signals are combined into a composite mass track per m/z region and peak detection is done on the composite mass tracks.\n",
    "This greatly improves computing efficiency for large studies, reduces errors in peak correspondence across samples, and results in better peak detection for weak signals.\n",
    "The result can be negatively affected by bad retention time alignment. But retention time alignment is a separate problem, and it does not have more impact to the asari approach than to XCMS or other approaches.\n",
    "\n",
    "The demo data are MT01 dataset, processed as:\n",
    "\n",
    "`>>> asari process --input /Users/shuzhao/bulk/MT01 --output MT01 --ppm 5`"
   ]
  },
  {
   "cell_type": "code",
   "execution_count": 1,
   "metadata": {},
   "outputs": [],
   "source": [
    "import os\n",
    "import pickle\n",
    "import pandas as pd\n",
    "import matplotlib.pyplot as plt\n",
    "\n",
    "datadir = 'asari_project_MT01_51162751'"
   ]
  },
  {
   "cell_type": "markdown",
   "metadata": {},
   "source": [
    "Directory structure:\n",
    "```\n",
    "    asari_project_MT01_51162751\n",
    "    ├── Annotated_empricalCompounds.json\n",
    "    ├── Feature_annotation.tsv\n",
    "    ├── export\n",
    "    │   ├── _mass_grid_mapping.csv\n",
    "    │   ├── cmap.pickle\n",
    "    │   ├── full_Feature_table.tsv\n",
    "    │   └── unique_compound__Feature_table.tsv\n",
    "    ├── pickle\n",
    "    │   ├── Blank_20210803_003.pickle\n",
    "    │   ├── Blank_20210803_005.pickle\n",
    "    │   ├── MSplate10_pgpB_b1278_G5_platePN_rep2_HEAT_GEIII_0-829_1125.pickle\n",
    "    │   ├── MT_20210803_003K-Qstd.pickle\n",
    "    │   ├── MT_20210803_005-NIST.pickle\n",
    "    │   ├── MT_20210803_051.pickle\n",
    "    │   ├── MT_20210803_089-Qstd.pickle\n",
    "    │   ├── MT_20210803_091.pickle\n",
    "    │   ├── MT_20210803_139.pickle\n",
    "    │   └── MT_20210803_181.pickle\n",
    "    ├── preferred_Feature_table.tsv\n",
    "    └── project.json\n",
    "```"
   ]
  },
  {
   "cell_type": "code",
   "execution_count": 2,
   "metadata": {},
   "outputs": [],
   "source": [
    "# load composite map\n",
    "cmap = pickle.load( open(os.path.join(datadir, 'export', 'cmap.pickle'), 'rb') )"
   ]
  },
  {
   "cell_type": "code",
   "execution_count": 3,
   "metadata": {},
   "outputs": [
    {
     "data": {
      "text/plain": [
       "dict_keys(['_number_of_samples_', 'rt_length', 'dict_scan_rtime', 'list_mass_tracks', 'MassGrid'])"
      ]
     },
     "execution_count": 3,
     "metadata": {},
     "output_type": "execute_result"
    }
   ],
   "source": [
    "cmap.keys()"
   ]
  },
  {
   "cell_type": "code",
   "execution_count": 4,
   "metadata": {},
   "outputs": [
    {
     "data": {
      "text/plain": [
       "{'id_number': 583,\n",
       " 'mz': 137.04570511938525,\n",
       " 'intensity': array([106967,  64100,  65847, ...,      0,      0,      0])}"
      ]
     },
     "execution_count": 4,
     "metadata": {},
     "output_type": "execute_result"
    }
   ],
   "source": [
    "# example mass track\n",
    "cmap['list_mass_tracks'][583]"
   ]
  },
  {
   "cell_type": "code",
   "execution_count": 5,
   "metadata": {},
   "outputs": [],
   "source": [
    "def plotk(track, color='m', start=100, end=400, yticks=[0, 5e7, 1e8]):\n",
    "    plt.figure(figsize=(8, 4))\n",
    "    X = range(start, end)\n",
    "    Y = track['intensity'][start: end]\n",
    "    plt.plot(X, Y, color=color, marker='o', markersize=4, linestyle='dashed')\n",
    "    plt.yticks(yticks)"
   ]
  },
  {
   "cell_type": "markdown",
   "metadata": {},
   "source": [
    "### We plot out composite track 583 as an example\n",
    "\n",
    "The composite plot shows signals cumulated from all samples."
   ]
  },
  {
   "cell_type": "code",
   "execution_count": 6,
   "metadata": {},
   "outputs": [
    {
     "data": {
      "image/png": "[encoded data removed]",
      "text/plain": [
       "<Figure size 576x288 with 1 Axes>"
      ]
     },
     "metadata": {
      "needs_background": "light"
     },
     "output_type": "display_data"
    }
   ],
   "source": [
    "plotk(cmap['list_mass_tracks'][583], color='k', start=00, end=1000, yticks=[0, 2e8])"
   ]
  },
  {
   "cell_type": "markdown",
   "metadata": {},
   "source": [
    "The composite mass tracks in CMAP are cumulated signals from all samples. \n",
    "\n",
    "**Now we look up how a composite mass track corresponds to the mass track in individual samples.**"
   ]
  },
  {
   "cell_type": "code",
   "execution_count": 7,
   "metadata": {},
   "outputs": [
    {
     "data": {
      "text/html": [
       "<div>\n",
       "<style scoped>\n",
       "    .dataframe tbody tr th:only-of-type {\n",
       "        vertical-align: middle;\n",
       "    }\n",
       "\n",
       "    .dataframe tbody tr th {\n",
       "        vertical-align: top;\n",
       "    }\n",
       "\n",
       "    .dataframe thead th {\n",
       "        text-align: right;\n",
       "    }\n",
       "</style>\n",
       "<table border=\"1\" class=\"dataframe\">\n",
       "  <thead>\n",
       "    <tr style=\"text-align: right;\">\n",
       "      <th></th>\n",
       "      <th>mz</th>\n",
       "      <th>Blank_20210803_003</th>\n",
       "      <th>Blank_20210803_005</th>\n",
       "      <th>MSplate10_pgpB_b1278_G5_platePN_rep2_HEAT_GEIII_0-829_1125</th>\n",
       "      <th>MT_20210803_003K-Qstd</th>\n",
       "      <th>MT_20210803_005-NIST</th>\n",
       "      <th>MT_20210803_051</th>\n",
       "      <th>MT_20210803_089-Qstd</th>\n",
       "      <th>MT_20210803_091</th>\n",
       "      <th>MT_20210803_139</th>\n",
       "      <th>MT_20210803_181</th>\n",
       "    </tr>\n",
       "  </thead>\n",
       "  <tbody>\n",
       "    <tr>\n",
       "      <td>0</td>\n",
       "      <td>80.947788</td>\n",
       "      <td>NaN</td>\n",
       "      <td>NaN</td>\n",
       "      <td>NaN</td>\n",
       "      <td>0.0</td>\n",
       "      <td>1.0</td>\n",
       "      <td>0.0</td>\n",
       "      <td>0.0</td>\n",
       "      <td>0.0</td>\n",
       "      <td>0.0</td>\n",
       "      <td>0.0</td>\n",
       "    </tr>\n",
       "    <tr>\n",
       "      <td>1</td>\n",
       "      <td>80.987470</td>\n",
       "      <td>NaN</td>\n",
       "      <td>NaN</td>\n",
       "      <td>NaN</td>\n",
       "      <td>NaN</td>\n",
       "      <td>NaN</td>\n",
       "      <td>NaN</td>\n",
       "      <td>1.0</td>\n",
       "      <td>1.0</td>\n",
       "      <td>NaN</td>\n",
       "      <td>NaN</td>\n",
       "    </tr>\n",
       "    <tr>\n",
       "      <td>2</td>\n",
       "      <td>80.988352</td>\n",
       "      <td>NaN</td>\n",
       "      <td>1.0</td>\n",
       "      <td>NaN</td>\n",
       "      <td>1.0</td>\n",
       "      <td>2.0</td>\n",
       "      <td>1.0</td>\n",
       "      <td>2.0</td>\n",
       "      <td>2.0</td>\n",
       "      <td>1.0</td>\n",
       "      <td>1.0</td>\n",
       "    </tr>\n",
       "    <tr>\n",
       "      <td>3</td>\n",
       "      <td>81.044663</td>\n",
       "      <td>0.0</td>\n",
       "      <td>2.0</td>\n",
       "      <td>NaN</td>\n",
       "      <td>2.0</td>\n",
       "      <td>3.0</td>\n",
       "      <td>2.0</td>\n",
       "      <td>3.0</td>\n",
       "      <td>3.0</td>\n",
       "      <td>2.0</td>\n",
       "      <td>2.0</td>\n",
       "    </tr>\n",
       "    <tr>\n",
       "      <td>4</td>\n",
       "      <td>81.520508</td>\n",
       "      <td>1.0</td>\n",
       "      <td>3.0</td>\n",
       "      <td>NaN</td>\n",
       "      <td>3.0</td>\n",
       "      <td>4.0</td>\n",
       "      <td>3.0</td>\n",
       "      <td>4.0</td>\n",
       "      <td>4.0</td>\n",
       "      <td>3.0</td>\n",
       "      <td>3.0</td>\n",
       "    </tr>\n",
       "    <tr>\n",
       "      <td>...</td>\n",
       "      <td>...</td>\n",
       "      <td>...</td>\n",
       "      <td>...</td>\n",
       "      <td>...</td>\n",
       "      <td>...</td>\n",
       "      <td>...</td>\n",
       "      <td>...</td>\n",
       "      <td>...</td>\n",
       "      <td>...</td>\n",
       "      <td>...</td>\n",
       "      <td>...</td>\n",
       "    </tr>\n",
       "    <tr>\n",
       "      <td>13850</td>\n",
       "      <td>886.632497</td>\n",
       "      <td>NaN</td>\n",
       "      <td>NaN</td>\n",
       "      <td>NaN</td>\n",
       "      <td>NaN</td>\n",
       "      <td>NaN</td>\n",
       "      <td>NaN</td>\n",
       "      <td>NaN</td>\n",
       "      <td>NaN</td>\n",
       "      <td>NaN</td>\n",
       "      <td>6863.0</td>\n",
       "    </tr>\n",
       "    <tr>\n",
       "      <td>13851</td>\n",
       "      <td>959.518341</td>\n",
       "      <td>NaN</td>\n",
       "      <td>NaN</td>\n",
       "      <td>NaN</td>\n",
       "      <td>NaN</td>\n",
       "      <td>NaN</td>\n",
       "      <td>NaN</td>\n",
       "      <td>NaN</td>\n",
       "      <td>NaN</td>\n",
       "      <td>NaN</td>\n",
       "      <td>6917.0</td>\n",
       "    </tr>\n",
       "    <tr>\n",
       "      <td>13852</td>\n",
       "      <td>986.504486</td>\n",
       "      <td>NaN</td>\n",
       "      <td>NaN</td>\n",
       "      <td>NaN</td>\n",
       "      <td>NaN</td>\n",
       "      <td>NaN</td>\n",
       "      <td>NaN</td>\n",
       "      <td>NaN</td>\n",
       "      <td>NaN</td>\n",
       "      <td>NaN</td>\n",
       "      <td>6924.0</td>\n",
       "    </tr>\n",
       "    <tr>\n",
       "      <td>13853</td>\n",
       "      <td>997.624420</td>\n",
       "      <td>NaN</td>\n",
       "      <td>NaN</td>\n",
       "      <td>NaN</td>\n",
       "      <td>NaN</td>\n",
       "      <td>NaN</td>\n",
       "      <td>NaN</td>\n",
       "      <td>NaN</td>\n",
       "      <td>NaN</td>\n",
       "      <td>NaN</td>\n",
       "      <td>6932.0</td>\n",
       "    </tr>\n",
       "    <tr>\n",
       "      <td>13854</td>\n",
       "      <td>203.324853</td>\n",
       "      <td>NaN</td>\n",
       "      <td>NaN</td>\n",
       "      <td>NaN</td>\n",
       "      <td>NaN</td>\n",
       "      <td>NaN</td>\n",
       "      <td>NaN</td>\n",
       "      <td>NaN</td>\n",
       "      <td>NaN</td>\n",
       "      <td>NaN</td>\n",
       "      <td>6945.0</td>\n",
       "    </tr>\n",
       "  </tbody>\n",
       "</table>\n",
       "<p>13855 rows × 11 columns</p>\n",
       "</div>"
      ],
      "text/plain": [
       "               mz  Blank_20210803_003  Blank_20210803_005  \\\n",
       "0       80.947788                 NaN                 NaN   \n",
       "1       80.987470                 NaN                 NaN   \n",
       "2       80.988352                 NaN                 1.0   \n",
       "3       81.044663                 0.0                 2.0   \n",
       "4       81.520508                 1.0                 3.0   \n",
       "...           ...                 ...                 ...   \n",
       "13850  886.632497                 NaN                 NaN   \n",
       "13851  959.518341                 NaN                 NaN   \n",
       "13852  986.504486                 NaN                 NaN   \n",
       "13853  997.624420                 NaN                 NaN   \n",
       "13854  203.324853                 NaN                 NaN   \n",
       "\n",
       "       MSplate10_pgpB_b1278_G5_platePN_rep2_HEAT_GEIII_0-829_1125  \\\n",
       "0                                                    NaN            \n",
       "1                                                    NaN            \n",
       "2                                                    NaN            \n",
       "3                                                    NaN            \n",
       "4                                                    NaN            \n",
       "...                                                  ...            \n",
       "13850                                                NaN            \n",
       "13851                                                NaN            \n",
       "13852                                                NaN            \n",
       "13853                                                NaN            \n",
       "13854                                                NaN            \n",
       "\n",
       "       MT_20210803_003K-Qstd  MT_20210803_005-NIST  MT_20210803_051  \\\n",
       "0                        0.0                   1.0              0.0   \n",
       "1                        NaN                   NaN              NaN   \n",
       "2                        1.0                   2.0              1.0   \n",
       "3                        2.0                   3.0              2.0   \n",
       "4                        3.0                   4.0              3.0   \n",
       "...                      ...                   ...              ...   \n",
       "13850                    NaN                   NaN              NaN   \n",
       "13851                    NaN                   NaN              NaN   \n",
       "13852                    NaN                   NaN              NaN   \n",
       "13853                    NaN                   NaN              NaN   \n",
       "13854                    NaN                   NaN              NaN   \n",
       "\n",
       "       MT_20210803_089-Qstd  MT_20210803_091  MT_20210803_139  MT_20210803_181  \n",
       "0                       0.0              0.0              0.0              0.0  \n",
       "1                       1.0              1.0              NaN              NaN  \n",
       "2                       2.0              2.0              1.0              1.0  \n",
       "3                       3.0              3.0              2.0              2.0  \n",
       "4                       4.0              4.0              3.0              3.0  \n",
       "...                     ...              ...              ...              ...  \n",
       "13850                   NaN              NaN              NaN           6863.0  \n",
       "13851                   NaN              NaN              NaN           6917.0  \n",
       "13852                   NaN              NaN              NaN           6924.0  \n",
       "13853                   NaN              NaN              NaN           6932.0  \n",
       "13854                   NaN              NaN              NaN           6945.0  \n",
       "\n",
       "[13855 rows x 11 columns]"
      ]
     },
     "execution_count": 7,
     "metadata": {},
     "output_type": "execute_result"
    }
   ],
   "source": [
    "# read CMAP - the file _mass_grid_mapping.csv records how mass tracks are mapped \n",
    "# Same information is stored as dictionaries in cmap['MassGrid']\n",
    "cmap = pd.read_csv(os.path.join(datadir, 'export', '_mass_grid_mapping.csv'), index_col=0)\n",
    "cmap"
   ]
  },
  {
   "cell_type": "code",
   "execution_count": 8,
   "metadata": {},
   "outputs": [],
   "source": [
    "# Use 3 samples for illustrration\n",
    "myfiles = ['MT_20210803_089-Qstd', 'MT_20210803_139', 'MT_20210803_181']"
   ]
  },
  {
   "cell_type": "code",
   "execution_count": 9,
   "metadata": {},
   "outputs": [
    {
     "data": {
      "text/plain": [
       "MT_20210803_089-Qstd    583.0\n",
       "MT_20210803_139         588.0\n",
       "MT_20210803_181         572.0\n",
       "Name: 583, dtype: float64"
      ]
     },
     "execution_count": 9,
     "metadata": {},
     "output_type": "execute_result"
    }
   ],
   "source": [
    "cmap[myfiles].iloc[583, :]"
   ]
  },
  {
   "cell_type": "markdown",
   "metadata": {},
   "source": [
    "The above cell shows the mass track number in each sample in myfiles, corresponding to number 583 in the composoite map.\n",
    "\n",
    "They should be integer. Pandas loads as float because we didn't ask it to force dtype.\n",
    "\n",
    "Next, we load mass tracks from each of the three samples from intermedaite pickle files asari saved during processing."
   ]
  },
  {
   "cell_type": "code",
   "execution_count": 10,
   "metadata": {},
   "outputs": [],
   "source": [
    "data = []\n",
    "for f in myfiles:\n",
    "    with open(os.path.join(datadir, 'pickle', f+'.pickle'), 'rb') as O:\n",
    "        data.append(pickle.load( O ))\n",
    "    "
   ]
  },
  {
   "cell_type": "code",
   "execution_count": 11,
   "metadata": {},
   "outputs": [
    {
     "data": {
      "text/plain": [
       "dict_keys(['sample_id', 'input_file', 'ion_mode', 'max_scan_number', 'list_mass_tracks', 'anchor_mz_pairs', 'number_anchor_mz_pairs'])"
      ]
     },
     "execution_count": 11,
     "metadata": {},
     "output_type": "execute_result"
    }
   ],
   "source": [
    "# check what's in the first sample data\n",
    "data[0].keys()"
   ]
  },
  {
   "cell_type": "code",
   "execution_count": 12,
   "metadata": {},
   "outputs": [
    {
     "data": {
      "image/png": "[encoded data removed]",
      "text/plain": [
       "<Figure size 576x288 with 1 Axes>"
      ]
     },
     "metadata": {
      "needs_background": "light"
     },
     "output_type": "display_data"
    }
   ],
   "source": [
    "# first sample, MT_20210803_089-Qstd\n",
    "plotk(data[0]['list_mass_tracks'][583],\n",
    "              color='m', start=100, end=400, yticks=[0, 0.5e8, 1e8])"
   ]
  },
  {
   "cell_type": "code",
   "execution_count": 13,
   "metadata": {},
   "outputs": [
    {
     "data": {
      "image/png": "[encoded data removed]",
      "text/plain": [
       "<Figure size 576x288 with 1 Axes>"
      ]
     },
     "metadata": {
      "needs_background": "light"
     },
     "output_type": "display_data"
    }
   ],
   "source": [
    "# second sample, MT_20210803_139\n",
    "plotk(data[1]['list_mass_tracks'][588],\n",
    "              color='b', start=100, end=400, yticks=[0, 0.5e8, 1e8])"
   ]
  },
  {
   "cell_type": "code",
   "execution_count": 14,
   "metadata": {},
   "outputs": [
    {
     "data": {
      "image/png": "[encoded data removed]",
      "text/plain": [
       "<Figure size 576x288 with 1 Axes>"
      ]
     },
     "metadata": {
      "needs_background": "light"
     },
     "output_type": "display_data"
    }
   ],
   "source": [
    "# third sample, MT_20210803_181\n",
    "plotk(data[2]['list_mass_tracks'][572],\n",
    "              color='g', start=100, end=400, yticks=[0, 0.5e8, 1e8])"
   ]
  },
  {
   "cell_type": "markdown",
   "metadata": {},
   "source": [
    "### Let's add up the signals from all 3 samples. That's how a composite mass track is constructed.\n",
    "\n",
    "In asari, the sample data go through retention time calibration first. We skip it here."
   ]
  },
  {
   "cell_type": "code",
   "execution_count": 15,
   "metadata": {},
   "outputs": [
    {
     "data": {
      "image/png": "[encoded data removed]",
      "text/plain": [
       "<Figure size 576x288 with 1 Axes>"
      ]
     },
     "metadata": {
      "needs_background": "light"
     },
     "output_type": "display_data"
    }
   ],
   "source": [
    "composite = {'intensity': data[0]['list_mass_tracks'][583]['intensity'][:400] + data[1\n",
    "                                ]['list_mass_tracks'][588]['intensity'][:400] + data[2\n",
    "                                ]['list_mass_tracks'][572]['intensity'][:400] }\n",
    "\n",
    "plotk(composite,\n",
    "              color='k', start=100, end=400, yticks=[0, 1e8])"
   ]
  },
  {
   "cell_type": "markdown",
   "metadata": {},
   "source": [
    "The two peaks here are reported as features F3345 and F3346 on parent track 583.\n",
    "\n",
    "In the asari feature table, there's a third peak due to cumulative signals from other samples on the same track.\n",
    "\n",
    "After peak detection on composite mass tracks, the corresponding regions of each sample are looked up to get peak area values."
   ]
  }
 ],
 "metadata": {
  "kernelspec": {
   "display_name": "Python 3",
   "language": "python",
   "name": "python3"
  },
  "language_info": {
   "codemirror_mode": {
    "name": "ipython",
    "version": 3
   },
   "file_extension": ".py",
   "mimetype": "text/x-python",
   "name": "python",
   "nbconvert_exporter": "python",
   "pygments_lexer": "ipython3",
   "version": "3.7.3"
  }
 },
 "nbformat": 4,
 "nbformat_minor": 2
}
