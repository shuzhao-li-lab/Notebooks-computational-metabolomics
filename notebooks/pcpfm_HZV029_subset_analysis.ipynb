{
 "cells": [
  {
   "cell_type": "markdown",
   "metadata": {},
   "source": [
    "# Analyzing the HZV029 data in asari pipeline\n",
    "\n",
    "- Goal: process and annotate the HZV029 dataset, published in the asari pipeline (pcpfm) paper\n",
    "- Mitchell, J.M., Chi, Y., Thapa, M., Pang, Z., Xia, J. and Li, S., 2024. Common data models to streamline metabolomics processing and annotation, and implementation in a Python pipeline. PLOS Computational Biology, 20(6), p.e1011912. (https://doi.org/10.1371/journal.pcbi.1011912)\n",
    "- Original repo: https://github.com/shuzhao-li-lab/PythonCentricPipelineForMetabolomics\n"
   ]
  },
  {
   "cell_type": "code",
   "execution_count": 3,
   "metadata": {},
   "outputs": [
    {
     "name": "stderr",
     "output_type": "stream",
     "text": [
      "/Users/mitchjo/Library/Python/3.9/lib/python/site-packages/urllib3/__init__.py:34: NotOpenSSLWarning: urllib3 v2 only supports OpenSSL 1.1.1+, currently the 'ssl' module is compiled with 'LibreSSL 2.8.3'. See: https://github.com/urllib3/urllib3/issues/3020\n",
      "  warnings.warn(\n",
      "Retrieving folder list\n",
      "Failed to retrieve folder contents:\n",
      "\n",
      " \tCannot retrieve the folder information from the link. You may need to\n",
      "\tchange the permission to 'Anyone with the link'. \n",
      "\n"
     ]
    }
   ],
   "source": [
    "# lets download the example dataset\n",
    "# you can download the zip from here : https://drive.google.com/file/d/1PikUcw3fyF3AgMjCqp42hyVhEvl4Y5mw/view\n",
    "# lets assume you downloaded it to ~/Downloads/ and unziped it"
   ]
  },
  {
   "cell_type": "code",
   "execution_count": 35,
   "metadata": {},
   "outputs": [],
   "source": [
    "# now we need to make the sequence file as input to the pipeline\n",
    "\n",
    "import pandas as pd\n",
    "import os\n",
    "\n",
    "HZV029_subset_sequence = []\n",
    "downloads_path = os.path.abspath(os.path.expanduser(\"~/Downloads/HZV029_subset/\"))\n",
    "for f in os.listdir(downloads_path):\n",
    "    file_path = os.path.join(downloads_path, f)\n",
    "    filename = os.path.basename(file_path).rstrip(\".mzML\")\n",
    "    HZV029_subset_sequence.append({\n",
    "        \"Filepath\": file_path,\n",
    "        \"File Name\": filename,\n",
    "        \"Method\": \"Unknown\",\n",
    "        \"Sample Type\": \"Unknown\"\n",
    "    })\n",
    "pd.DataFrame(HZV029_subset_sequence).to_csv(\"HZV029_subset_sequence.csv\", index=False)\n"
   ]
  },
  {
   "cell_type": "code",
   "execution_count": 42,
   "metadata": {},
   "outputs": [
    {
     "data": {
      "text/plain": [
       "'/Users/mitchjo/pcpfm_tutorials/notebooks'"
      ]
     },
     "execution_count": 42,
     "metadata": {},
     "output_type": "execute_result"
    }
   ],
   "source": [
    "# the below block will run the pcpfm analysis. This relies upon python3 being on your $PATH.\n",
    "\n",
    "# if not, you will need to open the terminal and cd to this directory:\n",
    "\n",
    "os.getcwd()\n",
    "\n",
    "# run the command to add it to $PATH and do it manually using the commands below:\n",
    "\n",
    "# else you can use the block below to do it 'inline'"
   ]
  },
  {
   "cell_type": "code",
   "execution_count": 40,
   "metadata": {
    "vscode": {
     "languageId": "shellscript"
    }
   },
   "outputs": [
    {
     "name": "stderr",
     "output_type": "stream",
     "text": [
      "/Users/mitchjo/Library/Python/3.9/lib/python/site-packages/urllib3/__init__.py:34: NotOpenSSLWarning: urllib3 v2 only supports OpenSSL 1.1.1+, currently the 'ssl' module is compiled with 'LibreSSL 2.8.3'. See: https://github.com/urllib3/urllib3/issues/3020\n",
      "  warnings.warn(\n",
      "/Users/mitchjo/Library/Python/3.9/lib/python/site-packages/urllib3/__init__.py:34: NotOpenSSLWarning: urllib3 v2 only supports OpenSSL 1.1.1+, currently the 'ssl' module is compiled with 'LibreSSL 2.8.3'. See: https://github.com/urllib3/urllib3/issues/3020\n",
      "  warnings.warn(\n",
      "/Users/mitchjo/Library/Python/3.9/lib/python/site-packages/urllib3/__init__.py:34: NotOpenSSLWarning: urllib3 v2 only supports OpenSSL 1.1.1+, currently the 'ssl' module is compiled with 'LibreSSL 2.8.3'. See: https://github.com/urllib3/urllib3/issues/3020\n",
      "  warnings.warn(\n"
     ]
    },
    {
     "name": "stdout",
     "output_type": "stream",
     "text": [
      "\n",
      "\n",
      "~~~~~~~ Hello from Asari (1.12.8) ~~~~~~~~~\n",
      "\n",
      "Working on ~~ /Users/mitchjo/pcpfm_tutorials/notebooks/HZV029_subset/converted_acquisitions/ ~~ \n",
      "\n",
      "\n"
     ]
    },
    {
     "name": "stderr",
     "output_type": "stream",
     "text": [
      "/Users/mitchjo/Library/Python/3.9/lib/python/site-packages/urllib3/__init__.py:34: NotOpenSSLWarning: urllib3 v2 only supports OpenSSL 1.1.1+, currently the 'ssl' module is compiled with 'LibreSSL 2.8.3'. See: https://github.com/urllib3/urllib3/issues/3020\n",
      "  warnings.warn(\n",
      "/Users/mitchjo/Library/Python/3.9/lib/python/site-packages/urllib3/__init__.py:34: NotOpenSSLWarning: urllib3 v2 only supports OpenSSL 1.1.1+, currently the 'ssl' module is compiled with 'LibreSSL 2.8.3'. See: https://github.com/urllib3/urllib3/issues/3020\n",
      "  warnings.warn(\n",
      "/Users/mitchjo/Library/Python/3.9/lib/python/site-packages/urllib3/__init__.py:34: NotOpenSSLWarning: urllib3 v2 only supports OpenSSL 1.1.1+, currently the 'ssl' module is compiled with 'LibreSSL 2.8.3'. See: https://github.com/urllib3/urllib3/issues/3020\n",
      "  warnings.warn(\n",
      "/Users/mitchjo/Library/Python/3.9/lib/python/site-packages/urllib3/__init__.py:34: NotOpenSSLWarning: urllib3 v2 only supports OpenSSL 1.1.1+, currently the 'ssl' module is compiled with 'LibreSSL 2.8.3'. See: https://github.com/urllib3/urllib3/issues/3020\n",
      "  warnings.warn(\n",
      "/Users/mitchjo/Library/Python/3.9/lib/python/site-packages/urllib3/__init__.py:34: NotOpenSSLWarning: urllib3 v2 only supports OpenSSL 1.1.1+, currently the 'ssl' module is compiled with 'LibreSSL 2.8.3'. See: https://github.com/urllib3/urllib3/issues/3020\n",
      "  warnings.warn(\n"
     ]
    },
    {
     "name": "stdout",
     "output_type": "stream",
     "text": [
      "Extracted batch13_MT_20210807_139.mzML to 3305 mass tracks.\n",
      "Extracted batch10_MT_20210804_007.mzML to 3553 mass tracks.\n",
      "Extracted batch10_MT_20210804_173.mzML to 3836 mass tracks.\n",
      "Extracted batch11_MT_20210805_003.mzML to 3849 mass tracks.\n",
      "Extracted batch17_MT_20210811_187.mzML to 3371 mass tracks.\n",
      "Extracted batch5_MT_20210730_007.mzML to 3434 mass tracks.\n",
      "Extracted batch7_MT_20210801_003C.mzML to 3910 mass tracks.\n",
      "Extracted batch6_MT_20210731_003K.mzML to 3957 mass tracks.\n",
      "Extracted batch8_MT_20210802_189.mzML to 3987 mass tracks.\n",
      "Extracted batch9_MT_20210803_007.mzML to 3474 mass tracks.\n",
      "\n",
      "    The reference sample is:\n",
      "    ||* batch6_MT_20210731_003K *||\n",
      "\n",
      "Max reference retention time is 299.75 at scan number 779.\n",
      "\n",
      "Constructing MassGrid, ...\n",
      "Adding sample to MassGrid, batch10_MT_20210804_007\n",
      "    mapped pairs = 1067 / 3553 \n",
      "Adding sample to MassGrid, batch10_MT_20210804_173\n",
      "    mapped pairs = 3075 / 3836 \n",
      "Adding sample to MassGrid, batch11_MT_20210805_003\n",
      "    mapped pairs = 3569 / 3849 \n",
      "Adding sample to MassGrid, batch13_MT_20210807_139\n",
      "    mapped pairs = 2972 / 3305 \n",
      "Adding sample to MassGrid, batch17_MT_20210811_187\n",
      "    mapped pairs = 3188 / 3371 \n",
      "Adding sample to MassGrid, batch5_MT_20210730_007\n",
      "    mapped pairs = 3126 / 3434 \n",
      "Adding sample to MassGrid, batch7_MT_20210801_003C\n",
      "    mapped pairs = 3685 / 3910 \n",
      "Adding sample to MassGrid, batch8_MT_20210802_189\n",
      "    mapped pairs = 3756 / 3987 \n",
      "Adding sample to MassGrid, batch9_MT_20210803_007\n",
      "    mapped pairs = 3360 / 3474 \n",
      "\n",
      "Building composite mass tracks and calibrating retention time ...\n",
      "\n",
      "    batch6_MT_20210731_003K\n",
      "\t\tgood_reference_landmark_peaks:  480\n",
      "    batch10_MT_20210804_007\n",
      "\tgood_landmark_peaks:  91\n",
      "    batch10_MT_20210804_173\n",
      "\tgood_landmark_peaks:  332\n",
      "    batch11_MT_20210805_003\n",
      "\tgood_landmark_peaks:  348\n",
      "    batch13_MT_20210807_139\n",
      "\tgood_landmark_peaks:  253\n",
      "    batch17_MT_20210811_187\n",
      "\tgood_landmark_peaks:  322\n",
      "    batch5_MT_20210730_007\n",
      "\tgood_landmark_peaks:  267\n",
      "    batch7_MT_20210801_003C\n",
      "\tgood_landmark_peaks:  411\n",
      "    batch8_MT_20210802_189\n",
      "\tgood_landmark_peaks:  204\n",
      "    batch9_MT_20210803_007\n",
      "\tgood_landmark_peaks:  116\n",
      "\n",
      "Peak detection on 8878 composite mass tracks, ...\n",
      "\n"
     ]
    },
    {
     "name": "stderr",
     "output_type": "stream",
     "text": [
      "/Users/mitchjo/Library/Python/3.9/lib/python/site-packages/urllib3/__init__.py:34: NotOpenSSLWarning: urllib3 v2 only supports OpenSSL 1.1.1+, currently the 'ssl' module is compiled with 'LibreSSL 2.8.3'. See: https://github.com/urllib3/urllib3/issues/3020\n",
      "  warnings.warn(\n",
      "/Users/mitchjo/Library/Python/3.9/lib/python/site-packages/urllib3/__init__.py:34: NotOpenSSLWarning: urllib3 v2 only supports OpenSSL 1.1.1+, currently the 'ssl' module is compiled with 'LibreSSL 2.8.3'. See: https://github.com/urllib3/urllib3/issues/3020\n",
      "  warnings.warn(\n",
      "/Users/mitchjo/Library/Python/3.9/lib/python/site-packages/urllib3/__init__.py:34: NotOpenSSLWarning: urllib3 v2 only supports OpenSSL 1.1.1+, currently the 'ssl' module is compiled with 'LibreSSL 2.8.3'. See: https://github.com/urllib3/urllib3/issues/3020\n",
      "  warnings.warn(\n",
      "/Users/mitchjo/Library/Python/3.9/lib/python/site-packages/urllib3/__init__.py:34: NotOpenSSLWarning: urllib3 v2 only supports OpenSSL 1.1.1+, currently the 'ssl' module is compiled with 'LibreSSL 2.8.3'. See: https://github.com/urllib3/urllib3/issues/3020\n",
      "  warnings.warn(\n",
      "/Users/mitchjo/Library/Python/3.9/lib/python/site-packages/urllib3/__init__.py:34: NotOpenSSLWarning: urllib3 v2 only supports OpenSSL 1.1.1+, currently the 'ssl' module is compiled with 'LibreSSL 2.8.3'. See: https://github.com/urllib3/urllib3/issues/3020\n",
      "  warnings.warn(\n"
     ]
    },
    {
     "name": "stdout",
     "output_type": "stream",
     "text": [
      "Mass accuracy was estimated on 319 matched values as 0.4 ppm.\n",
      "\n",
      "\n",
      "Multiple charges considered: [1, 2, 3]\n",
      "\n",
      "\n",
      "Khipu search grid: \n",
      "               M+H+       Na/H        HCl        K/H        ACN\n",
      "M0         1.007276  22.989276  36.983976  38.963158  42.033825\n",
      "13C/12C    2.010631  23.992631  37.987331  39.966513  43.037180\n",
      "13C/12C*2  3.013986  24.995986  38.990686  40.969868  44.040535\n",
      "Downsized input network with 16 features, highest peak at F9151 \n",
      "Downsized input network with 18 features, highest peak at F9694 \n",
      "Downsized input network with 17 features, highest peak at F10266 \n",
      "Downsized input network with 19 features, highest peak at F11978 \n",
      "Downsized input network with 25 features, highest peak at F7169 \n",
      "Constructed 2061 khipus in this round.\n",
      "\n",
      "\n",
      "Khipu search grid: \n",
      "                       M+H+, 2x charged  ...  ACN, 2x charged\n",
      "M0                             0.503638  ...        21.520551\n",
      "13C/12C, 2x charged            1.005316  ...        22.022228\n",
      "13C/12C*2, 2x charged          1.506993  ...        22.523906\n",
      "\n",
      "[3 rows x 5 columns]\n",
      "Constructed 127 khipus in this round.\n",
      "\n",
      "\n",
      "Khipu search grid: \n",
      "                       M+H+, 3x charged  ...  ACN, 3x charged\n",
      "M0                             0.335759  ...        14.682793\n",
      "13C/12C, 3x charged            0.670210  ...        15.017244\n",
      "13C/12C*2, 3x charged          1.004662  ...        15.351696\n",
      "\n",
      "[3 rows x 5 columns]\n",
      "Constructed 42 khipus in this round.\n",
      "\n",
      "\n",
      "\n",
      "\n",
      " ~~~~~~ Got 2230 khipus, with 6645 features ~~~~~~~ \n",
      "\n",
      "\n",
      "\n",
      "Annotation of 9098 Empirical compounds was written to /Users/mitchjo/pcpfm_tutorials/notebooks/HZV029_subset/asari_asari_project_214112746/Feature_annotation.tsv.\n",
      "\n",
      "\n",
      "\n",
      "Feature table (12716 x 10) was written to /Users/mitchjo/pcpfm_tutorials/notebooks/HZV029_subset/asari_asari_project_214112746/export/full_Feature_table.tsv.\n",
      "\n",
      "Filtered Feature table (8463 x 10) was written to /Users/mitchjo/pcpfm_tutorials/notebooks/HZV029_subset/asari_asari_project_214112746/preferred_Feature_table.tsv.\n",
      "\n",
      "Unique compound table (5763 x 10) was written to /Users/mitchjo/pcpfm_tutorials/notebooks/HZV029_subset/asari_asari_project_214112746/export/unique_compound__Feature_table.tsv.\n",
      "\n"
     ]
    },
    {
     "name": "stderr",
     "output_type": "stream",
     "text": [
      "/Users/mitchjo/Library/Python/3.9/lib/python/site-packages/urllib3/__init__.py:34: NotOpenSSLWarning: urllib3 v2 only supports OpenSSL 1.1.1+, currently the 'ssl' module is compiled with 'LibreSSL 2.8.3'. See: https://github.com/urllib3/urllib3/issues/3020\n",
      "  warnings.warn(\n"
     ]
    },
    {
     "name": "stdout",
     "output_type": "stream",
     "text": [
      "\n",
      "\n",
      "Multiple charges considered: [1, 2, 3]\n",
      "\n",
      "\n",
      "Khipu search grid: \n",
      "               M+H+       Na/H        HCl        K/H        ACN\n",
      "M0         1.007276  22.989276  36.983976  38.963158  42.033825\n",
      "13C/12C    2.010631  23.992631  37.987331  39.966513  43.037180\n",
      "13C/12C*2  3.013986  24.995986  38.990686  40.969868  44.040535\n",
      "13C/12C*3  4.017341  25.999341  39.994041  41.973223  45.043890\n",
      "Downsized input network with 23 features, highest peak at F7737 \n",
      "Downsized input network with 27 features, highest peak at F7759 \n",
      "Constructed 2097 khipus in this round.\n",
      "\n",
      "\n",
      "Khipu search grid: \n",
      "                       M+H+, 2x charged  ...  ACN, 2x charged\n",
      "M0                             0.503638  ...        21.520551\n",
      "13C/12C, 2x charged            1.005316  ...        22.022228\n",
      "13C/12C*2, 2x charged          1.506993  ...        22.523906\n",
      "13C/12C*3, 2x charged          2.008671  ...        23.025583\n",
      "\n",
      "[4 rows x 5 columns]\n",
      "Constructed 117 khipus in this round.\n",
      "\n",
      "\n",
      "Khipu search grid: \n",
      "                       M+H+, 3x charged  ...  ACN, 3x charged\n",
      "M0                             0.335759  ...        14.682793\n",
      "13C/12C, 3x charged            0.670210  ...        15.017244\n",
      "13C/12C*2, 3x charged          1.004662  ...        15.351696\n",
      "13C/12C*3, 3x charged          1.339114  ...        15.686148\n",
      "\n",
      "[4 rows x 5 columns]\n",
      "Constructed 40 khipus in this round.\n",
      "\n",
      "\n",
      "\n",
      "\n",
      " ~~~~~~ Got 2254 khipus, with 7211 features ~~~~~~~ \n",
      "\n",
      "\n"
     ]
    },
    {
     "name": "stderr",
     "output_type": "stream",
     "text": [
      "/Users/mitchjo/Library/Python/3.9/lib/python/site-packages/urllib3/__init__.py:34: NotOpenSSLWarning: urllib3 v2 only supports OpenSSL 1.1.1+, currently the 'ssl' module is compiled with 'LibreSSL 2.8.3'. See: https://github.com/urllib3/urllib3/issues/3020\n",
      "  warnings.warn(\n"
     ]
    }
   ],
   "source": [
    "%%bash\n",
    "\n",
    "pcpfm assemble -s HZV029_subset_sequence.csv -j HZV029_subset -o .\n",
    "pcpfm asari -i HZV029_subset\n",
    "pcpfm build_empCpds -i HZV029_subset -tm full -em full\n",
    "pcpfm l4_annotate -i HZV029_subset -em full -nm full_w_l4"
   ]
  },
  {
   "cell_type": "code",
   "execution_count": 34,
   "metadata": {
    "vscode": {
     "languageId": "shellscript"
    }
   },
   "outputs": [
    {
     "name": "stderr",
     "output_type": "stream",
     "text": [
      "/Users/mitchjo/Library/Python/3.9/lib/python/site-packages/urllib3/__init__.py:34: NotOpenSSLWarning: urllib3 v2 only supports OpenSSL 1.1.1+, currently the 'ssl' module is compiled with 'LibreSSL 2.8.3'. See: https://github.com/urllib3/urllib3/issues/3020\n",
      "  warnings.warn(\n"
     ]
    },
    {
     "name": "stdout",
     "output_type": "stream",
     "text": [
      "[]\n",
      "Failure Executing Method: pca\n",
      "Found array with 0 sample(s) (shape=(0, 8463)) while a minimum of 1 is required by StandardScaler.\n",
      "Unable to processes section: \n",
      " {'section': 'figure', 'table': 'preferred', 'name': 'pca'}\n",
      "Failure Executing Method: pearson\n",
      "negative dimensions are not allowed\n",
      "Unable to processes section: \n",
      " {'section': 'figure', 'table': 'preferred', 'name': 'pearson_correlation'}\n",
      "[]\n",
      "Failure Executing Method: pca\n",
      "Found array with 0 sample(s) (shape=(0, 12716)) while a minimum of 1 is required by StandardScaler.\n",
      "Unable to processes section: \n",
      " {'section': 'figure', 'table': 'full', 'name': 'pca'}\n",
      "Failure Executing Method: pearson\n",
      "negative dimensions are not allowed\n",
      "Unable to processes section: \n",
      " {'section': 'figure', 'table': 'full', 'name': 'pearson_correlation'}\n",
      "No such table:  for_analysis\n",
      "Unable to processes section: \n",
      " {'section': 'figure', 'table': 'for_analysis', 'name': 'pca'}\n",
      "No such table:  for_analysis\n",
      "Unable to processes section: \n",
      " {'section': 'figure', 'table': 'for_analysis', 'name': 'pearson_correlation'}\n",
      "No such table:  for_analysis\n",
      "Unable to processes section: \n",
      " {'section': 'figure', 'table': 'for_analysis', 'name': 'spearman_corrlation'}\n",
      "No such table:  for_analysis\n",
      "Unable to processes section: \n",
      " {'section': 'figure', 'table': 'for_analysis', 'name': 'log_tics.png'}\n",
      "No such table:  for_analysis\n",
      "Unable to processes section: \n",
      " {'section': 'figure', 'table': 'for_analysis', 'name': 'feature_count_z_scores'}\n"
     ]
    }
   ],
   "source": [
    "%%bash\n",
    "\n",
    "pcpfm report -i HZV029_subset\n"
   ]
  },
  {
   "cell_type": "code",
   "execution_count": 43,
   "metadata": {},
   "outputs": [
    {
     "name": "stdout",
     "output_type": "stream",
     "text": [
      "/Users/mitchjo/pcpfm_tutorials/notebooks/HZV029_subset/output/report.pdf\n"
     ]
    }
   ],
   "source": [
    "# now you can open the report at:\n",
    "\n",
    "print(os.path.abspath(\"./HZV029_subset/output/report.pdf\"))"
   ]
  },
  {
   "cell_type": "code",
   "execution_count": 52,
   "metadata": {},
   "outputs": [
    {
     "name": "stdout",
     "output_type": "stream",
     "text": [
      "Total Features:  8463\n",
      "Total Samples:  21\n"
     ]
    }
   ],
   "source": [
    "# now lets summarize some features:\n",
    "\n",
    "import json\n",
    "experiment = json.load(open(\"./HZV029_subset/experiment.json\"))\n",
    "preferred_ft = pd.read_csv(experiment[\"feature_tables\"][\"preferred\"], sep=\"\\t\")\n",
    "print(\"Total Features: \", preferred_ft.shape[0])\n",
    "print(\"Total Samples: \", preferred_ft.shape[1])\n",
    "\n"
   ]
  },
  {
   "cell_type": "code",
   "execution_count": 63,
   "metadata": {},
   "outputs": [
    {
     "name": "stdout",
     "output_type": "stream",
     "text": [
      "Num empcpds: 2254\n",
      "Num empcpds w/ l4 annots:  1092\n"
     ]
    }
   ],
   "source": [
    "# now lets move on to empCpds and annotations:\n",
    "\n",
    "empcpd = json.load(open(experiment[\"empCpds\"][\"full_w_l4\"]))\n",
    "print(\"Num empcpds:\", len(empcpd))\n",
    "l4_annotated = 0\n",
    "for x in empcpd.values():\n",
    "    if \"Level_4\" in x and x[\"Level_4\"]:\n",
    "        l4_annotated += 1\n",
    "print(\"Num empcpds w/ l4 annots: \", l4_annotated)\n",
    "\n"
   ]
  },
  {
   "cell_type": "code",
   "execution_count": null,
   "metadata": {},
   "outputs": [],
   "source": []
  }
 ],
 "metadata": {
  "kernelspec": {
   "display_name": "Python 3",
   "language": "python",
   "name": "python3"
  },
  "language_info": {
   "codemirror_mode": {
    "name": "ipython",
    "version": 3
   },
   "file_extension": ".py",
   "mimetype": "text/x-python",
   "name": "python",
   "nbconvert_exporter": "python",
   "pygments_lexer": "ipython3",
   "version": "3.9.6"
  }
 },
 "nbformat": 4,
 "nbformat_minor": 2
}
