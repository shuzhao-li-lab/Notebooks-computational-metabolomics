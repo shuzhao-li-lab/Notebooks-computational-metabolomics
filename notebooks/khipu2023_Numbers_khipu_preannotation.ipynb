{
 "cells": [
  {
   "cell_type": "markdown",
   "metadata": {},
   "source": [
    "# Numbers of features and empirical compounds by khipu preannotation\n",
    "\n",
    "- Goal: data analysis to calculate number of empirical compounds in the khipu paper\n",
    "- Citation: Li, S. and Zheng, S., 2023. Generalized tree structure to annotate untargeted metabolomics and stable isotope tracing data. Analytical chemistry, 95(15), pp.6212-6217. (https://pubs.acs.org/doi/10.1021/acs.analchem.2c05810)\n",
    "- Original repo: https://github.com/shuzhao-li-lab/khipu\n",
    "\n",
    "Three datasets: \n",
    "- ecoli_pos.tsv      \n",
    "- yeast_pos_full.tsv\n",
    "- yeast_neg.tsv (no 13C labeling)     \n",
    "\n",
    "We will examine how many empirical compounds are in each dataset."
   ]
  },
  {
   "cell_type": "code",
   "execution_count": 1,
   "metadata": {},
   "outputs": [
    {
     "name": "stdout",
     "output_type": "stream",
     "text": [
      "Requirement already up-to-date: khipu-metabolomics in /opt/conda/lib/python3.7/site-packages (0.4.14)\n",
      "Requirement already satisfied, skipping upgrade: networkx in /opt/conda/lib/python3.7/site-packages (from khipu-metabolomics) (2.3)\n",
      "Requirement already satisfied, skipping upgrade: mass2chem in /opt/conda/lib/python3.7/site-packages (from khipu-metabolomics) (0.4.1)\n",
      "Requirement already satisfied, skipping upgrade: treelib in /opt/conda/lib/python3.7/site-packages (from khipu-metabolomics) (1.6.1)\n",
      "Requirement already satisfied, skipping upgrade: decorator>=4.3.0 in /opt/conda/lib/python3.7/site-packages (from networkx->khipu-metabolomics) (4.4.0)\n",
      "Requirement already satisfied, skipping upgrade: scipy in /opt/conda/lib/python3.7/site-packages (from mass2chem->khipu-metabolomics) (1.3.1)\n",
      "Requirement already satisfied, skipping upgrade: numpy in /opt/conda/lib/python3.7/site-packages (from mass2chem->khipu-metabolomics) (1.17.2)\n",
      "Requirement already satisfied, skipping upgrade: future in /opt/conda/lib/python3.7/site-packages (from treelib->khipu-metabolomics) (0.18.2)\n"
     ]
    }
   ],
   "source": [
    "!pip install --upgrade khipu-metabolomics"
   ]
  },
  {
   "cell_type": "code",
   "execution_count": 2,
   "metadata": {},
   "outputs": [],
   "source": [
    "from khipu.extended import *"
   ]
  },
  {
   "cell_type": "code",
   "execution_count": 3,
   "metadata": {},
   "outputs": [
    {
     "name": "stdout",
     "output_type": "stream",
     "text": [
      "[(21.982, 'Na/H'), (41.026549, 'ACN'), (35.9767, 'HCl'), (37.955882, 'K/H')] \n",
      "\n",
      "[(1.003355, '13C/12C', (0, 0.8)), (2.00671, '13C/12C*2', (0, 0.8)), (3.010065, '13C/12C*3', (0, 0.8)), (4.01342, '13C/12C*4', (0, 0.8)), (5.016775, '13C/12C*5', (0, 0.8)), (6.02013, '13C/12C*6', (0, 0.8)), (7.023485, '13C/12C*7', (0, 0.8)), (8.02684, '13C/12C*8', (0, 0.8)), (9.030195, '13C/12C*9', (0, 0.8)), (10.03355, '13C/12C*10', (0, 0.8)), (11.036905, '13C/12C*11', (0, 0.8)), (12.04026, '13C/12C*12', (0, 0.8))] \n",
      "\n",
      "[(1.0078, 'H'), (-1.0078, '-H'), (10.991, 'Na/H, double charged'), (0.5017, '13C/12C, double charged'), (117.02655, '-NH3'), (17.02655, 'NH3'), (-18.0106, '-H2O'), (18.0106, 'H2O'), (18.033823, 'NH4'), (27.01089904, 'HCN'), (37.94694, 'Ca/H2'), (32.026215, 'MeOH'), (43.96389, 'Na2/H2'), (67.987424, 'NaCOOH'), (83.961361, 'KCOOH'), (97.96737927, 'H2SO4'), (97.97689507, 'H3PO4')] \n",
      "\n"
     ]
    }
   ],
   "source": [
    "for x in (adduct_search_patterns, isotope_search_patterns, extended_adducts):\n",
    "    print(x, '\\n')"
   ]
  },
  {
   "cell_type": "markdown",
   "metadata": {},
   "source": [
    "## Part I. E. coli pos data\n"
   ]
  },
  {
   "cell_type": "code",
   "execution_count": 4,
   "metadata": {},
   "outputs": [
    {
     "name": "stdout",
     "output_type": "stream",
     "text": [
      "table header looks like:  ['id_number', 'mz', 'rtime', '12C_Ecoli_20220321_004', '12C_Ecoli_20220321_004_20220322095030', '12C_Ecoli_20220321_004_20220322130235']\n",
      "Read 3602 feature lines\n"
     ]
    }
   ],
   "source": [
    "# 12C data\n",
    "peaklist1 = read_features_from_text(open(\"ecoli_pos.tsv\").read(),\n",
    "                    id_col=0, mz_col=1, rtime_col=2, intensity_cols=(3, 6), delimiter=\"\\t\")"
   ]
  },
  {
   "cell_type": "code",
   "execution_count": 5,
   "metadata": {},
   "outputs": [
    {
     "name": "stdout",
     "output_type": "stream",
     "text": [
      "2973\n"
     ]
    }
   ],
   "source": [
    "# filter out peaks of 0 intensity\n",
    "peaklist1 = [p for p in peaklist1 if p['representative_intensity'] > 1]\n",
    "print(len(peaklist1))"
   ]
  },
  {
   "cell_type": "code",
   "execution_count": 6,
   "metadata": {},
   "outputs": [
    {
     "name": "stdout",
     "output_type": "stream",
     "text": [
      "table header looks like:  ['id_number', 'mz', 'rtime', '12C_Ecoli_20220321_004', '12C_Ecoli_20220321_004_20220322095030', '12C_Ecoli_20220321_004_20220322130235', '13C_Ecoli_20220321_004', '13C_Ecoli_20220321_004_20220322132355', '13C_Ecoli_20220321_004_20220322101150']\n",
      "Read 3602 feature lines\n"
     ]
    }
   ],
   "source": [
    "# 13C data\n",
    "peaklist2 = read_features_from_text(open(\"ecoli_pos.tsv\").read(),\n",
    "                    id_col=0, mz_col=1, rtime_col=2, intensity_cols=(6, 9), delimiter=\"\\t\")"
   ]
  },
  {
   "cell_type": "code",
   "execution_count": 7,
   "metadata": {},
   "outputs": [
    {
     "name": "stdout",
     "output_type": "stream",
     "text": [
      "3231\n"
     ]
    }
   ],
   "source": [
    "# filter out peaks of 0 intensity\n",
    "peaklist2 = [p for p in peaklist2 if p['representative_intensity'] > 1]\n",
    "print(len(peaklist2))"
   ]
  },
  {
   "cell_type": "code",
   "execution_count": 8,
   "metadata": {},
   "outputs": [
    {
     "name": "stdout",
     "output_type": "stream",
     "text": [
      "Warning no match in isotope_pattern:  19.06400000000002\n",
      "Unknown isotope match ~  (161.0962, 'F1913')\n",
      "Warning no match in isotope_pattern:  27.090300000000013\n",
      "Unknown isotope match ~  (169.1225, 'F1182')\n",
      "Warning no match in isotope_pattern:  13.043700000000001\n",
      "Unknown isotope match ~  (176.0708, 'F1657')\n",
      "Warning no match in isotope_pattern:  15.050000000000011\n",
      "Unknown isotope match ~  (291.1191, 'F3517')\n",
      "352 352\n",
      "860\n"
     ]
    }
   ],
   "source": [
    "subnetworks, peak_dict, edge_dict = peaks_to_networks(peaklist1,\n",
    "                    isotope_search_patterns,\n",
    "                    adduct_search_patterns,\n",
    "                    mz_tolerance_ppm=5,\n",
    "                    rt_tolerance=2)\n",
    "\n",
    "WV = Weavor(peak_dict, isotope_search_patterns=isotope_search_patterns, \n",
    "                adduct_search_patterns=adduct_search_patterns, \n",
    "                mz_tolerance_ppm=5, \n",
    "                mode='pos')\n",
    "\n",
    "khipu_list = graphs_to_khipu_list(\n",
    "        subnetworks, WV, mz_tolerance_ppm=5,)\n",
    "\n",
    "print(len(subnetworks), len(khipu_list))\n",
    "\n",
    "list_assigned_peaks = []\n",
    "for KP in khipu_list:\n",
    "    list_assigned_peaks += list(KP.feature_map.keys())\n",
    "    \n",
    "print(len(list_assigned_peaks))"
   ]
  },
  {
   "cell_type": "code",
   "execution_count": 9,
   "metadata": {},
   "outputs": [
    {
     "name": "stdout",
     "output_type": "stream",
     "text": [
      "352 1096\n"
     ]
    }
   ],
   "source": [
    "ext_khipu_list, all_assigned_peaks = extend_khipu_list(khipu_list, peak_dict, \n",
    "                    extended_adducts, mz_tolerance_ppm=5,\n",
    "                    rt_tolerance=2)\n",
    "\n",
    "print(len(ext_khipu_list), len(all_assigned_peaks))"
   ]
  },
  {
   "cell_type": "markdown",
   "metadata": {},
   "source": [
    "**Got 352 empCpds from 12C data. Next to 13C data**"
   ]
  },
  {
   "cell_type": "code",
   "execution_count": 10,
   "metadata": {},
   "outputs": [
    {
     "name": "stdout",
     "output_type": "stream",
     "text": [
      "Warning no match in isotope_pattern:  16.053999999999988\n",
      "Unknown isotope match ~  (137.1188, 'F292')\n",
      "Warning no match in isotope_pattern:  17.057299999999984\n",
      "Unknown isotope match ~  (138.1221, 'F397')\n",
      "Warning no match in isotope_pattern:  15.050899999999984\n",
      "Unknown isotope match ~  (152.1378, 'F1251')\n",
      "Warning no match in isotope_pattern:  16.05419999999998\n",
      "Unknown isotope match ~  (153.1411, 'F1318')\n",
      "Warning no match in isotope_pattern:  15.050899999999984\n",
      "Unknown isotope match ~  (152.1378, 'F1252')\n",
      "Warning no match in isotope_pattern:  16.05419999999998\n",
      "Unknown isotope match ~  (153.1411, 'F1319')\n",
      "Warning no match in isotope_pattern:  16.0539\n",
      "Unknown isotope match ~  (123.1031, 'F570')\n",
      "Warning no match in isotope_pattern:  13.0428\n",
      "Unknown isotope match ~  (181.1392, 'F1967')\n",
      "Warning no match in isotope_pattern:  13.043700000000001\n",
      "Unknown isotope match ~  (176.0708, 'F1657')\n",
      "397 397\n",
      "1030\n"
     ]
    }
   ],
   "source": [
    "subnetworks, peak_dict, edge_dict = peaks_to_networks(peaklist2,\n",
    "                    isotope_search_patterns,\n",
    "                    adduct_search_patterns,\n",
    "                    mz_tolerance_ppm=5,\n",
    "                    rt_tolerance=2)\n",
    "\n",
    "WV = Weavor(peak_dict, isotope_search_patterns=isotope_search_patterns, \n",
    "                adduct_search_patterns=adduct_search_patterns, \n",
    "                mz_tolerance_ppm=5, \n",
    "                mode='pos')\n",
    "\n",
    "khipu_list = graphs_to_khipu_list(\n",
    "        subnetworks, WV, mz_tolerance_ppm=5,)\n",
    "\n",
    "print(len(subnetworks), len(khipu_list))\n",
    "\n",
    "list_assigned_peaks = []\n",
    "for KP in khipu_list:\n",
    "    list_assigned_peaks += list(KP.feature_map.keys())\n",
    "    \n",
    "print(len(list_assigned_peaks))"
   ]
  },
  {
   "cell_type": "code",
   "execution_count": 11,
   "metadata": {},
   "outputs": [
    {
     "name": "stdout",
     "output_type": "stream",
     "text": [
      "397 1294\n"
     ]
    }
   ],
   "source": [
    "ext_khipu_list, all_assigned_peaks = extend_khipu_list(khipu_list, peak_dict, \n",
    "                    extended_adducts, mz_tolerance_ppm=5,\n",
    "                    rt_tolerance=2)\n",
    "\n",
    "print(len(ext_khipu_list), len(all_assigned_peaks))"
   ]
  },
  {
   "cell_type": "markdown",
   "metadata": {},
   "source": [
    "**Got 397 empCpds from 13C data.**\n",
    "\n",
    "The minor difference from 12C data could be from culture media. \n",
    "\n",
    "## We will therefor examine combined 12C/13C numbers "
   ]
  },
  {
   "cell_type": "code",
   "execution_count": 12,
   "metadata": {},
   "outputs": [
    {
     "name": "stdout",
     "output_type": "stream",
     "text": [
      "table header looks like:  ['id_number', 'mz', 'rtime', '12C_Ecoli_20220321_004', '12C_Ecoli_20220321_004_20220322095030', '12C_Ecoli_20220321_004_20220322130235', '13C_Ecoli_20220321_004', '13C_Ecoli_20220321_004_20220322132355', '13C_Ecoli_20220321_004_20220322101150']\n",
      "Read 3602 feature lines\n"
     ]
    }
   ],
   "source": [
    "peaklist = read_features_from_text(open(\"ecoli_pos.tsv\").read(),\n",
    "                    id_col=0, mz_col=1, rtime_col=2, intensity_cols=(3, 9), delimiter=\"\\t\")"
   ]
  },
  {
   "cell_type": "code",
   "execution_count": 13,
   "metadata": {},
   "outputs": [
    {
     "name": "stdout",
     "output_type": "stream",
     "text": [
      "Warning no match in isotope_pattern:  16.053999999999988\n",
      "Unknown isotope match ~  (137.1188, 'F292')\n",
      "Warning no match in isotope_pattern:  17.057299999999984\n",
      "Unknown isotope match ~  (138.1221, 'F397')\n",
      "Warning no match in isotope_pattern:  15.050899999999984\n",
      "Unknown isotope match ~  (152.1378, 'F1251')\n",
      "Warning no match in isotope_pattern:  16.05419999999998\n",
      "Unknown isotope match ~  (153.1411, 'F1318')\n",
      "Warning no match in isotope_pattern:  15.050899999999984\n",
      "Unknown isotope match ~  (152.1378, 'F1252')\n",
      "Warning no match in isotope_pattern:  16.05419999999998\n",
      "Unknown isotope match ~  (153.1411, 'F1319')\n",
      "Warning no match in isotope_pattern:  16.0539\n",
      "Unknown isotope match ~  (123.1031, 'F570')\n",
      "Warning no match in isotope_pattern:  13.0428\n",
      "Unknown isotope match ~  (181.1392, 'F1967')\n",
      "Warning no match in isotope_pattern:  17.05710000000002\n",
      "Unknown isotope match ~  (194.1596, 'F1548')\n",
      "Warning no match in isotope_pattern:  13.043700000000001\n",
      "Unknown isotope match ~  (176.0708, 'F1657')\n",
      "Warning no match in isotope_pattern:  16.053000000000026\n",
      "Unknown isotope match ~  (259.0966, 'F3572')\n",
      "Warning no match in isotope_pattern:  15.050000000000011\n",
      "Unknown isotope match ~  (291.1191, 'F3517')\n",
      "Warning no match in isotope_pattern:  26.086900000000014\n",
      "Unknown isotope match ~  (302.156, 'F2566')\n",
      "Warning no match in isotope_pattern:  37.122299999999996\n",
      "Unknown isotope match ~  (313.1914, 'F3577')\n",
      "Warning no match in isotope_pattern:  14.04480000000001\n",
      "Unknown isotope match ~  (320.1205, 'F2769')\n",
      "Warning no match in isotope_pattern:  13.041999999999973\n",
      "Unknown isotope match ~  (347.0852, 'F3097')\n",
      "Warning no match in isotope_pattern:  22.074899999999957\n",
      "Unknown isotope match ~  (344.1819, 'F3403')\n",
      "Warning no match in isotope_pattern:  19.06310000000002\n",
      "Unknown isotope match ~  (294.1329, 'F2385')\n",
      "548 548\n",
      "1423\n"
     ]
    }
   ],
   "source": [
    "subnetworks, peak_dict, edge_dict = peaks_to_networks(peaklist,\n",
    "                    isotope_search_patterns,\n",
    "                    adduct_search_patterns,\n",
    "                    mz_tolerance_ppm=5,\n",
    "                    rt_tolerance=2)\n",
    "\n",
    "WV = Weavor(peak_dict, isotope_search_patterns=isotope_search_patterns, \n",
    "                adduct_search_patterns=adduct_search_patterns, \n",
    "                mz_tolerance_ppm=5, \n",
    "                mode='pos')\n",
    "\n",
    "khipu_list = graphs_to_khipu_list(\n",
    "        subnetworks, WV, mz_tolerance_ppm=5,)\n",
    "\n",
    "print(len(subnetworks), len(khipu_list))\n",
    "\n",
    "list_assigned_peaks = []\n",
    "for KP in khipu_list:\n",
    "    list_assigned_peaks += list(KP.feature_map.keys())\n",
    "    \n",
    "print(len(list_assigned_peaks))"
   ]
  },
  {
   "cell_type": "code",
   "execution_count": 14,
   "metadata": {},
   "outputs": [
    {
     "name": "stdout",
     "output_type": "stream",
     "text": [
      "548 1745\n"
     ]
    }
   ],
   "source": [
    "ext_khipu_list, all_assigned_peaks = extend_khipu_list(khipu_list, peak_dict, \n",
    "                    extended_adducts, mz_tolerance_ppm=5,\n",
    "                    rt_tolerance=2)\n",
    "\n",
    "print(len(ext_khipu_list), len(all_assigned_peaks))"
   ]
  },
  {
   "cell_type": "code",
   "execution_count": 15,
   "metadata": {},
   "outputs": [
    {
     "data": {
      "text/plain": [
       "{'interim_id': 'root@F479',\n",
       " 'neutral_formula_mass': 138.94452728323,\n",
       " 'neutral_formula': None,\n",
       " 'Database_referred': [],\n",
       " 'identity': [],\n",
       " 'MS1_pseudo_Spectra': [{'id': 'F479',\n",
       "   'mz': 139.9515,\n",
       "   'rtime': 66.69,\n",
       "   'intensities': [1807302.0, 0.0, 0.0, 1866736.0, 1441162.0, 1857060.0],\n",
       "   'representative_intensity': 1162043.3333333333,\n",
       "   'parent_masstrack_id': '139.9515',\n",
       "   'isotope': 'M0',\n",
       "   'modification': 'M+H+',\n",
       "   'ion_relation': 'M0,M+H+'},\n",
       "  {'id': 'F2064',\n",
       "   'mz': 163.9404,\n",
       "   'rtime': 67.91,\n",
       "   'intensities': [1369348.0, 0.0, 49750.0, 1398126.0, 391147.0, 651508.0],\n",
       "   'representative_intensity': 643313.1666666666,\n",
       "   'parent_masstrack_id': '163.9404',\n",
       "   'isotope': '13C/12C*2',\n",
       "   'modification': 'Na/H',\n",
       "   'ion_relation': '13C/12C*2,Na/H'},\n",
       "  {'id': 'F609',\n",
       "   'mz': 141.9587,\n",
       "   'rtime': 68.88,\n",
       "   'intensities': [333247401.0,\n",
       "    286675589.0,\n",
       "    299087145.0,\n",
       "    301648595.0,\n",
       "    311680934.0,\n",
       "    291801881.0],\n",
       "   'representative_intensity': 304023590.8333333,\n",
       "   'parent_masstrack_id': '141.9587',\n",
       "   'isotope': '13C/12C*2',\n",
       "   'modification': 'M+H+',\n",
       "   'ion_relation': '13C/12C*2,M+H+'},\n",
       "  {'id': 'F682',\n",
       "   'mz': 142.9621,\n",
       "   'rtime': 68.65,\n",
       "   'intensities': [2864976.0,\n",
       "    396156.0,\n",
       "    2488617.0,\n",
       "    2809237.0,\n",
       "    3092212.0,\n",
       "    3049680.0],\n",
       "   'representative_intensity': 2450146.3333333335,\n",
       "   'parent_masstrack_id': '142.9621',\n",
       "   'isotope': '13C/12C*3',\n",
       "   'modification': 'M+H+',\n",
       "   'ion_relation': '13C/12C*3,M+H+'}],\n",
       " 'MS2_Spectra': []}"
      ]
     },
     "execution_count": 15,
     "metadata": {},
     "output_type": "execute_result"
    }
   ],
   "source": [
    "khipu_list[55].format_to_epds()"
   ]
  },
  {
   "cell_type": "code",
   "execution_count": 16,
   "metadata": {},
   "outputs": [
    {
     "name": "stdout",
     "output_type": "stream",
     "text": [
      "Number of empCpds with more than 1 isotopes:  445\n"
     ]
    }
   ],
   "source": [
    "has_13C = []\n",
    "for KP in khipu_list:\n",
    "    if len(list(KP.khipu_grid.index)) > 1:\n",
    "        has_13C.append(KP.id)\n",
    "        \n",
    "print(\"Number of empCpds with more than 1 isotopes: \", len(has_13C))"
   ]
  },
  {
   "cell_type": "markdown",
   "metadata": {},
   "source": [
    "**Got 548 empCpds in E.coli pos data.**\n",
    "\n",
    "Extended search annotated 1745 (1423 core) features.\n",
    "\n",
    "Of 548 epmCpds, \n",
    "445 has 13C peaks; 548-445=103 has adducts only.\n",
    "\n",
    "Singletons are 3602 - 1745 = 1857\n",
    "\n",
    "**Almost identical when isotope search used up to 13/12C*12.**\n",
    "\n",
    "(Got 548 khipus, with 1744 features )\n"
   ]
  },
  {
   "cell_type": "markdown",
   "metadata": {},
   "source": [
    "## Part II. Yeast pos data"
   ]
  },
  {
   "cell_type": "code",
   "execution_count": 17,
   "metadata": {},
   "outputs": [
    {
     "name": "stdout",
     "output_type": "stream",
     "text": [
      "table header looks like:  ['id_number', 'mz', 'rtime', 'cSelectivity', 'goodness_fitting', 'snr', 'posi-Yeast-12C14N-a', 'posi-Yeast-12C14N-b', 'posi-Yeast-12C14N-c', 'posi-Yeast-13C14N-a', 'posi-Yeast-13C14N-b', 'posi-Yeast-13C14N-c']\n",
      "Read 14051 feature lines\n"
     ]
    }
   ],
   "source": [
    "peaklist = read_features_from_text(open(\"yeast_pos_full.tsv\").read(),\n",
    "                    id_col=0, mz_col=1, rtime_col=2, intensity_cols=(6, 12), delimiter=\"\\t\")"
   ]
  },
  {
   "cell_type": "code",
   "execution_count": 18,
   "metadata": {},
   "outputs": [
    {
     "name": "stdout",
     "output_type": "stream",
     "text": [
      "Downsized input network with 2542 features, highest peak at F1005 \n",
      "Warning no match in isotope_pattern:  76.06749999999997\n",
      "Unknown isotope match ~  (269.1903, 'F515')\n",
      "Warning no match in isotope_pattern:  92.0257\n",
      "Unknown isotope match ~  (285.1485, 'F1644')\n",
      "Warning no match in isotope_pattern:  92.06219999999999\n",
      "Unknown isotope match ~  (285.185, 'F1684')\n",
      "Warning no match in isotope_pattern:  94.0778\n",
      "Unknown isotope match ~  (287.2006, 'F1856')\n",
      "Warning no match in isotope_pattern:  103.13550000000001\n",
      "Unknown isotope match ~  (296.2583, 'F2593')\n",
      "Warning no match in isotope_pattern:  104.1199\n",
      "Unknown isotope match ~  (297.2427, 'F2646')\n",
      "Warning no match in isotope_pattern:  104.1389\n",
      "Unknown isotope match ~  (297.2617, 'F2658')\n",
      "Warning no match in isotope_pattern:  108.05709999999996\n",
      "Unknown isotope match ~  (301.1799, 'F3031')\n",
      "Warning no match in isotope_pattern:  110.0726\n",
      "Unknown isotope match ~  (303.1954, 'F3227')\n",
      "Warning no match in isotope_pattern:  112.08829999999998\n",
      "Unknown isotope match ~  (305.2111, 'F3359')\n",
      "Warning no match in isotope_pattern:  115.0839\n",
      "Unknown isotope match ~  (308.2067, 'F30')\n",
      "Warning no match in isotope_pattern:  118.04119999999998\n",
      "Unknown isotope match ~  (311.164, 'F206')\n",
      "Warning no match in isotope_pattern:  119.13059999999999\n",
      "Unknown isotope match ~  (312.2534, 'F348')\n",
      "Warning no match in isotope_pattern:  122.0728\n",
      "Unknown isotope match ~  (315.1956, 'F651')\n",
      "Warning no match in isotope_pattern:  127.04740000000001\n",
      "Unknown isotope match ~  (320.1702, 'F1005')\n",
      "Warning no match in isotope_pattern:  128.05069999999998\n",
      "Unknown isotope match ~  (321.1735, 'F1118')\n",
      "Warning no match in isotope_pattern:  129.0517\n",
      "Unknown isotope match ~  (322.1745, 'F1178')\n",
      "Warning no match in isotope_pattern:  137.141\n",
      "Unknown isotope match ~  (330.2638, 'F2107')\n",
      "Warning no match in isotope_pattern:  139.0993\n",
      "Unknown isotope match ~  (332.2221, 'F2217')\n",
      "Warning no match in isotope_pattern:  145.21899999999997\n",
      "Unknown isotope match ~  (338.3418, 'F2866')\n",
      "Warning no match in isotope_pattern:  154.1672\n",
      "Unknown isotope match ~  (347.29, 'F3855')\n",
      "Warning no match in isotope_pattern:  173.12549999999996\n",
      "Unknown isotope match ~  (366.2483, 'F5547')\n",
      "Warning no match in isotope_pattern:  182.1987\n",
      "Unknown isotope match ~  (375.3215, 'F6749')\n",
      "Warning no match in isotope_pattern:  183.10999999999999\n",
      "Unknown isotope match ~  (376.2328, 'F6811')\n",
      "Warning no match in isotope_pattern:  183.1364\n",
      "Unknown isotope match ~  (376.2592, 'F6829')\n",
      "Warning no match in isotope_pattern:  199.0685\n",
      "Unknown isotope match ~  (392.1913, 'F8433')\n",
      "Warning no match in isotope_pattern:  200.07179999999997\n",
      "Unknown isotope match ~  (393.1946, 'F8570')\n",
      "Warning no match in isotope_pattern:  200.1627\n",
      "Unknown isotope match ~  (393.2855, 'F8615')\n",
      "Warning no match in isotope_pattern:  201.07359999999997\n",
      "Unknown isotope match ~  (394.1964, 'F8703')\n",
      "Warning no match in isotope_pattern:  201.1659\n",
      "Unknown isotope match ~  (394.2887, 'F3701')\n",
      "Warning no match in isotope_pattern:  204.1142\n",
      "Unknown isotope match ~  (397.237, 'F3971')\n",
      "Warning no match in isotope_pattern:  206.1292\n",
      "Unknown isotope match ~  (399.252, 'F4170')\n",
      "Warning no match in isotope_pattern:  208.14519999999996\n",
      "Unknown isotope match ~  (401.268, 'F4387')\n",
      "Warning no match in isotope_pattern:  209.1478\n",
      "Unknown isotope match ~  (402.2706, 'F4490')\n",
      "Warning no match in isotope_pattern:  224.10459999999998\n",
      "Unknown isotope match ~  (417.2274, 'F5925')\n",
      "Warning no match in isotope_pattern:  227.09989999999996\n",
      "Unknown isotope match ~  (420.2227, 'F6247')\n",
      "Warning no match in isotope_pattern:  228.1942\n",
      "Unknown isotope match ~  (421.317, 'F6424')\n",
      "Warning no match in isotope_pattern:  231.1675\n",
      "Unknown isotope match ~  (424.2903, 'F6761')\n",
      "Warning no match in isotope_pattern:  239.1511\n",
      "Unknown isotope match ~  (432.2739, 'F7583')\n",
      "Warning no match in isotope_pattern:  257.1105\n",
      "Unknown isotope match ~  (450.2333, 'F5319')\n",
      "Warning no match in isotope_pattern:  269.1621\n",
      "Unknown isotope match ~  (462.2849, 'F6628')\n",
      "Warning no match in isotope_pattern:  270.2196\n",
      "Unknown isotope match ~  (463.3424, 'F6732')\n",
      "Warning no match in isotope_pattern:  271.0897\n",
      "Unknown isotope match ~  (464.2125, 'F6770')\n",
      "Warning no match in isotope_pattern:  279.2405\n",
      "Unknown isotope match ~  (472.3633, 'F7587')\n",
      "Warning no match in isotope_pattern:  290.26030000000003\n",
      "Unknown isotope match ~  (483.3831, 'F4818')\n",
      "Warning no match in isotope_pattern:  291.2631\n",
      "Unknown isotope match ~  (484.3859, 'F4911')\n",
      "Warning no match in isotope_pattern:  323.2667\n",
      "Unknown isotope match ~  (516.3895, 'F7482')\n",
      "Warning no match in isotope_pattern:  325.28229999999996\n",
      "Unknown isotope match ~  (518.4051, 'F7771')\n",
      "Warning no match in isotope_pattern:  326.28510000000006\n",
      "Unknown isotope match ~  (519.4079, 'F7847')\n",
      "Warning no match in isotope_pattern:  331.1473\n",
      "Unknown isotope match ~  (524.2701, 'F8019')\n",
      "Warning no match in isotope_pattern:  337.18899999999996\n",
      "Unknown isotope match ~  (530.3118, 'F8580')\n",
      "Warning no match in isotope_pattern:  356.2934\n",
      "Unknown isotope match ~  (549.4162, 'F10264')\n",
      "Warning no match in isotope_pattern:  393.2147\n",
      "Unknown isotope match ~  (586.3375, 'F8756')\n",
      "Warning no match in isotope_pattern:  395.2305\n",
      "Unknown isotope match ~  (588.3533, 'F8903')\n",
      "Warning no match in isotope_pattern:  397.24610000000007\n",
      "Unknown isotope match ~  (590.3689, 'F9075')\n",
      "Warning no match in isotope_pattern:  403.20439999999996\n",
      "Unknown isotope match ~  (596.3272, 'F9600')\n",
      "Warning no match in isotope_pattern:  404.2074\n",
      "Unknown isotope match ~  (597.3302, 'F9660')\n",
      "Warning no match in isotope_pattern:  411.22540000000004\n",
      "Unknown isotope match ~  (604.3482, 'F10161')\n",
      "Warning no match in isotope_pattern:  429.18330000000003\n",
      "Unknown isotope match ~  (622.3061, 'F11321')\n",
      "Warning no match in isotope_pattern:  430.1867\n",
      "Unknown isotope match ~  (623.3095, 'F11387')\n",
      "Warning no match in isotope_pattern:  447.1939\n",
      "Unknown isotope match ~  (640.3167, 'F8773')\n",
      "Warning no match in isotope_pattern:  448.1971\n",
      "Unknown isotope match ~  (641.3199, 'F8816')\n",
      "Warning no match in isotope_pattern:  470.3306\n",
      "Unknown isotope match ~  (663.4534, 'F9907')\n",
      "Warning no match in isotope_pattern:  487.356\n",
      "Unknown isotope match ~  (680.4788, 'F10618')\n",
      "Downsized input network with 961 features, highest peak at F6410 \n"
     ]
    },
    {
     "name": "stderr",
     "output_type": "stream",
     "text": [
      "/opt/conda/lib/python3.7/site-packages/scipy/optimize/minpack.py:795: OptimizeWarning: Covariance of the parameters could not be estimated\n",
      "  category=OptimizeWarning)\n"
     ]
    },
    {
     "name": "stdout",
     "output_type": "stream",
     "text": [
      "Warning no match in isotope_pattern:  19.065500000000014\n",
      "Unknown isotope match ~  (272.2092, 'F790')\n",
      "Warning no match in isotope_pattern:  21.072900000000033\n",
      "Unknown isotope match ~  (274.2166, 'F917')\n",
      "Warning no match in isotope_pattern:  27.0916\n",
      "Unknown isotope match ~  (280.2353, 'F1293')\n",
      "Warning no match in isotope_pattern:  16.05279999999999\n",
      "Unknown isotope match ~  (197.1541, 'F102')\n",
      "Warning no match in isotope_pattern:  19.063699999999983\n",
      "Unknown isotope match ~  (200.165, 'F336')\n",
      "Warning no match in isotope_pattern:  20.067099999999982\n",
      "Unknown isotope match ~  (201.1684, 'F398')\n",
      "Warning no match in isotope_pattern:  13.041800000000023\n",
      "Unknown isotope match ~  (315.2533, 'F678')\n",
      "Warning no match in isotope_pattern:  14.048100000000034\n",
      "Unknown isotope match ~  (325.2488, 'F1528')\n",
      "Warning no match in isotope_pattern:  16.052300000000002\n",
      "Unknown isotope match ~  (209.1541, 'F922')\n",
      "Warning no match in isotope_pattern:  17.0557\n",
      "Unknown isotope match ~  (210.1575, 'F1042')\n",
      "Warning no match in isotope_pattern:  13.043700000000001\n",
      "Unknown isotope match ~  (314.2197, 'F569')\n",
      "Warning no match in isotope_pattern:  16.0522\n",
      "Unknown isotope match ~  (223.1697, 'F1669')\n",
      "Warning no match in isotope_pattern:  19.06309999999999\n",
      "Unknown isotope match ~  (226.1806, 'F1881')\n",
      "Warning no match in isotope_pattern:  20.066399999999987\n",
      "Unknown isotope match ~  (227.1839, 'F1942')\n",
      "Warning no match in isotope_pattern:  16.052299999999974\n",
      "Unknown isotope match ~  (225.1854, 'F1796')\n",
      "Warning no match in isotope_pattern:  19.062999999999988\n",
      "Unknown isotope match ~  (228.1961, 'F1980')\n",
      "Warning no match in isotope_pattern:  20.06649999999999\n",
      "Unknown isotope match ~  (229.1996, 'F2149')\n",
      "Warning no match in isotope_pattern:  0.0016999999999995907\n",
      "Unknown isotope match ~  (211.1123, 'F1106')\n",
      "Warning no match in isotope_pattern:  16.054100000000005\n",
      "Unknown isotope match ~  (227.1647, 'F1936')\n",
      "Warning no match in isotope_pattern:  16.052300000000002\n",
      "Unknown isotope match ~  (229.1802, 'F2132')\n",
      "Warning no match in isotope_pattern:  20.066200000000038\n",
      "Unknown isotope match ~  (343.2515, 'F3406')\n",
      "Warning no match in isotope_pattern:  13.045600000000036\n",
      "Unknown isotope match ~  (295.2309, 'F2493')\n",
      "Warning no match in isotope_pattern:  16.05250000000001\n",
      "Unknown isotope match ~  (237.1491, 'F2498')\n",
      "Warning no match in isotope_pattern:  24.07849999999999\n",
      "Unknown isotope match ~  (245.1751, 'F3022')\n",
      "Warning no match in isotope_pattern:  19.06310000000002\n",
      "Unknown isotope match ~  (242.2118, 'F2805')\n",
      "Warning no match in isotope_pattern:  20.067500000000024\n",
      "Unknown isotope match ~  (199.1527, 'F278')\n",
      "Warning no match in isotope_pattern:  15.047399999999982\n",
      "Unknown isotope match ~  (372.322, 'F6431')\n",
      "Warning no match in isotope_pattern:  16.050599999999974\n",
      "Unknown isotope match ~  (373.3252, 'F13561')\n",
      "Warning no match in isotope_pattern:  41.02710000000002\n",
      "Unknown isotope match ~  (399.2345, 'F4157')\n",
      "Warning no match in isotope_pattern:  0.0020999999999844476\n",
      "Unknown isotope match ~  (363.1726, 'F5136')\n",
      "Warning no match in isotope_pattern:  21.073199999999986\n",
      "Unknown isotope match ~  (436.269, 'F7972')\n",
      "Warning no match in isotope_pattern:  0.002200000000016189\n",
      "Unknown isotope match ~  (417.2884, 'F5973')\n",
      "Warning no match in isotope_pattern:  13.045599999999979\n",
      "Unknown isotope match ~  (469.3623, 'F7361')\n",
      "Warning no match in isotope_pattern:  13.041699999999992\n",
      "Unknown isotope match ~  (370.2797, 'F6151')\n",
      "Warning no match in isotope_pattern:  14.044899999999984\n",
      "Unknown isotope match ~  (371.2829, 'F6290')\n",
      "Warning no match in isotope_pattern:  0.002599999999972624\n",
      "Unknown isotope match ~  (502.3855, 'F6341')\n",
      "Warning no match in isotope_pattern:  0.0027000000000043656\n",
      "Unknown isotope match ~  (475.2973, 'F7777')\n",
      "Warning no match in isotope_pattern:  20.064300000000003\n",
      "Unknown isotope match ~  (542.4275, 'F9710')\n",
      "Warning no match in isotope_pattern:  13.044499999999971\n",
      "Unknown isotope match ~  (542.4275, 'F9711')\n",
      "Warning no match in isotope_pattern:  22.072000000000003\n",
      "Unknown isotope match ~  (630.4722, 'F11769')\n",
      "Warning no match in isotope_pattern:  27.08809999999994\n",
      "Unknown isotope match ~  (635.4883, 'F13156')\n",
      "Warning no match in isotope_pattern:  33.10910000000001\n",
      "Unknown isotope match ~  (641.5093, 'F8830')\n",
      "Warning no match in isotope_pattern:  34.110900000000015\n",
      "Unknown isotope match ~  (642.5111, 'F8906')\n",
      "Warning no match in isotope_pattern:  35.112499999999955\n",
      "Unknown isotope match ~  (643.5127, 'F8971')\n",
      "Warning no match in isotope_pattern:  13.045999999999935\n",
      "Unknown isotope match ~  (547.3888, 'F10069')\n",
      "Warning no match in isotope_pattern:  13.039199999999937\n",
      "Unknown isotope match ~  (547.4395, 'F10084')\n",
      "Warning no match in isotope_pattern:  14.047800000000052\n",
      "Unknown isotope match ~  (657.504, 'F9584')\n",
      "Warning no match in isotope_pattern:  18.064500000000066\n",
      "Unknown isotope match ~  (608.3431, 'F10502')\n",
      "Warning no match in isotope_pattern:  19.064899999999966\n",
      "Unknown isotope match ~  (609.3602, 'F13126')\n",
      "Warning no match in isotope_pattern:  18.062400000000025\n",
      "Unknown isotope match ~  (628.457, 'F11676')\n",
      "Warning no match in isotope_pattern:  19.063499999999976\n",
      "Unknown isotope match ~  (629.4581, 'F13125')\n",
      "Warning no match in isotope_pattern:  29.099500000000035\n",
      "Unknown isotope match ~  (639.4941, 'F8763')\n",
      "Warning no match in isotope_pattern:  13.04460000000006\n",
      "Unknown isotope match ~  (613.3255, 'F10775')\n",
      "Warning no match in isotope_pattern:  18.058700000000044\n",
      "Unknown isotope match ~  (716.5247, 'F13521')\n",
      "Warning no match in isotope_pattern:  16.049999999999955\n",
      "Unknown isotope match ~  (718.5065, 'F11881')\n",
      "Warning no match in isotope_pattern:  13.045200000000023\n",
      "Unknown isotope match ~  (717.5181, 'F11847')\n",
      "Warning no match in isotope_pattern:  19.067099999999982\n",
      "Unknown isotope match ~  (723.54, 'F11908')\n",
      "Warning no match in isotope_pattern:  13.044899999999984\n",
      "Unknown isotope match ~  (731.5341, 'F11992')\n",
      "Warning no match in isotope_pattern:  16.05250000000001\n",
      "Unknown isotope match ~  (746.5773, 'F9012')\n",
      "1775 1775\n",
      "4830\n"
     ]
    }
   ],
   "source": [
    "subnetworks, peak_dict, edge_dict = peaks_to_networks(peaklist,\n",
    "                    isotope_search_patterns,\n",
    "                    adduct_search_patterns,\n",
    "                    mz_tolerance_ppm=5,\n",
    "                    rt_tolerance=2)\n",
    "\n",
    "WV = Weavor(peak_dict, isotope_search_patterns=isotope_search_patterns, \n",
    "                adduct_search_patterns=adduct_search_patterns, \n",
    "                mz_tolerance_ppm=5, \n",
    "                mode='pos')\n",
    "\n",
    "khipu_list = graphs_to_khipu_list(\n",
    "        subnetworks, WV, mz_tolerance_ppm=5,)\n",
    "\n",
    "print(len(subnetworks), len(khipu_list))\n",
    "\n",
    "list_assigned_peaks = []\n",
    "for KP in khipu_list:\n",
    "    list_assigned_peaks += list(KP.feature_map.keys())\n",
    "    \n",
    "print(len(list_assigned_peaks))"
   ]
  },
  {
   "cell_type": "code",
   "execution_count": 19,
   "metadata": {},
   "outputs": [
    {
     "name": "stdout",
     "output_type": "stream",
     "text": [
      "1775 6310\n"
     ]
    }
   ],
   "source": [
    "ext_khipu_list, all_assigned_peaks = extend_khipu_list(khipu_list, peak_dict, \n",
    "                    extended_adducts, mz_tolerance_ppm=5,\n",
    "                    rt_tolerance=2)\n",
    "\n",
    "print(len(ext_khipu_list), len(all_assigned_peaks))"
   ]
  },
  {
   "cell_type": "markdown",
   "metadata": {},
   "source": [
    "**Search with more adducts**"
   ]
  },
  {
   "cell_type": "code",
   "execution_count": 20,
   "metadata": {},
   "outputs": [
    {
     "name": "stdout",
     "output_type": "stream",
     "text": [
      "[(7.985830404, 'H3BO3-3H2O'), (25.99639509, 'H3BO3-2H2O'), (37.94694, 'Ca-2H'), (39.99250931, 'NaOH'), (46.0054793, 'HCOOH'), (55.91969284, 'Ni-2H'), (55.96644655, 'KOH'), (60.02112937, 'C2H4O2'), (62.00039, 'H2CO3'), (62.9956429, 'HNO3'), (75.91176374, '2K-2H'), (77.97732041, 'H2SiO3'), (82.003074, 'CH3COONa'), (83.98234, 'NaHCO3'), (84.97758753, 'NaNO3'), (95.9878851, 'H4SiO4'), (97.96807, 'CH2COOCa'), (97.97701124, 'CH3COOK'), (99.92525136, 'CrO3'), (99.95628, 'KHCO3'), (115.9408222, 'CH2COONi'), (119.9493239, 'NaHSO4'), (119.9588397, 'NaH2PO4'), (120.0242706, 'C3H8SiO3'), (135.9232611, 'KHSO4'), (135.9327769, 'KH2PO4'), (195.9537901, 'H3PO4 dimer')]\n"
     ]
    }
   ],
   "source": [
    "more = '''7.985830404\tH3BO3-3H2O\n",
    "25.99639509\tH3BO3-2H2O\n",
    "37.94694\tCa-2H\n",
    "39.99250931\tNaOH\n",
    "46.0054793\tHCOOH\n",
    "55.91969284\tNi-2H\n",
    "55.96644655\tKOH\n",
    "60.02112937\tC2H4O2\n",
    "62.00039\tH2CO3\n",
    "62.9956429\tHNO3\n",
    "75.91176374\t2K-2H\n",
    "77.97732041\tH2SiO3\n",
    "82.003074\tCH3COONa\n",
    "83.98234\tNaHCO3\n",
    "84.97758753\tNaNO3\n",
    "95.9878851\tH4SiO4\n",
    "97.96807\tCH2COOCa\n",
    "97.97701124\tCH3COOK\n",
    "99.92525136\tCrO3\n",
    "99.95628\tKHCO3\n",
    "115.9408222\tCH2COONi\n",
    "119.9493239\tNaHSO4\n",
    "119.9588397\tNaH2PO4\n",
    "120.0242706\tC3H8SiO3\n",
    "135.9232611\tKHSO4\n",
    "135.9327769\tKH2PO4\n",
    "195.9537901\tH3PO4 dimer'''.splitlines()\n",
    "more = [x.split('\\t') for x in more]\n",
    "netID_additional_adducts = [\n",
    "    (float(x[0]), x[1]) for x in more\n",
    "]\n",
    "print(netID_additional_adducts)"
   ]
  },
  {
   "cell_type": "code",
   "execution_count": 21,
   "metadata": {},
   "outputs": [
    {
     "name": "stdout",
     "output_type": "stream",
     "text": [
      "1775 8049\n"
     ]
    }
   ],
   "source": [
    "ext_khipu_list, all_assigned_peaks = extend_khipu_list(khipu_list, peak_dict, \n",
    "                    extended_adducts + netID_additional_adducts, \n",
    "                    mz_tolerance_ppm=5,\n",
    "                    rt_tolerance=2)\n",
    "\n",
    "print(len(ext_khipu_list), len(all_assigned_peaks))"
   ]
  },
  {
   "cell_type": "code",
   "execution_count": 22,
   "metadata": {},
   "outputs": [
    {
     "name": "stdout",
     "output_type": "stream",
     "text": [
      "Number of empCpds with more than 1 isotopes:  1582\n"
     ]
    }
   ],
   "source": [
    "has_13C = []\n",
    "for KP in khipu_list:\n",
    "    if len(list(KP.khipu_grid.index)) > 1:\n",
    "        has_13C.append(KP.id)\n",
    "        \n",
    "print(\"Number of empCpds with more than 1 isotopes: \", len(has_13C))"
   ]
  },
  {
   "cell_type": "markdown",
   "metadata": {},
   "source": [
    "**Got 1775 empCpds in yeast pos data**\n",
    "\n",
    "Total features: 14051\n",
    "\n",
    "core features: 4830\n",
    "\n",
    "Extended search using khipu default adducts: 6310\n",
    "\n",
    "Extended search using khipu default adducts plus NetID adducts: 8049"
   ]
  },
  {
   "cell_type": "markdown",
   "metadata": {},
   "source": [
    "## Part III. Yeast neg data"
   ]
  },
  {
   "cell_type": "code",
   "execution_count": 23,
   "metadata": {},
   "outputs": [
    {
     "name": "stdout",
     "output_type": "stream",
     "text": [
      "table header looks like:  ['id_number', 'mz', 'rtime', 'neg-12C14N-3-0ev', 'neg-12C14N-1-0ev', 'neg-12C14N-2-0ev']\n",
      "Read 6286 feature lines\n"
     ]
    }
   ],
   "source": [
    "peaklist = read_features_from_text(open(\"yeast_neg.tsv\").read(),\n",
    "                    id_col=0, mz_col=1, rtime_col=2, intensity_cols=(3, 6), delimiter=\"\\t\")"
   ]
  },
  {
   "cell_type": "code",
   "execution_count": 24,
   "metadata": {},
   "outputs": [
    {
     "name": "stdout",
     "output_type": "stream",
     "text": [
      "Warning no match in isotope_pattern:  0.0009000000000014552\n",
      "Unknown isotope match ~  (157.1868, 'F9392')\n",
      "Warning no match in isotope_pattern:  0.0011000000000080945\n",
      "Unknown isotope match ~  (211.0833, 'F5242')\n",
      "Warning no match in isotope_pattern:  0.0012000000000114142\n",
      "Unknown isotope match ~  (227.066, 'F9696')\n",
      "Warning no match in isotope_pattern:  13.042999999999978\n",
      "Unknown isotope match ~  (266.1509, 'F5153')\n",
      "Warning no match in isotope_pattern:  17.055199999999957\n",
      "Unknown isotope match ~  (319.1004, 'F8323')\n",
      "Warning no match in isotope_pattern:  13.043100000000038\n",
      "Unknown isotope match ~  (338.2087, 'F10550')\n",
      "908 908\n",
      "2279\n"
     ]
    }
   ],
   "source": [
    "subnetworks, peak_dict, edge_dict = peaks_to_networks(peaklist,\n",
    "                    isotope_search_patterns,\n",
    "                    adduct_search_patterns_neg,\n",
    "                    mz_tolerance_ppm=5,\n",
    "                    rt_tolerance=2)\n",
    "\n",
    "WV = Weavor(peak_dict, isotope_search_patterns=isotope_search_patterns, \n",
    "                adduct_search_patterns=adduct_search_patterns_neg, \n",
    "                mz_tolerance_ppm=5, \n",
    "                mode='neg')\n",
    "\n",
    "khipu_list = graphs_to_khipu_list(\n",
    "        subnetworks, WV, mz_tolerance_ppm=5,)\n",
    "\n",
    "print(len(subnetworks), len(khipu_list))\n",
    "\n",
    "list_assigned_peaks = []\n",
    "for KP in khipu_list:\n",
    "    list_assigned_peaks += list(KP.feature_map.keys())\n",
    "    \n",
    "print(len(list_assigned_peaks))"
   ]
  },
  {
   "cell_type": "code",
   "execution_count": 25,
   "metadata": {},
   "outputs": [
    {
     "name": "stdout",
     "output_type": "stream",
     "text": [
      "908 2601\n"
     ]
    }
   ],
   "source": [
    "ext_khipu_list, all_assigned_peaks = extend_khipu_list(khipu_list, peak_dict, \n",
    "                    extended_adducts, mz_tolerance_ppm=5,\n",
    "                    rt_tolerance=2)\n",
    "\n",
    "print(len(ext_khipu_list), len(all_assigned_peaks))"
   ]
  },
  {
   "cell_type": "code",
   "execution_count": 26,
   "metadata": {},
   "outputs": [
    {
     "name": "stdout",
     "output_type": "stream",
     "text": [
      "908 2912\n"
     ]
    }
   ],
   "source": [
    "ext_khipu_list, all_assigned_peaks = extend_khipu_list(khipu_list, peak_dict, \n",
    "                    extended_adducts + netID_additional_adducts, \n",
    "                    mz_tolerance_ppm=5,\n",
    "                    rt_tolerance=2)\n",
    "\n",
    "print(len(ext_khipu_list), len(all_assigned_peaks))"
   ]
  },
  {
   "cell_type": "code",
   "execution_count": 27,
   "metadata": {},
   "outputs": [
    {
     "name": "stdout",
     "output_type": "stream",
     "text": [
      "Number of empCpds with more than 1 isotopes:  763\n"
     ]
    }
   ],
   "source": [
    "has_13C = []\n",
    "for KP in khipu_list:\n",
    "    if len(list(KP.khipu_grid.index)) > 1:\n",
    "        has_13C.append(KP.id)\n",
    "        \n",
    "print(\"Number of empCpds with more than 1 isotopes: \", len(has_13C))"
   ]
  },
  {
   "cell_type": "markdown",
   "metadata": {},
   "source": [
    "**Got 908 empCpds in yeast neg data**\n",
    "\n",
    "Total features: 6286\n",
    "\n",
    "core features: 2279\n",
    "\n",
    "Extended search using khipu default adducts: 2601\n",
    "\n",
    "Extended search using khipu default adducts plus NetID adducts: 2912"
   ]
  }
 ],
 "metadata": {
  "kernelspec": {
   "display_name": "Python 3",
   "language": "python",
   "name": "python3"
  },
  "language_info": {
   "codemirror_mode": {
    "name": "ipython",
    "version": 3
   },
   "file_extension": ".py",
   "mimetype": "text/x-python",
   "name": "python",
   "nbconvert_exporter": "python",
   "pygments_lexer": "ipython3",
   "version": "3.7.3"
  }
 },
 "nbformat": 4,
 "nbformat_minor": 2
}
