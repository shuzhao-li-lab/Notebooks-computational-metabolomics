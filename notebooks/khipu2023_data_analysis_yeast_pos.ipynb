{
 "cells": [
  {
   "cell_type": "markdown",
   "metadata": {},
   "source": [
    "# Khipu demo for yeast_pos data analysis\n",
    "\n",
    "- Goal: data analysis on the E. coli data in the khipu paper\n",
    "- Citation: Li, S. and Zheng, S., 2023. Generalized tree structure to annotate untargeted metabolomics and stable isotope tracing data. Analytical chemistry, 95(15), pp.6212-6217. (https://pubs.acs.org/doi/10.1021/acs.analchem.2c05810)\n",
    "- Original repo: https://github.com/shuzhao-li-lab/khipu\n",
    "\n",
    "\n",
    "This notebook is run on $docker run -v /Users/shuzhao/play:/home/jovyan -p 8888:8888 jupyter/scipy-notebook\n"
   ]
  },
  {
   "cell_type": "markdown",
   "metadata": {},
   "source": [
    "## Part I. Differential features between 12C and 13C samples"
   ]
  },
  {
   "cell_type": "code",
   "execution_count": 1,
   "metadata": {},
   "outputs": [],
   "source": [
    "import pandas as pd\n",
    "import numpy as np\n",
    "import matplotlib.pyplot as plt\n",
    "from scipy.stats import ttest_ind"
   ]
  },
  {
   "cell_type": "code",
   "execution_count": 2,
   "metadata": {},
   "outputs": [
    {
     "data": {
      "text/html": [
       "<div>\n",
       "<style scoped>\n",
       "    .dataframe tbody tr th:only-of-type {\n",
       "        vertical-align: middle;\n",
       "    }\n",
       "\n",
       "    .dataframe tbody tr th {\n",
       "        vertical-align: top;\n",
       "    }\n",
       "\n",
       "    .dataframe thead th {\n",
       "        text-align: right;\n",
       "    }\n",
       "</style>\n",
       "<table border=\"1\" class=\"dataframe\">\n",
       "  <thead>\n",
       "    <tr style=\"text-align: right;\">\n",
       "      <th></th>\n",
       "      <th>mz</th>\n",
       "      <th>rtime</th>\n",
       "      <th>cSelectivity</th>\n",
       "      <th>goodness_fitting</th>\n",
       "      <th>snr</th>\n",
       "      <th>posi-Yeast-12C14N-a</th>\n",
       "      <th>posi-Yeast-12C14N-b</th>\n",
       "      <th>posi-Yeast-12C14N-c</th>\n",
       "      <th>posi-Yeast-13C14N-a</th>\n",
       "      <th>posi-Yeast-13C14N-b</th>\n",
       "      <th>posi-Yeast-13C14N-c</th>\n",
       "    </tr>\n",
       "    <tr>\n",
       "      <th>id_number</th>\n",
       "      <th></th>\n",
       "      <th></th>\n",
       "      <th></th>\n",
       "      <th></th>\n",
       "      <th></th>\n",
       "      <th></th>\n",
       "      <th></th>\n",
       "      <th></th>\n",
       "      <th></th>\n",
       "      <th></th>\n",
       "      <th></th>\n",
       "    </tr>\n",
       "  </thead>\n",
       "  <tbody>\n",
       "    <tr>\n",
       "      <td>F1</td>\n",
       "      <td>119.0604</td>\n",
       "      <td>183.67</td>\n",
       "      <td>1.0</td>\n",
       "      <td>0.30</td>\n",
       "      <td>249</td>\n",
       "      <td>8784329</td>\n",
       "      <td>8428720</td>\n",
       "      <td>9064520</td>\n",
       "      <td>9602145</td>\n",
       "      <td>9528462</td>\n",
       "      <td>9450624</td>\n",
       "    </tr>\n",
       "    <tr>\n",
       "      <td>F2</td>\n",
       "      <td>119.0684</td>\n",
       "      <td>148.57</td>\n",
       "      <td>1.0</td>\n",
       "      <td>0.93</td>\n",
       "      <td>553</td>\n",
       "      <td>1181049</td>\n",
       "      <td>2052066</td>\n",
       "      <td>1276618</td>\n",
       "      <td>4293257</td>\n",
       "      <td>3998224</td>\n",
       "      <td>2632842</td>\n",
       "    </tr>\n",
       "    <tr>\n",
       "      <td>F3</td>\n",
       "      <td>119.0855</td>\n",
       "      <td>148.57</td>\n",
       "      <td>1.0</td>\n",
       "      <td>0.96</td>\n",
       "      <td>153</td>\n",
       "      <td>9527512</td>\n",
       "      <td>9839050</td>\n",
       "      <td>9520581</td>\n",
       "      <td>19460197</td>\n",
       "      <td>18998704</td>\n",
       "      <td>17128872</td>\n",
       "    </tr>\n",
       "    <tr>\n",
       "      <td>F4</td>\n",
       "      <td>119.0855</td>\n",
       "      <td>168.67</td>\n",
       "      <td>1.0</td>\n",
       "      <td>0.83</td>\n",
       "      <td>41</td>\n",
       "      <td>4271233</td>\n",
       "      <td>3873606</td>\n",
       "      <td>4911791</td>\n",
       "      <td>5671472</td>\n",
       "      <td>5571824</td>\n",
       "      <td>5679221</td>\n",
       "    </tr>\n",
       "    <tr>\n",
       "      <td>F5</td>\n",
       "      <td>196.0102</td>\n",
       "      <td>761.50</td>\n",
       "      <td>1.0</td>\n",
       "      <td>0.98</td>\n",
       "      <td>189</td>\n",
       "      <td>0</td>\n",
       "      <td>0</td>\n",
       "      <td>0</td>\n",
       "      <td>1378442</td>\n",
       "      <td>1412103</td>\n",
       "      <td>1419763</td>\n",
       "    </tr>\n",
       "  </tbody>\n",
       "</table>\n",
       "</div>"
      ],
      "text/plain": [
       "                 mz   rtime  cSelectivity  goodness_fitting  snr  \\\n",
       "id_number                                                          \n",
       "F1         119.0604  183.67           1.0              0.30  249   \n",
       "F2         119.0684  148.57           1.0              0.93  553   \n",
       "F3         119.0855  148.57           1.0              0.96  153   \n",
       "F4         119.0855  168.67           1.0              0.83   41   \n",
       "F5         196.0102  761.50           1.0              0.98  189   \n",
       "\n",
       "           posi-Yeast-12C14N-a  posi-Yeast-12C14N-b  posi-Yeast-12C14N-c  \\\n",
       "id_number                                                                  \n",
       "F1                     8784329              8428720              9064520   \n",
       "F2                     1181049              2052066              1276618   \n",
       "F3                     9527512              9839050              9520581   \n",
       "F4                     4271233              3873606              4911791   \n",
       "F5                           0                    0                    0   \n",
       "\n",
       "           posi-Yeast-13C14N-a  posi-Yeast-13C14N-b  posi-Yeast-13C14N-c  \n",
       "id_number                                                                 \n",
       "F1                     9602145              9528462              9450624  \n",
       "F2                     4293257              3998224              2632842  \n",
       "F3                    19460197             18998704             17128872  \n",
       "F4                     5671472              5571824              5679221  \n",
       "F5                     1378442              1412103              1419763  "
      ]
     },
     "execution_count": 2,
     "metadata": {},
     "output_type": "execute_result"
    }
   ],
   "source": [
    "# demo data are at https://github.com/shuzhao-li/khipu/tree/main/testdata/\n",
    "# yeast pos data from NetID paper. Have a look via pd\n",
    "yeast = pd.read_table(\"yeast_pos_full.tsv\", index_col=0, sep=\"\\t\")\n",
    "yeast.head()"
   ]
  },
  {
   "cell_type": "code",
   "execution_count": 3,
   "metadata": {},
   "outputs": [],
   "source": [
    "# t-test of each row between 12C and 13C samples\n",
    "# data are log2 transformed in this test to have more normal distribution; +1 to avoid log2(0)\n",
    "def ttest(row):\n",
    "    t,p = ttest_ind(np.log2(row[6:9]+1), np.log2(row[9:12]+1))\n",
    "    return p\n",
    "\n",
    "pvalues_featurelist = yeast.apply(ttest, axis=1)"
   ]
  },
  {
   "cell_type": "code",
   "execution_count": 4,
   "metadata": {},
   "outputs": [
    {
     "data": {
      "text/plain": [
       "id_number\n",
       "F10883    5.984054e-14\n",
       "F7218     1.172226e-12\n",
       "F1452     5.909582e-12\n",
       "F1687     6.807252e-12\n",
       "F9702     2.074358e-11\n",
       "F6963     2.160347e-11\n",
       "F8986     3.188809e-11\n",
       "F353      5.179633e-11\n",
       "F1671     7.205286e-11\n",
       "F6365     9.897905e-11\n",
       "dtype: float64"
      ]
     },
     "execution_count": 4,
     "metadata": {},
     "output_type": "execute_result"
    }
   ],
   "source": [
    "# sort p-values\n",
    "pvalues_featurelist = pvalues_featurelist.sort_values()\n",
    "pvalues_featurelist.head(10)"
   ]
  },
  {
   "cell_type": "code",
   "execution_count": 5,
   "metadata": {},
   "outputs": [
    {
     "data": {
      "text/plain": [
       "(197,)"
      ]
     },
     "execution_count": 5,
     "metadata": {},
     "output_type": "execute_result"
    }
   ],
   "source": [
    "# how many features have p < 0.001\n",
    "pvalues_featurelist[pvalues_featurelist<0.001].shape"
   ]
  },
  {
   "cell_type": "markdown",
   "metadata": {},
   "source": [
    "### Summary\n",
    "We got 197 features in this table that differ between 12C and 13C samples with p < 0.001.\n",
    "\n",
    "We'll next look at their corresponding compound and intensity across ions and samples."
   ]
  },
  {
   "cell_type": "markdown",
   "metadata": {},
   "source": [
    "## Part II. Pre-annotation and plot using khipu"
   ]
  },
  {
   "cell_type": "code",
   "execution_count": 6,
   "metadata": {},
   "outputs": [
    {
     "name": "stdout",
     "output_type": "stream",
     "text": [
      "Requirement already up-to-date: khipu-metabolomics in /opt/conda/lib/python3.7/site-packages (0.4.14)\r\n",
      "Requirement already satisfied, skipping upgrade: networkx in /opt/conda/lib/python3.7/site-packages (from khipu-metabolomics) (2.3)\r\n",
      "Requirement already satisfied, skipping upgrade: treelib in /opt/conda/lib/python3.7/site-packages (from khipu-metabolomics) (1.6.1)\r\n",
      "Requirement already satisfied, skipping upgrade: mass2chem in /opt/conda/lib/python3.7/site-packages (from khipu-metabolomics) (0.4.1)\r\n",
      "Requirement already satisfied, skipping upgrade: decorator>=4.3.0 in /opt/conda/lib/python3.7/site-packages (from networkx->khipu-metabolomics) (4.4.0)\r\n",
      "Requirement already satisfied, skipping upgrade: future in /opt/conda/lib/python3.7/site-packages (from treelib->khipu-metabolomics) (0.18.2)\r\n",
      "Requirement already satisfied, skipping upgrade: numpy in /opt/conda/lib/python3.7/site-packages (from mass2chem->khipu-metabolomics) (1.17.2)\r\n",
      "Requirement already satisfied, skipping upgrade: scipy in /opt/conda/lib/python3.7/site-packages (from mass2chem->khipu-metabolomics) (1.3.1)\r\n"
     ]
    }
   ],
   "source": [
    "!pip install --upgrade khipu-metabolomics"
   ]
  },
  {
   "cell_type": "code",
   "execution_count": 7,
   "metadata": {},
   "outputs": [],
   "source": [
    "from khipu.extended import *"
   ]
  },
  {
   "cell_type": "code",
   "execution_count": 8,
   "metadata": {},
   "outputs": [
    {
     "name": "stdout",
     "output_type": "stream",
     "text": [
      "[(21.982, 'Na/H'), (41.026549, 'ACN'), (35.9767, 'HCl'), (37.955882, 'K/H')] \n",
      "\n",
      "[(1.003355, '13C/12C', (0, 0.8)), (2.00671, '13C/12C*2', (0, 0.8)), (3.010065, '13C/12C*3', (0, 0.8)), (4.01342, '13C/12C*4', (0, 0.8)), (5.016775, '13C/12C*5', (0, 0.8)), (6.02013, '13C/12C*6', (0, 0.8)), (7.023485, '13C/12C*7', (0, 0.8)), (8.02684, '13C/12C*8', (0, 0.8)), (9.030195, '13C/12C*9', (0, 0.8)), (10.03355, '13C/12C*10', (0, 0.8)), (11.036905, '13C/12C*11', (0, 0.8)), (12.04026, '13C/12C*12', (0, 0.8))] \n",
      "\n",
      "[(1.0078, 'H'), (-1.0078, '-H'), (10.991, 'Na/H, double charged'), (0.5017, '13C/12C, double charged'), (117.02655, '-NH3'), (17.02655, 'NH3'), (-18.0106, '-H2O'), (18.0106, 'H2O'), (18.033823, 'NH4'), (27.01089904, 'HCN'), (37.94694, 'Ca/H2'), (32.026215, 'MeOH'), (43.96389, 'Na2/H2'), (67.987424, 'NaCOOH'), (83.961361, 'KCOOH'), (97.96737927, 'H2SO4'), (97.97689507, 'H3PO4')] \n",
      "\n"
     ]
    }
   ],
   "source": [
    "for x in (adduct_search_patterns, isotope_search_patterns, extended_adducts):\n",
    "    print(x, '\\n')"
   ]
  },
  {
   "cell_type": "code",
   "execution_count": 9,
   "metadata": {},
   "outputs": [],
   "source": [
    "# One can redefine the patterns\n",
    "# isotope_search_patterns = isotope_search_patterns[:6]\n",
    "\n",
    "# The adduction patterns from the NetID paper. Not used here but in another analysis.\n",
    "netid_adducts = [(7.985830404, 'H3BO3-3H2O'), (25.99639509, 'H3BO3-2H2O'), \n",
    "                 (37.94694, 'Ca-2H'), (39.99250931, 'NaOH'), (46.0054793, 'HCOOH'), \n",
    "                 (55.91969284, 'Ni-2H'), (55.96644655, 'KOH'), (60.02112937, 'C2H4O2'), \n",
    "                 (62.00039, 'H2CO3'), (62.9956429, 'HNO3'), (75.91176374, '2K-2H'), \n",
    "                 (77.97732041, 'H2SiO3'), (82.003074, 'CH3COONa'), (83.98234, 'NaHCO3'), \n",
    "                 (84.97758753, 'NaNO3'), (95.9878851, 'H4SiO4'), (97.96807, 'CH2COOCa'), \n",
    "                 (97.97701124, 'CH3COOK'), (99.92525136, 'CrO3'), (99.95628, 'KHCO3'), \n",
    "                 (115.9408222, 'CH2COONi'), (119.9493239, 'NaHSO4'), (119.9588397, 'NaH2PO4'),\n",
    "                 (120.0242706, 'C3H8SiO3'), (135.9232611, 'KHSO4'), (135.9327769, 'KH2PO4'),\n",
    "                 (195.9537901, 'H3PO4 dimer')]"
   ]
  },
  {
   "cell_type": "code",
   "execution_count": 10,
   "metadata": {},
   "outputs": [],
   "source": [
    "isotope_search_patterns = isotope_search_patterns[:6]"
   ]
  },
  {
   "cell_type": "code",
   "execution_count": 11,
   "metadata": {},
   "outputs": [
    {
     "name": "stdout",
     "output_type": "stream",
     "text": [
      "table header looks like:  ['id_number', 'mz', 'rtime', 'cSelectivity', 'goodness_fitting', 'snr', 'posi-Yeast-12C14N-a', 'posi-Yeast-12C14N-b', 'posi-Yeast-12C14N-c', 'posi-Yeast-13C14N-a', 'posi-Yeast-13C14N-b', 'posi-Yeast-13C14N-c']\n",
      "Read 14051 feature lines\n"
     ]
    }
   ],
   "source": [
    "# read data via khipu\n",
    "peaklist = read_features_from_text(open(\"yeast_pos_full.tsv\").read(),\n",
    "                    id_col=0, mz_col=1, rtime_col=2, intensity_cols=(6, 12), delimiter=\"\\t\")"
   ]
  },
  {
   "cell_type": "code",
   "execution_count": 12,
   "metadata": {},
   "outputs": [
    {
     "data": {
      "text/plain": [
       "{'id': 'F56',\n",
       " 'mz': 259.2131,\n",
       " 'rtime': 240.76,\n",
       " 'intensities': [401870.0, 10378.0, 495445.0, 423990.0, 457255.0, 423599.0],\n",
       " 'representative_intensity': 368756.1666666667}"
      ]
     },
     "execution_count": 12,
     "metadata": {},
     "output_type": "execute_result"
    }
   ],
   "source": [
    "peaklist[55]"
   ]
  },
  {
   "cell_type": "code",
   "execution_count": 13,
   "metadata": {},
   "outputs": [
    {
     "name": "stdout",
     "output_type": "stream",
     "text": [
      "\n",
      "\n",
      "Initial khipu search grid: \n",
      "               M+H+       Na/H        HCl        K/H        ACN\n",
      "M0         1.007276  22.989276  36.983976  38.963158  42.033825\n",
      "13C/12C    2.010631  23.992631  37.987331  39.966513  43.037180\n",
      "13C/12C*2  3.013986  24.995986  38.990686  40.969868  44.040535\n",
      "13C/12C*3  4.017341  25.999341  39.994041  41.973223  45.043890\n",
      "13C/12C*4  5.020696  27.002696  40.997396  42.976578  46.047245\n",
      "13C/12C*5  6.024051  28.006051  42.000751  43.979933  47.050600\n",
      "13C/12C*6  7.027406  29.009406  43.004106  44.983288  48.053955\n",
      "\n",
      "\n",
      "Downsized input network with 1897 features, highest peak at F1005 \n",
      "Warning no match in isotope_pattern:  15.994899999999973\n",
      "Unknown isotope match ~  (301.1799, 'F3031')\n",
      "Warning no match in isotope_pattern:  18.010400000000004\n",
      "Unknown isotope match ~  (303.1954, 'F3227')\n",
      "Warning no match in isotope_pattern:  30.01060000000001\n",
      "Unknown isotope match ~  (315.1956, 'F651')\n",
      "Warning no match in isotope_pattern:  34.98520000000002\n",
      "Unknown isotope match ~  (320.1702, 'F1005')\n",
      "Warning no match in isotope_pattern:  35.98849999999999\n",
      "Unknown isotope match ~  (321.1735, 'F1118')\n",
      "Warning no match in isotope_pattern:  36.98950000000002\n",
      "Unknown isotope match ~  (322.1745, 'F1178')\n",
      "Warning no match in isotope_pattern:  45.0788\n",
      "Unknown isotope match ~  (330.2638, 'F2107')\n",
      "Warning no match in isotope_pattern:  47.03710000000001\n",
      "Unknown isotope match ~  (332.2221, 'F2217')\n",
      "Warning no match in isotope_pattern:  53.156799999999976\n",
      "Unknown isotope match ~  (338.3418, 'F2866')\n",
      "Warning no match in isotope_pattern:  90.13650000000001\n",
      "Unknown isotope match ~  (375.3215, 'F6749')\n",
      "Warning no match in isotope_pattern:  91.0478\n",
      "Unknown isotope match ~  (376.2328, 'F6811')\n",
      "Warning no match in isotope_pattern:  91.07420000000002\n",
      "Unknown isotope match ~  (376.2592, 'F6829')\n",
      "Warning no match in isotope_pattern:  107.00630000000001\n",
      "Unknown isotope match ~  (392.1913, 'F8433')\n",
      "Warning no match in isotope_pattern:  108.00959999999998\n",
      "Unknown isotope match ~  (393.1946, 'F8570')\n",
      "Warning no match in isotope_pattern:  108.10050000000001\n",
      "Unknown isotope match ~  (393.2855, 'F8615')\n",
      "Warning no match in isotope_pattern:  112.05200000000002\n",
      "Unknown isotope match ~  (397.237, 'F3971')\n",
      "Warning no match in isotope_pattern:  114.06700000000001\n",
      "Unknown isotope match ~  (399.252, 'F4170')\n",
      "Warning no match in isotope_pattern:  116.08299999999997\n",
      "Unknown isotope match ~  (401.268, 'F4387')\n",
      "Warning no match in isotope_pattern:  135.03769999999997\n",
      "Unknown isotope match ~  (420.2227, 'F6247')\n",
      "Warning no match in isotope_pattern:  139.1053\n",
      "Unknown isotope match ~  (424.2903, 'F6761')\n",
      "Warning no match in isotope_pattern:  147.08890000000002\n",
      "Unknown isotope match ~  (432.2739, 'F7583')\n",
      "Warning no match in isotope_pattern:  178.1574\n",
      "Unknown isotope match ~  (463.3424, 'F6732')\n",
      "Warning no match in isotope_pattern:  179.02749999999997\n",
      "Unknown isotope match ~  (464.2125, 'F6770')\n",
      "Warning no match in isotope_pattern:  198.1981\n",
      "Unknown isotope match ~  (483.3831, 'F4818')\n",
      "Warning no match in isotope_pattern:  231.2045\n",
      "Unknown isotope match ~  (516.3895, 'F7482')\n",
      "Warning no match in isotope_pattern:  245.12679999999995\n",
      "Unknown isotope match ~  (530.3118, 'F8580')\n",
      "Warning no match in isotope_pattern:  303.1683\n",
      "Unknown isotope match ~  (588.3533, 'F8903')\n",
      "Warning no match in isotope_pattern:  311.14219999999995\n",
      "Unknown isotope match ~  (596.3272, 'F9600')\n",
      "Warning no match in isotope_pattern:  312.1452\n",
      "Unknown isotope match ~  (597.3302, 'F9660')\n",
      "Warning no match in isotope_pattern:  319.1632\n",
      "Unknown isotope match ~  (604.3482, 'F10161')\n",
      "Warning no match in isotope_pattern:  337.1211\n",
      "Unknown isotope match ~  (622.3061, 'F11321')\n",
      "Warning no match in isotope_pattern:  338.12449999999995\n",
      "Unknown isotope match ~  (623.3095, 'F11387')\n",
      "Warning no match in isotope_pattern:  378.2684\n",
      "Unknown isotope match ~  (663.4534, 'F9907')\n",
      "Downsized input network with 574 features, highest peak at F6410 \n",
      "Warning no match in isotope_pattern:  8.025900000000036\n",
      "Unknown isotope match ~  (341.2685, 'F3183')\n",
      "Warning no match in isotope_pattern:  11.037200000000041\n",
      "Unknown isotope match ~  (344.2798, 'F3533')\n",
      "Warning no match in isotope_pattern:  7.025099999999981\n",
      "Unknown isotope match ~  (260.1688, 'F101')\n",
      "Warning no match in isotope_pattern:  8.026399999999967\n",
      "Unknown isotope match ~  (359.3266, 'F4698')\n",
      "Warning no match in isotope_pattern:  9.029699999999991\n",
      "Unknown isotope match ~  (360.3299, 'F4825')\n",
      "Warning no match in isotope_pattern:  8.026499999999999\n",
      "Unknown isotope match ~  (356.3162, 'F4242')\n",
      "Warning no match in isotope_pattern:  9.029800000000023\n",
      "Unknown isotope match ~  (357.3195, 'F4416')\n",
      "Warning no match in isotope_pattern:  7.024900000000002\n",
      "Unknown isotope match ~  (445.3308, 'F4906')\n",
      "Warning no match in isotope_pattern:  7.0178000000000225\n",
      "Unknown isotope match ~  (481.3088, 'F4508')\n",
      "Warning no match in isotope_pattern:  12.03649999999999\n",
      "Unknown isotope match ~  (486.3275, 'F5035')\n",
      "Warning no match in isotope_pattern:  13.038299999999992\n",
      "Unknown isotope match ~  (487.3293, 'F5152')\n",
      "Warning no match in isotope_pattern:  8.02660000000003\n",
      "Unknown isotope match ~  (489.2672, 'F13570')\n",
      "Warning no match in isotope_pattern:  41.02710000000002\n",
      "Unknown isotope match ~  (399.2345, 'F4157')\n",
      "Warning no match in isotope_pattern:  8.026200000000017\n",
      "Unknown isotope match ~  (444.2592, 'F4690')\n",
      "Warning no match in isotope_pattern:  11.037500000000023\n",
      "Unknown isotope match ~  (447.2705, 'F5066')\n",
      "Warning no match in isotope_pattern:  7.021399999999971\n",
      "Unknown isotope match ~  (453.3173, 'F5695')\n",
      "Warning no match in isotope_pattern:  0.0020999999999844476\n",
      "Unknown isotope match ~  (363.1726, 'F5136')\n",
      "Warning no match in isotope_pattern:  0.002200000000016189\n",
      "Unknown isotope match ~  (417.2884, 'F5973')\n",
      "Warning no match in isotope_pattern:  0.002599999999972624\n",
      "Unknown isotope match ~  (502.3855, 'F6341')\n",
      "Warning no match in isotope_pattern:  7.023200000000031\n",
      "Unknown isotope match ~  (467.3156, 'F7142')\n",
      "Warning no match in isotope_pattern:  7.023499999999956\n",
      "Unknown isotope match ~  (432.2449, 'F7568')\n",
      "Warning no match in isotope_pattern:  0.0027000000000043656\n",
      "Unknown isotope match ~  (475.2973, 'F7777')\n",
      "Warning no match in isotope_pattern:  7.022000000000048\n",
      "Unknown isotope match ~  (643.5244, 'F8978')\n",
      "Warning no match in isotope_pattern:  8.022600000000011\n",
      "Unknown isotope match ~  (644.525, 'F9049')\n",
      "Warning no match in isotope_pattern:  7.021900000000073\n",
      "Unknown isotope match ~  (537.3029, 'F9202')\n",
      "Warning no match in isotope_pattern:  7.022800000000075\n",
      "Unknown isotope match ~  (642.5111, 'F8906')\n",
      "Warning no match in isotope_pattern:  8.024400000000014\n",
      "Unknown isotope match ~  (643.5127, 'F8971')\n",
      "Warning no match in isotope_pattern:  7.0271999999999935\n",
      "Unknown isotope match ~  (781.5825, 'F9439')\n",
      "Warning no match in isotope_pattern:  7.025899999999979\n",
      "Unknown isotope match ~  (665.4979, 'F10046')\n",
      "Warning no match in isotope_pattern:  8.029600000000073\n",
      "Unknown isotope match ~  (666.5016, 'F13286')\n",
      "Warning no match in isotope_pattern:  7.022099999999909\n",
      "Unknown isotope match ~  (549.3032, 'F10240')\n",
      "Warning no match in isotope_pattern:  7.022600000000011\n",
      "Unknown isotope match ~  (563.3189, 'F11155')\n",
      "Warning no match in isotope_pattern:  7.027699999999982\n",
      "Unknown isotope match ~  (723.54, 'F11908')\n"
     ]
    }
   ],
   "source": [
    "khipu_list, all_assigned_peaks = peaklist_to_khipu_list(peaklist, \n",
    "                    isotope_search_patterns=isotope_search_patterns, \n",
    "                    adduct_search_patterns=adduct_search_patterns,\n",
    "                    mz_tolerance_ppm=5,\n",
    "                    rt_tolerance=2, \n",
    "                    mode='pos')"
   ]
  },
  {
   "cell_type": "code",
   "execution_count": 14,
   "metadata": {},
   "outputs": [
    {
     "data": {
      "text/plain": [
       "(1886, 6773)"
      ]
     },
     "execution_count": 14,
     "metadata": {},
     "output_type": "execute_result"
    }
   ],
   "source": [
    "len(khipu_list), len(all_assigned_peaks)"
   ]
  },
  {
   "cell_type": "code",
   "execution_count": 15,
   "metadata": {},
   "outputs": [],
   "source": [
    "# build two dictionary to use.\n",
    "# kpdict indexed by khipu ID, fdict indexed by feature ID\n",
    "kpdict, fdict = {}, {}\n",
    "for KP in khipu_list:\n",
    "    kpdict[KP.id] = KP\n",
    "    for f in KP.nodes_to_use:\n",
    "        fdict[f] = KP"
   ]
  },
  {
   "cell_type": "code",
   "execution_count": 16,
   "metadata": {},
   "outputs": [
    {
     "name": "stdout",
     "output_type": "stream",
     "text": [
      "['F10883', 'F7218', 'F1452', 'F1687', 'F9702', 'F6963', 'F8986', 'F353', 'F1671', 'F6365', 'F800', 'F7252', 'F9241', 'F3882', 'F5854', 'F4023', 'F2870', 'F8387', 'F11144', 'F3883', 'F12506', 'F2266', 'F371', 'F4160', 'F4032', 'F11422', 'F12537', 'F4511', 'F2789', 'F9439', 'F10579', 'F4317', 'F13304', 'F10680', 'F522', 'F756', 'F3467', 'F12159', 'F12814', 'F257', 'F3211', 'F3548', 'F3351', 'F1000', 'F8895', 'F1331', 'F11550', 'F5620', 'F2435', 'F8465', 'F12470', 'F12299', 'F4510', 'F12539', 'F6742', 'F8930', 'F2343', 'F11918', 'F4971', 'F1493', 'F3438', 'F9233', 'F9633', 'F12728', 'F12815', 'F12143', 'F12543', 'F656', 'F5410', 'F4042', 'F12833', 'F6839', 'F4171', 'F7834', 'F12420', 'F8623', 'F1031', 'F12483', 'F8818', 'F13873', 'F12346', 'F5196', 'F8565', 'F12599', 'F4691', 'F5409', 'F4426', 'F2352', 'F12071', 'F2344', 'F10349', 'F6849', 'F7044', 'F7273', 'F8488', 'F7376', 'F1236', 'F12273', 'F10671', 'F7368', 'F10862', 'F9908', 'F3649', 'F2647', 'F11509', 'F12381', 'F4744', 'F12322', 'F11641', 'F3439', 'F12371', 'F12231', 'F8418', 'F4611', 'F10352', 'F12538', 'F12347', 'F8849', 'F10670', 'F11705', 'F7254', 'F12809', 'F13655', 'F6449', 'F7209', 'F13090', 'F12719', 'F7632', 'F12559', 'F5748', 'F11948', 'F12474', 'F13686', 'F13303', 'F12370', 'F2836', 'F3623', 'F12704', 'F7253', 'F12638', 'F13562', 'F12070', 'F13078', 'F13000', 'F12981', 'F12101', 'F12149', 'F13077', 'F13761', 'F4509', 'F4078', 'F12078', 'F12991', 'F13324', 'F6560', 'F10274', 'F12161', 'F4901', 'F12160', 'F2080', 'F12193', 'F12259', 'F12419', 'F13046', 'F11937', 'F12938', 'F13872', 'F11759', 'F11894', 'F13866', 'F12067', 'F12681', 'F4907', 'F13654', 'F13823', 'F12416', 'F12300', 'F12515', 'F5274', 'F5778', 'F13821', 'F6462', 'F9113', 'F13822', 'F13093', 'F12301', 'F13412', 'F7128', 'F12639', 'F12834', 'F12169', 'F13356', 'F12040', 'F12360', 'F12700', 'F9939', 'F5174']\n"
     ]
    }
   ],
   "source": [
    "sig = list(pvalues_featurelist[pvalues_featurelist<0.001].index)\n",
    "print(sig)"
   ]
  },
  {
   "cell_type": "code",
   "execution_count": 17,
   "metadata": {},
   "outputs": [
    {
     "name": "stdout",
     "output_type": "stream",
     "text": [
      "57 {'kp1833_629.4519', 'kp619_444.3604', 'kp832_464.2633', 'kp1124_773.5485', 'kp918_539.3807', 'kp1156_811.3614', 'kp251_286.085', 'kp58_130.0782', 'kp148_143.0678', 'kp840_426.3715', 'kp880_520.2519', 'kp734_416.2797', 'kp430_301.2246', 'kp1731_491.2747', 'kp162_277.116', 'kp1100_575.37', 'kp1095_591.2456', 'kp307_252.1575', 'kp1597_179.0814', 'kp1288_680.5623', 'kp46_129.1015', 'kp414_209.1466', 'kp468_350.294', 'kp1287_680.5623', 'kp1499_612.1513', 'kp1118_537.4765', 'kp1041_641.4709', 'kp1852_358.1981', 'kp470_350.3189', 'kp442_180.1128', 'kp1506_335.2431', 'kp1820_693.5024', 'kp713_451.258', 'kp839_428.3126', 'kp1232_645.3716', 'kp1093_536.5278', 'kp1802_663.2795', 'kp735_416.2808', 'kp161_336.2315', 'kp358_290.2605', 'kp691_466.315', 'kp863_513.2778', 'kp1385_568.3546', 'kp350_240.1515', 'kp1636_220.0731', 'kp37_263.1226', 'kp207_288.1361', 'kp723_492.4197', 'kp1368_623.315', 'kp1168_820.3691', 'kp331_165.0655', 'kp252_225.0676', 'kp883_447.2698', 'kp299_332.3344', 'kp300_332.3344', 'kp583_480.4189', 'kp1750_419.1802'}\n"
     ]
    }
   ],
   "source": [
    "# get khipu IDs for the above features\n",
    "sig_kps = set([])\n",
    "for x in sig:\n",
    "    if x in fdict:\n",
    "        sig_kps.add( fdict[x].id )\n",
    "\n",
    "print(len(sig_kps), sig_kps)"
   ]
  },
  {
   "cell_type": "code",
   "execution_count": 18,
   "metadata": {},
   "outputs": [
    {
     "name": "stdout",
     "output_type": "stream",
     "text": [
      "kp1833_629.4519 629.45194903323\n",
      "      M+H+     ACN ACN,-H2O\n",
      "M0  F11759  F12990   F13255\n",
      "\n",
      "\n",
      "kp619_444.3604 444.36041903323\n",
      "            M+H+ Na/H HCl K/H    ACN ACN,NH3 ACN,Ca/H2  \\\n",
      "M0         F4910               F5061             F8043   \n",
      "13C/12C                        F5174   F6534             \n",
      "13C/12C*2                                                \n",
      "13C/12C*3  F5263                                         \n",
      "13C/12C*4                                                \n",
      "13C/12C*5                                                \n",
      "13C/12C*6                                                \n",
      "\n",
      "          M+H+,Na/H, double charged  \n",
      "M0                                   \n",
      "13C/12C                              \n",
      "13C/12C*2                            \n",
      "13C/12C*3                     F6348  \n",
      "13C/12C*4                            \n",
      "13C/12C*5                            \n",
      "13C/12C*6                            \n",
      "\n",
      "\n",
      "kp832_464.2633 464.26329893323\n",
      "            M+H+ Na/H     HCl K/H     ACN\n",
      "M0                                 F11470\n",
      "13C/12C                                  \n",
      "13C/12C*2                                \n",
      "13C/12C*3  F7210                         \n",
      "13C/12C*4  F7324       F12665       F6963\n",
      "13C/12C*5                                \n",
      "13C/12C*6                                \n",
      "\n",
      "\n",
      "kp1124_773.5485 773.54849603323\n",
      "          M+H+\n",
      "M0       F9408\n",
      "13C/12C  F9412\n",
      "\n",
      "\n",
      "kp918_539.3807 539.38069973323\n",
      "            M+H+    Na/H HCl    K/H ACN\n",
      "M0         F9552                       \n",
      "13C/12C                                \n",
      "13C/12C*2                              \n",
      "13C/12C*3                              \n",
      "13C/12C*4                              \n",
      "13C/12C*5  F9939  F11442      F8591    \n",
      "13C/12C*6                     F8658    \n",
      "\n",
      "\n"
     ]
    }
   ],
   "source": [
    "# show some sig_kps\n",
    "sig_kps = list(sig_kps)\n",
    "for i in sig_kps[:5]:\n",
    "    print(kpdict[i].id, kpdict[i].neutral_mass)\n",
    "    print(kpdict[i].khipu_grid)\n",
    "    print('\\n')"
   ]
  },
  {
   "cell_type": "code",
   "execution_count": 19,
   "metadata": {},
   "outputs": [
    {
     "name": "stdout",
     "output_type": "stream",
     "text": [
      "kp1118_537.4765 537.4765460332301\n",
      "           M+H+ M+H+,NaCOOH M+H+,H2O\n",
      "M0        F9376      F10430   F10774\n",
      "13C/12C  F12728                     \n",
      "\n",
      "\n",
      "kp1041_641.4709 641.47094603323\n",
      "           M+H+\n",
      "M0        F8889\n",
      "13C/12C  F12938\n",
      "\n",
      "\n",
      "kp1852_358.1981 358.19809903323\n",
      "      M+H+    ACN\n",
      "M0  F12371  F4260\n",
      "\n",
      "\n",
      "kp470_350.3189 350.31889519989664\n",
      "            M+H+ M+H+,NaCOOH M+H+,MeOH M+H+,KCOOH\n",
      "M0         F3754                 F7400      F7869\n",
      "13C/12C*3  F4020                                 \n",
      "13C/12C*4  F4171      F13872                     \n",
      "\n",
      "\n",
      "kp442_180.1128 180.11279286656332\n",
      "            M+H+ Na/H HCl    K/H ACN\n",
      "M0         F3467                    \n",
      "13C/12C    F3554           F1554    \n",
      "13C/12C*2                           \n",
      "13C/12C*3                           \n",
      "13C/12C*4                           \n",
      "13C/12C*5                           \n",
      "13C/12C*6                           \n",
      "\n",
      "\n"
     ]
    }
   ],
   "source": [
    "for i in sig_kps[25:30]:\n",
    "    print(kpdict[i].id, kpdict[i].neutral_mass)\n",
    "    print(kpdict[i].khipu_grid)\n",
    "    print('\\n')"
   ]
  },
  {
   "cell_type": "code",
   "execution_count": 20,
   "metadata": {},
   "outputs": [
    {
     "data": {
      "text/html": [
       "<div>\n",
       "<style scoped>\n",
       "    .dataframe tbody tr th:only-of-type {\n",
       "        vertical-align: middle;\n",
       "    }\n",
       "\n",
       "    .dataframe tbody tr th {\n",
       "        vertical-align: top;\n",
       "    }\n",
       "\n",
       "    .dataframe thead th {\n",
       "        text-align: right;\n",
       "    }\n",
       "</style>\n",
       "<table border=\"1\" class=\"dataframe\">\n",
       "  <thead>\n",
       "    <tr style=\"text-align: right;\">\n",
       "      <th></th>\n",
       "      <th>M+H+</th>\n",
       "      <th>Na/H</th>\n",
       "      <th>HCl</th>\n",
       "      <th>K/H</th>\n",
       "      <th>ACN</th>\n",
       "    </tr>\n",
       "  </thead>\n",
       "  <tbody>\n",
       "    <tr>\n",
       "      <td>M0</td>\n",
       "      <td>F223</td>\n",
       "      <td></td>\n",
       "      <td></td>\n",
       "      <td></td>\n",
       "      <td></td>\n",
       "    </tr>\n",
       "    <tr>\n",
       "      <td>13C/12C</td>\n",
       "      <td>F265</td>\n",
       "      <td>F1825</td>\n",
       "      <td></td>\n",
       "      <td></td>\n",
       "      <td></td>\n",
       "    </tr>\n",
       "    <tr>\n",
       "      <td>13C/12C*2</td>\n",
       "      <td>F318</td>\n",
       "      <td>F1886</td>\n",
       "      <td></td>\n",
       "      <td></td>\n",
       "      <td></td>\n",
       "    </tr>\n",
       "    <tr>\n",
       "      <td>13C/12C*3</td>\n",
       "      <td></td>\n",
       "      <td></td>\n",
       "      <td></td>\n",
       "      <td></td>\n",
       "      <td></td>\n",
       "    </tr>\n",
       "    <tr>\n",
       "      <td>13C/12C*4</td>\n",
       "      <td></td>\n",
       "      <td>F2080</td>\n",
       "      <td></td>\n",
       "      <td></td>\n",
       "      <td></td>\n",
       "    </tr>\n",
       "    <tr>\n",
       "      <td>13C/12C*5</td>\n",
       "      <td></td>\n",
       "      <td></td>\n",
       "      <td></td>\n",
       "      <td></td>\n",
       "      <td></td>\n",
       "    </tr>\n",
       "    <tr>\n",
       "      <td>13C/12C*6</td>\n",
       "      <td></td>\n",
       "      <td></td>\n",
       "      <td></td>\n",
       "      <td></td>\n",
       "      <td></td>\n",
       "    </tr>\n",
       "  </tbody>\n",
       "</table>\n",
       "</div>"
      ],
      "text/plain": [
       "           M+H+   Na/H HCl K/H ACN\n",
       "M0         F223                   \n",
       "13C/12C    F265  F1825            \n",
       "13C/12C*2  F318  F1886            \n",
       "13C/12C*3                         \n",
       "13C/12C*4        F2080            \n",
       "13C/12C*5                         \n",
       "13C/12C*6                         "
      ]
     },
     "execution_count": 20,
     "metadata": {},
     "output_type": "execute_result"
    }
   ],
   "source": [
    "kpdict['kp37_263.1226'].khipu_grid"
   ]
  },
  {
   "cell_type": "code",
   "execution_count": 21,
   "metadata": {},
   "outputs": [
    {
     "data": {
      "text/html": [
       "<div>\n",
       "<style scoped>\n",
       "    .dataframe tbody tr th:only-of-type {\n",
       "        vertical-align: middle;\n",
       "    }\n",
       "\n",
       "    .dataframe tbody tr th {\n",
       "        vertical-align: top;\n",
       "    }\n",
       "\n",
       "    .dataframe thead th {\n",
       "        text-align: right;\n",
       "    }\n",
       "</style>\n",
       "<table border=\"1\" class=\"dataframe\">\n",
       "  <thead>\n",
       "    <tr style=\"text-align: right;\">\n",
       "      <th></th>\n",
       "      <th>M+H+</th>\n",
       "      <th>Na/H</th>\n",
       "      <th>HCl</th>\n",
       "      <th>K/H</th>\n",
       "      <th>ACN</th>\n",
       "    </tr>\n",
       "  </thead>\n",
       "  <tbody>\n",
       "    <tr>\n",
       "      <td>M0</td>\n",
       "      <td>264.131</td>\n",
       "      <td></td>\n",
       "      <td></td>\n",
       "      <td></td>\n",
       "      <td></td>\n",
       "    </tr>\n",
       "    <tr>\n",
       "      <td>13C/12C</td>\n",
       "      <td>265.134</td>\n",
       "      <td>287.115</td>\n",
       "      <td></td>\n",
       "      <td></td>\n",
       "      <td></td>\n",
       "    </tr>\n",
       "    <tr>\n",
       "      <td>13C/12C*2</td>\n",
       "      <td>266.137</td>\n",
       "      <td>288.119</td>\n",
       "      <td></td>\n",
       "      <td></td>\n",
       "      <td></td>\n",
       "    </tr>\n",
       "    <tr>\n",
       "      <td>13C/12C*3</td>\n",
       "      <td></td>\n",
       "      <td></td>\n",
       "      <td></td>\n",
       "      <td></td>\n",
       "      <td></td>\n",
       "    </tr>\n",
       "    <tr>\n",
       "      <td>13C/12C*4</td>\n",
       "      <td></td>\n",
       "      <td>290.123</td>\n",
       "      <td></td>\n",
       "      <td></td>\n",
       "      <td></td>\n",
       "    </tr>\n",
       "    <tr>\n",
       "      <td>13C/12C*5</td>\n",
       "      <td></td>\n",
       "      <td></td>\n",
       "      <td></td>\n",
       "      <td></td>\n",
       "      <td></td>\n",
       "    </tr>\n",
       "    <tr>\n",
       "      <td>13C/12C*6</td>\n",
       "      <td></td>\n",
       "      <td></td>\n",
       "      <td></td>\n",
       "      <td></td>\n",
       "      <td></td>\n",
       "    </tr>\n",
       "  </tbody>\n",
       "</table>\n",
       "</div>"
      ],
      "text/plain": [
       "              M+H+     Na/H HCl K/H ACN\n",
       "M0         264.131                     \n",
       "13C/12C    265.134  287.115            \n",
       "13C/12C*2  266.137  288.119            \n",
       "13C/12C*3                              \n",
       "13C/12C*4           290.123            \n",
       "13C/12C*5                              \n",
       "13C/12C*6                              "
      ]
     },
     "execution_count": 21,
     "metadata": {},
     "output_type": "execute_result"
    }
   ],
   "source": [
    "# m/z view\n",
    "kpdict['kp37_263.1226'].print3()"
   ]
  },
  {
   "cell_type": "code",
   "execution_count": 38,
   "metadata": {},
   "outputs": [
    {
     "data": {
      "image/png": "[encoded data removed]",
      "text/plain": [
       "<Figure size 432x288 with 1 Axes>"
      ]
     },
     "metadata": {
      "needs_background": "light"
     },
     "output_type": "display_data"
    }
   ],
   "source": [
    "kpdict['kp37_263.1226'].plot()"
   ]
  },
  {
   "cell_type": "code",
   "execution_count": 22,
   "metadata": {},
   "outputs": [
    {
     "data": {
      "text/plain": [
       "{'interim_id': 'root@F223',\n",
       " 'neutral_formula_mass': 263.12259853323,\n",
       " 'neutral_formula': None,\n",
       " 'Database_referred': [],\n",
       " 'identity': [],\n",
       " 'MS1_pseudo_Spectra': [{'id': 'F2080',\n",
       "   'mz': 290.1235,\n",
       "   'rtime': 803.36,\n",
       "   'intensities': [0.0, 0.0, 0.0, 0.0, 686582.0, 327737.0],\n",
       "   'representative_intensity': 169053.16666666666,\n",
       "   'parent_masstrack_id': '290.1235',\n",
       "   'isotope': '13C/12C*4',\n",
       "   'modification': 'Na/H',\n",
       "   'ion_relation': '13C/12C*4,Na/H'},\n",
       "  {'id': 'F1825',\n",
       "   'mz': 287.1148,\n",
       "   'rtime': 802.36,\n",
       "   'intensities': [2639.0, 0.0, 11460.0, 4578048.0, 5543359.0, 7134772.0],\n",
       "   'representative_intensity': 2878379.6666666665,\n",
       "   'parent_masstrack_id': '287.1148',\n",
       "   'isotope': '13C/12C',\n",
       "   'modification': 'Na/H',\n",
       "   'ion_relation': '13C/12C,Na/H'},\n",
       "  {'id': 'F318',\n",
       "   'mz': 266.1369,\n",
       "   'rtime': 802.36,\n",
       "   'intensities': [0.0, 0.0, 0.0, 365269188.0, 395784949.0, 421662024.0],\n",
       "   'representative_intensity': 197119360.16666666,\n",
       "   'parent_masstrack_id': '266.1369',\n",
       "   'isotope': '13C/12C*2',\n",
       "   'modification': 'M+H+',\n",
       "   'ion_relation': '13C/12C*2,M+H+'},\n",
       "  {'id': 'F1886',\n",
       "   'mz': 288.1189,\n",
       "   'rtime': 802.36,\n",
       "   'intensities': [0.0, 0.0, 0.0, 48824188.0, 60234673.0, 75285745.0],\n",
       "   'representative_intensity': 30724101.0,\n",
       "   'parent_masstrack_id': '288.1189',\n",
       "   'isotope': '13C/12C*2',\n",
       "   'modification': 'Na/H',\n",
       "   'ion_relation': '13C/12C*2,Na/H'},\n",
       "  {'id': 'F223',\n",
       "   'mz': 264.1307,\n",
       "   'rtime': 802.36,\n",
       "   'intensities': [0.0, 0.0, 0.0, 1436838.0, 1692515.0, 1792866.0],\n",
       "   'representative_intensity': 820369.8333333334,\n",
       "   'parent_masstrack_id': '264.1307',\n",
       "   'isotope': 'M0',\n",
       "   'modification': 'M+H+',\n",
       "   'ion_relation': 'M0,M+H+'},\n",
       "  {'id': 'F265',\n",
       "   'mz': 265.134,\n",
       "   'rtime': 802.36,\n",
       "   'intensities': [0.0, 0.0, 0.0, 35156094.0, 37808814.0, 40393052.0],\n",
       "   'representative_intensity': 18892993.333333332,\n",
       "   'parent_masstrack_id': '265.134',\n",
       "   'isotope': '13C/12C',\n",
       "   'modification': 'M+H+',\n",
       "   'ion_relation': '13C/12C,M+H+'}],\n",
       " 'MS2_Spectra': []}"
      ]
     },
     "execution_count": 22,
     "metadata": {},
     "output_type": "execute_result"
    }
   ],
   "source": [
    "kpdict['kp37_263.1226'].format_to_epds()"
   ]
  },
  {
   "cell_type": "code",
   "execution_count": 23,
   "metadata": {},
   "outputs": [
    {
     "data": {
      "text/html": [
       "<div>\n",
       "<style scoped>\n",
       "    .dataframe tbody tr th:only-of-type {\n",
       "        vertical-align: middle;\n",
       "    }\n",
       "\n",
       "    .dataframe tbody tr th {\n",
       "        vertical-align: top;\n",
       "    }\n",
       "\n",
       "    .dataframe thead th {\n",
       "        text-align: right;\n",
       "    }\n",
       "</style>\n",
       "<table border=\"1\" class=\"dataframe\">\n",
       "  <thead>\n",
       "    <tr style=\"text-align: right;\">\n",
       "      <th></th>\n",
       "      <th>M+H+</th>\n",
       "      <th>Na/H</th>\n",
       "      <th>HCl</th>\n",
       "      <th>K/H</th>\n",
       "      <th>ACN</th>\n",
       "      <th>Na/H,-H2O</th>\n",
       "      <th>M+H+,MeOH</th>\n",
       "      <th>ACN,H2O</th>\n",
       "      <th>M+H+,KCOOH</th>\n",
       "      <th>ACN,NaCOOH</th>\n",
       "      <th>M+H+,NaCOOH</th>\n",
       "      <th>M+H+,H2O</th>\n",
       "      <th>M+H+,NH3</th>\n",
       "      <th>Na/H,-NH3</th>\n",
       "      <th>Na/H,H2O</th>\n",
       "      <th>Na/H,NaCOOH</th>\n",
       "      <th>M+H+,HCN</th>\n",
       "    </tr>\n",
       "  </thead>\n",
       "  <tbody>\n",
       "    <tr>\n",
       "      <td>M0</td>\n",
       "      <td>493.425</td>\n",
       "      <td></td>\n",
       "      <td></td>\n",
       "      <td></td>\n",
       "      <td>534.452</td>\n",
       "      <td></td>\n",
       "      <td></td>\n",
       "      <td>552.463</td>\n",
       "      <td></td>\n",
       "      <td>602.442</td>\n",
       "      <td></td>\n",
       "      <td></td>\n",
       "      <td>510.452</td>\n",
       "      <td></td>\n",
       "      <td></td>\n",
       "      <td></td>\n",
       "      <td>520.437</td>\n",
       "    </tr>\n",
       "    <tr>\n",
       "      <td>13C/12C</td>\n",
       "      <td></td>\n",
       "      <td></td>\n",
       "      <td></td>\n",
       "      <td></td>\n",
       "      <td></td>\n",
       "      <td></td>\n",
       "      <td></td>\n",
       "      <td></td>\n",
       "      <td></td>\n",
       "      <td></td>\n",
       "      <td></td>\n",
       "      <td></td>\n",
       "      <td></td>\n",
       "      <td></td>\n",
       "      <td></td>\n",
       "      <td></td>\n",
       "      <td></td>\n",
       "    </tr>\n",
       "    <tr>\n",
       "      <td>13C/12C*2</td>\n",
       "      <td></td>\n",
       "      <td></td>\n",
       "      <td></td>\n",
       "      <td></td>\n",
       "      <td></td>\n",
       "      <td></td>\n",
       "      <td></td>\n",
       "      <td></td>\n",
       "      <td></td>\n",
       "      <td></td>\n",
       "      <td></td>\n",
       "      <td></td>\n",
       "      <td></td>\n",
       "      <td></td>\n",
       "      <td></td>\n",
       "      <td></td>\n",
       "      <td></td>\n",
       "    </tr>\n",
       "    <tr>\n",
       "      <td>13C/12C*3</td>\n",
       "      <td>496.436</td>\n",
       "      <td>518.421</td>\n",
       "      <td></td>\n",
       "      <td></td>\n",
       "      <td></td>\n",
       "      <td>500.409</td>\n",
       "      <td>528.463</td>\n",
       "      <td></td>\n",
       "      <td>580.399</td>\n",
       "      <td></td>\n",
       "      <td>564.426</td>\n",
       "      <td>514.447</td>\n",
       "      <td></td>\n",
       "      <td>635.45</td>\n",
       "      <td>536.432</td>\n",
       "      <td>586.41</td>\n",
       "      <td></td>\n",
       "    </tr>\n",
       "    <tr>\n",
       "      <td>13C/12C*4</td>\n",
       "      <td>497.44</td>\n",
       "      <td>519.424</td>\n",
       "      <td></td>\n",
       "      <td></td>\n",
       "      <td></td>\n",
       "      <td>501.413</td>\n",
       "      <td></td>\n",
       "      <td></td>\n",
       "      <td></td>\n",
       "      <td></td>\n",
       "      <td></td>\n",
       "      <td></td>\n",
       "      <td></td>\n",
       "      <td></td>\n",
       "      <td>537.435</td>\n",
       "      <td></td>\n",
       "      <td></td>\n",
       "    </tr>\n",
       "    <tr>\n",
       "      <td>13C/12C*5</td>\n",
       "      <td></td>\n",
       "      <td></td>\n",
       "      <td></td>\n",
       "      <td></td>\n",
       "      <td></td>\n",
       "      <td></td>\n",
       "      <td></td>\n",
       "      <td></td>\n",
       "      <td></td>\n",
       "      <td></td>\n",
       "      <td></td>\n",
       "      <td></td>\n",
       "      <td></td>\n",
       "      <td></td>\n",
       "      <td></td>\n",
       "      <td></td>\n",
       "      <td></td>\n",
       "    </tr>\n",
       "    <tr>\n",
       "      <td>13C/12C*6</td>\n",
       "      <td></td>\n",
       "      <td></td>\n",
       "      <td></td>\n",
       "      <td></td>\n",
       "      <td></td>\n",
       "      <td></td>\n",
       "      <td></td>\n",
       "      <td></td>\n",
       "      <td></td>\n",
       "      <td></td>\n",
       "      <td></td>\n",
       "      <td></td>\n",
       "      <td></td>\n",
       "      <td></td>\n",
       "      <td></td>\n",
       "      <td></td>\n",
       "      <td></td>\n",
       "    </tr>\n",
       "  </tbody>\n",
       "</table>\n",
       "</div>"
      ],
      "text/plain": [
       "              M+H+     Na/H HCl K/H      ACN Na/H,-H2O M+H+,MeOH  ACN,H2O  \\\n",
       "M0         493.425                   534.452                      552.463   \n",
       "13C/12C                                                                     \n",
       "13C/12C*2                                                                   \n",
       "13C/12C*3  496.436  518.421                    500.409   528.463            \n",
       "13C/12C*4   497.44  519.424                    501.413                      \n",
       "13C/12C*5                                                                   \n",
       "13C/12C*6                                                                   \n",
       "\n",
       "          M+H+,KCOOH ACN,NaCOOH M+H+,NaCOOH M+H+,H2O M+H+,NH3 Na/H,-NH3  \\\n",
       "M0                      602.442                       510.452             \n",
       "13C/12C                                                                   \n",
       "13C/12C*2                                                                 \n",
       "13C/12C*3    580.399                564.426  514.447             635.45   \n",
       "13C/12C*4                                                                 \n",
       "13C/12C*5                                                                 \n",
       "13C/12C*6                                                                 \n",
       "\n",
       "          Na/H,H2O Na/H,NaCOOH M+H+,HCN  \n",
       "M0                              520.437  \n",
       "13C/12C                                  \n",
       "13C/12C*2                                \n",
       "13C/12C*3  536.432      586.41           \n",
       "13C/12C*4  537.435                       \n",
       "13C/12C*5                                \n",
       "13C/12C*6                                "
      ]
     },
     "execution_count": 23,
     "metadata": {},
     "output_type": "execute_result"
    }
   ],
   "source": [
    "kpdict['kp723_492.4197'].print3()"
   ]
  },
  {
   "cell_type": "code",
   "execution_count": 24,
   "metadata": {},
   "outputs": [
    {
     "data": {
      "text/html": [
       "<div>\n",
       "<style scoped>\n",
       "    .dataframe tbody tr th:only-of-type {\n",
       "        vertical-align: middle;\n",
       "    }\n",
       "\n",
       "    .dataframe tbody tr th {\n",
       "        vertical-align: top;\n",
       "    }\n",
       "\n",
       "    .dataframe thead th {\n",
       "        text-align: right;\n",
       "    }\n",
       "</style>\n",
       "<table border=\"1\" class=\"dataframe\">\n",
       "  <thead>\n",
       "    <tr style=\"text-align: right;\">\n",
       "      <th></th>\n",
       "      <th>M+H+</th>\n",
       "      <th>Na/H</th>\n",
       "      <th>HCl</th>\n",
       "      <th>K/H</th>\n",
       "      <th>ACN</th>\n",
       "      <th>Na/H,-H2O</th>\n",
       "      <th>M+H+,MeOH</th>\n",
       "      <th>ACN,H2O</th>\n",
       "      <th>M+H+,KCOOH</th>\n",
       "      <th>ACN,NaCOOH</th>\n",
       "      <th>M+H+,NaCOOH</th>\n",
       "      <th>M+H+,H2O</th>\n",
       "      <th>M+H+,NH3</th>\n",
       "      <th>Na/H,-NH3</th>\n",
       "      <th>Na/H,H2O</th>\n",
       "      <th>Na/H,NaCOOH</th>\n",
       "      <th>M+H+,HCN</th>\n",
       "    </tr>\n",
       "  </thead>\n",
       "  <tbody>\n",
       "    <tr>\n",
       "      <td>M0</td>\n",
       "      <td>F12054</td>\n",
       "      <td></td>\n",
       "      <td></td>\n",
       "      <td></td>\n",
       "      <td>F12719</td>\n",
       "      <td></td>\n",
       "      <td></td>\n",
       "      <td>F10484</td>\n",
       "      <td></td>\n",
       "      <td>F10035</td>\n",
       "      <td></td>\n",
       "      <td></td>\n",
       "      <td>F7036</td>\n",
       "      <td></td>\n",
       "      <td></td>\n",
       "      <td></td>\n",
       "      <td>F7948</td>\n",
       "    </tr>\n",
       "    <tr>\n",
       "      <td>13C/12C</td>\n",
       "      <td></td>\n",
       "      <td></td>\n",
       "      <td></td>\n",
       "      <td></td>\n",
       "      <td></td>\n",
       "      <td></td>\n",
       "      <td></td>\n",
       "      <td></td>\n",
       "      <td></td>\n",
       "      <td></td>\n",
       "      <td></td>\n",
       "      <td></td>\n",
       "      <td></td>\n",
       "      <td></td>\n",
       "      <td></td>\n",
       "      <td></td>\n",
       "      <td></td>\n",
       "    </tr>\n",
       "    <tr>\n",
       "      <td>13C/12C*2</td>\n",
       "      <td></td>\n",
       "      <td></td>\n",
       "      <td></td>\n",
       "      <td></td>\n",
       "      <td></td>\n",
       "      <td></td>\n",
       "      <td></td>\n",
       "      <td></td>\n",
       "      <td></td>\n",
       "      <td></td>\n",
       "      <td></td>\n",
       "      <td></td>\n",
       "      <td></td>\n",
       "      <td></td>\n",
       "      <td></td>\n",
       "      <td></td>\n",
       "      <td></td>\n",
       "    </tr>\n",
       "    <tr>\n",
       "      <td>13C/12C*3</td>\n",
       "      <td>F5856</td>\n",
       "      <td>F7773</td>\n",
       "      <td></td>\n",
       "      <td></td>\n",
       "      <td></td>\n",
       "      <td>F6175</td>\n",
       "      <td>F8459</td>\n",
       "      <td></td>\n",
       "      <td>F8473</td>\n",
       "      <td></td>\n",
       "      <td>F11236</td>\n",
       "      <td>F7313</td>\n",
       "      <td></td>\n",
       "      <td>F12927</td>\n",
       "      <td>F9169</td>\n",
       "      <td>F8781</td>\n",
       "      <td></td>\n",
       "    </tr>\n",
       "    <tr>\n",
       "      <td>13C/12C*4</td>\n",
       "      <td>F5909</td>\n",
       "      <td>F7849</td>\n",
       "      <td></td>\n",
       "      <td></td>\n",
       "      <td></td>\n",
       "      <td>F6246</td>\n",
       "      <td></td>\n",
       "      <td></td>\n",
       "      <td></td>\n",
       "      <td></td>\n",
       "      <td></td>\n",
       "      <td></td>\n",
       "      <td></td>\n",
       "      <td></td>\n",
       "      <td>F9213</td>\n",
       "      <td></td>\n",
       "      <td></td>\n",
       "    </tr>\n",
       "    <tr>\n",
       "      <td>13C/12C*5</td>\n",
       "      <td></td>\n",
       "      <td></td>\n",
       "      <td></td>\n",
       "      <td></td>\n",
       "      <td></td>\n",
       "      <td></td>\n",
       "      <td></td>\n",
       "      <td></td>\n",
       "      <td></td>\n",
       "      <td></td>\n",
       "      <td></td>\n",
       "      <td></td>\n",
       "      <td></td>\n",
       "      <td></td>\n",
       "      <td></td>\n",
       "      <td></td>\n",
       "      <td></td>\n",
       "    </tr>\n",
       "    <tr>\n",
       "      <td>13C/12C*6</td>\n",
       "      <td></td>\n",
       "      <td></td>\n",
       "      <td></td>\n",
       "      <td></td>\n",
       "      <td></td>\n",
       "      <td></td>\n",
       "      <td></td>\n",
       "      <td></td>\n",
       "      <td></td>\n",
       "      <td></td>\n",
       "      <td></td>\n",
       "      <td></td>\n",
       "      <td></td>\n",
       "      <td></td>\n",
       "      <td></td>\n",
       "      <td></td>\n",
       "      <td></td>\n",
       "    </tr>\n",
       "  </tbody>\n",
       "</table>\n",
       "</div>"
      ],
      "text/plain": [
       "             M+H+   Na/H HCl K/H     ACN Na/H,-H2O M+H+,MeOH ACN,H2O  \\\n",
       "M0         F12054                 F12719                      F10484   \n",
       "13C/12C                                                                \n",
       "13C/12C*2                                                              \n",
       "13C/12C*3   F5856  F7773                     F6175     F8459           \n",
       "13C/12C*4   F5909  F7849                     F6246                     \n",
       "13C/12C*5                                                              \n",
       "13C/12C*6                                                              \n",
       "\n",
       "          M+H+,KCOOH ACN,NaCOOH M+H+,NaCOOH M+H+,H2O M+H+,NH3 Na/H,-NH3  \\\n",
       "M0                       F10035                         F7036             \n",
       "13C/12C                                                                   \n",
       "13C/12C*2                                                                 \n",
       "13C/12C*3      F8473                 F11236    F7313             F12927   \n",
       "13C/12C*4                                                                 \n",
       "13C/12C*5                                                                 \n",
       "13C/12C*6                                                                 \n",
       "\n",
       "          Na/H,H2O Na/H,NaCOOH M+H+,HCN  \n",
       "M0                                F7948  \n",
       "13C/12C                                  \n",
       "13C/12C*2                                \n",
       "13C/12C*3    F9169       F8781           \n",
       "13C/12C*4    F9213                       \n",
       "13C/12C*5                                \n",
       "13C/12C*6                                "
      ]
     },
     "execution_count": 24,
     "metadata": {},
     "output_type": "execute_result"
    }
   ],
   "source": [
    "kpdict['kp723_492.4197'].khipu_grid"
   ]
  },
  {
   "cell_type": "code",
   "execution_count": 30,
   "metadata": {},
   "outputs": [
    {
     "data": {
      "image/png": "[encoded data removed]",
      "text/plain": [
       "<Figure size 432x288 with 1 Axes>"
      ]
     },
     "metadata": {
      "needs_background": "light"
     },
     "output_type": "display_data"
    }
   ],
   "source": [
    "kpdict['kp723_492.4197'].plot()"
   ]
  },
  {
   "cell_type": "markdown",
   "metadata": {},
   "source": [
    "**We can extract sample data from khipu and plot in different ways**"
   ]
  },
  {
   "cell_type": "code",
   "execution_count": 25,
   "metadata": {},
   "outputs": [
    {
     "data": {
      "text/plain": [
       "mz                     4.312425e+02\n",
       "rtime                  2.368600e+02\n",
       "cSelectivity           1.000000e+00\n",
       "goodness_fitting       9.700000e-01\n",
       "snr                    4.030000e+02\n",
       "posi-Yeast-12C14N-a    1.428995e+06\n",
       "posi-Yeast-12C14N-b    1.597680e+05\n",
       "posi-Yeast-12C14N-c    1.703597e+06\n",
       "posi-Yeast-13C14N-a    1.604958e+06\n",
       "posi-Yeast-13C14N-b    1.425146e+06\n",
       "posi-Yeast-13C14N-c    1.559043e+06\n",
       "Name: F7503, dtype: float64"
      ]
     },
     "execution_count": 25,
     "metadata": {},
     "output_type": "execute_result"
    }
   ],
   "source": [
    "yeast.loc['F7503', :]"
   ]
  },
  {
   "cell_type": "code",
   "execution_count": 40,
   "metadata": {},
   "outputs": [
    {
     "data": {
      "text/plain": [
       "['12C14N-a', '12C14N-b', '12C14N-c', '13C14N-a', '13C14N-b', '13C14N-c']"
      ]
     },
     "execution_count": 40,
     "metadata": {},
     "output_type": "execute_result"
    }
   ],
   "source": [
    "sample_labels = [x.replace('posi-Yeast-', '') for x in list(yeast.columns)[5:]]\n",
    "sample_labels"
   ]
  },
  {
   "cell_type": "code",
   "execution_count": 29,
   "metadata": {},
   "outputs": [
    {
     "data": {
      "text/plain": [
       "{'id': 'F12054',\n",
       " 'mz': 493.4255,\n",
       " 'rtime': 139.87,\n",
       " 'intensities': [464419.0, 586663.0, 753233.0, 497642.0, 559671.0, 0.0],\n",
       " 'representative_intensity': 476938.0,\n",
       " 'parent_masstrack_id': '493.4255'}"
      ]
     },
     "execution_count": 29,
     "metadata": {},
     "output_type": "execute_result"
    }
   ],
   "source": [
    "# We can use intensity from feature_dict\n",
    "kpdict['kp723_492.4197'].feature_dict['F12054']"
   ]
  },
  {
   "cell_type": "code",
   "execution_count": 31,
   "metadata": {},
   "outputs": [
    {
     "data": {
      "text/plain": [
       "M0           F12054\n",
       "13C/12C            \n",
       "13C/12C*2          \n",
       "13C/12C*3     F5856\n",
       "13C/12C*4     F5909\n",
       "13C/12C*5          \n",
       "13C/12C*6          \n",
       "Name: M+H+, dtype: object"
      ]
     },
     "execution_count": 31,
     "metadata": {},
     "output_type": "execute_result"
    }
   ],
   "source": [
    "kpdict['kp723_492.4197'].khipu_grid['M+H+']"
   ]
  },
  {
   "cell_type": "code",
   "execution_count": 32,
   "metadata": {},
   "outputs": [
    {
     "data": {
      "text/plain": [
       "array(['F12054', '', '', 'F5856', 'F5909', '', ''], dtype=object)"
      ]
     },
     "execution_count": 32,
     "metadata": {},
     "output_type": "execute_result"
    }
   ],
   "source": [
    "kpdict['kp723_492.4197'].khipu_grid['M+H+'].values"
   ]
  },
  {
   "cell_type": "code",
   "execution_count": 33,
   "metadata": {},
   "outputs": [
    {
     "name": "stdout",
     "output_type": "stream",
     "text": [
      "            M+H+ Na/H HCl    K/H    ACN K/H,NaCOOH K/H,MeOH K/H,-H2O\n",
      "M0         F6324           F9510  F9769                             \n",
      "13C/12C    F6455                                                    \n",
      "13C/12C*2                                                           \n",
      "13C/12C*3                                                           \n",
      "13C/12C*4                  F9807                      F8214    F8180\n",
      "13C/12C*5                  F9915            F10776                  \n",
      "13C/12C*6                                                           \n"
     ]
    }
   ],
   "source": [
    "fdict['F5835'].print()"
   ]
  },
  {
   "cell_type": "markdown",
   "metadata": {},
   "source": [
    "**Bar plot of average intensity per feature in M+H+**"
   ]
  },
  {
   "cell_type": "code",
   "execution_count": 35,
   "metadata": {},
   "outputs": [
    {
     "data": {
      "text/plain": [
       "<matplotlib.axes._subplots.AxesSubplot at 0x7f6804f196a0>"
      ]
     },
     "execution_count": 35,
     "metadata": {},
     "output_type": "execute_result"
    },
    {
     "data": {
      "image/png": "[encoded data removed]",
      "text/plain": [
       "<Figure size 432x288 with 1 Axes>"
      ]
     },
     "metadata": {
      "needs_background": "light"
     },
     "output_type": "display_data"
    }
   ],
   "source": [
    "kpdict['kp723_492.4197'].get_khipu_intensities()['M+H+'].plot.bar()"
   ]
  },
  {
   "cell_type": "markdown",
   "metadata": {},
   "source": [
    "**Bar plot of all 6 samples**"
   ]
  },
  {
   "cell_type": "code",
   "execution_count": 36,
   "metadata": {},
   "outputs": [],
   "source": [
    "def get_sample_data(kp, ion, sample_labels):\n",
    "    '''kp as khipu instance. Assume sample_labels are in the same order as columns read into khipu instance.\n",
    "    Return dataframe'''\n",
    "    data = []\n",
    "    for ii in range(len(sample_labels)): \n",
    "        tmp = [] \n",
    "        for f in kp.khipu_grid[ion].values:\n",
    "            if f:\n",
    "                tmp.append(kp.feature_dict[f]['intensities'][ii])\n",
    "            else:\n",
    "                tmp.append(0)\n",
    "        data.append(tmp)\n",
    "\n",
    "    return pd.DataFrame(data, \n",
    "                        columns=kp.khipu_grid.index,\n",
    "                        index=sample_labels,\n",
    "                        ).T\n"
   ]
  },
  {
   "cell_type": "code",
   "execution_count": 41,
   "metadata": {},
   "outputs": [
    {
     "data": {
      "text/html": [
       "<div>\n",
       "<style scoped>\n",
       "    .dataframe tbody tr th:only-of-type {\n",
       "        vertical-align: middle;\n",
       "    }\n",
       "\n",
       "    .dataframe tbody tr th {\n",
       "        vertical-align: top;\n",
       "    }\n",
       "\n",
       "    .dataframe thead th {\n",
       "        text-align: right;\n",
       "    }\n",
       "</style>\n",
       "<table border=\"1\" class=\"dataframe\">\n",
       "  <thead>\n",
       "    <tr style=\"text-align: right;\">\n",
       "      <th></th>\n",
       "      <th>12C14N-a</th>\n",
       "      <th>12C14N-b</th>\n",
       "      <th>12C14N-c</th>\n",
       "      <th>13C14N-a</th>\n",
       "      <th>13C14N-b</th>\n",
       "      <th>13C14N-c</th>\n",
       "    </tr>\n",
       "  </thead>\n",
       "  <tbody>\n",
       "    <tr>\n",
       "      <td>M0</td>\n",
       "      <td>464419.0</td>\n",
       "      <td>586663.0</td>\n",
       "      <td>753233.0</td>\n",
       "      <td>497642.0</td>\n",
       "      <td>559671.0</td>\n",
       "      <td>0.0</td>\n",
       "    </tr>\n",
       "    <tr>\n",
       "      <td>13C/12C</td>\n",
       "      <td>0.0</td>\n",
       "      <td>0.0</td>\n",
       "      <td>0.0</td>\n",
       "      <td>0.0</td>\n",
       "      <td>0.0</td>\n",
       "      <td>0.0</td>\n",
       "    </tr>\n",
       "    <tr>\n",
       "      <td>13C/12C*2</td>\n",
       "      <td>0.0</td>\n",
       "      <td>0.0</td>\n",
       "      <td>0.0</td>\n",
       "      <td>0.0</td>\n",
       "      <td>0.0</td>\n",
       "      <td>0.0</td>\n",
       "    </tr>\n",
       "    <tr>\n",
       "      <td>13C/12C*3</td>\n",
       "      <td>2478607.0</td>\n",
       "      <td>2886510.0</td>\n",
       "      <td>2978231.0</td>\n",
       "      <td>2480053.0</td>\n",
       "      <td>2343662.0</td>\n",
       "      <td>2880800.0</td>\n",
       "    </tr>\n",
       "    <tr>\n",
       "      <td>13C/12C*4</td>\n",
       "      <td>597418.0</td>\n",
       "      <td>640747.0</td>\n",
       "      <td>0.0</td>\n",
       "      <td>0.0</td>\n",
       "      <td>471552.0</td>\n",
       "      <td>484919.0</td>\n",
       "    </tr>\n",
       "    <tr>\n",
       "      <td>13C/12C*5</td>\n",
       "      <td>0.0</td>\n",
       "      <td>0.0</td>\n",
       "      <td>0.0</td>\n",
       "      <td>0.0</td>\n",
       "      <td>0.0</td>\n",
       "      <td>0.0</td>\n",
       "    </tr>\n",
       "    <tr>\n",
       "      <td>13C/12C*6</td>\n",
       "      <td>0.0</td>\n",
       "      <td>0.0</td>\n",
       "      <td>0.0</td>\n",
       "      <td>0.0</td>\n",
       "      <td>0.0</td>\n",
       "      <td>0.0</td>\n",
       "    </tr>\n",
       "  </tbody>\n",
       "</table>\n",
       "</div>"
      ],
      "text/plain": [
       "            12C14N-a   12C14N-b   12C14N-c   13C14N-a   13C14N-b   13C14N-c\n",
       "M0          464419.0   586663.0   753233.0   497642.0   559671.0        0.0\n",
       "13C/12C          0.0        0.0        0.0        0.0        0.0        0.0\n",
       "13C/12C*2        0.0        0.0        0.0        0.0        0.0        0.0\n",
       "13C/12C*3  2478607.0  2886510.0  2978231.0  2480053.0  2343662.0  2880800.0\n",
       "13C/12C*4   597418.0   640747.0        0.0        0.0   471552.0   484919.0\n",
       "13C/12C*5        0.0        0.0        0.0        0.0        0.0        0.0\n",
       "13C/12C*6        0.0        0.0        0.0        0.0        0.0        0.0"
      ]
     },
     "execution_count": 41,
     "metadata": {},
     "output_type": "execute_result"
    }
   ],
   "source": [
    "data = get_sample_data(kpdict['kp723_492.4197'], 'M+H+', sample_labels)\n",
    "data"
   ]
  },
  {
   "cell_type": "code",
   "execution_count": 42,
   "metadata": {},
   "outputs": [
    {
     "data": {
      "text/plain": [
       "<matplotlib.axes._subplots.AxesSubplot at 0x7f68015c45c0>"
      ]
     },
     "execution_count": 42,
     "metadata": {},
     "output_type": "execute_result"
    },
    {
     "data": {
      "image/png": "[encoded data removed]",
      "text/plain": [
       "<Figure size 1080x288 with 1 Axes>"
      ]
     },
     "metadata": {
      "needs_background": "light"
     },
     "output_type": "display_data"
    }
   ],
   "source": [
    "data.plot(kind='bar', stacked=False, figsize=(15, 4))"
   ]
  },
  {
   "cell_type": "markdown",
   "metadata": {},
   "source": [
    "**Try another empCpd**"
   ]
  },
  {
   "cell_type": "code",
   "execution_count": 46,
   "metadata": {},
   "outputs": [
    {
     "data": {
      "text/plain": [
       "<matplotlib.axes._subplots.AxesSubplot at 0x7f6809ec6c18>"
      ]
     },
     "execution_count": 46,
     "metadata": {},
     "output_type": "execute_result"
    },
    {
     "data": {
      "image/png": "[encoded data removed]",
      "text/plain": [
       "<Figure size 1080x288 with 1 Axes>"
      ]
     },
     "metadata": {
      "needs_background": "light"
     },
     "output_type": "display_data"
    }
   ],
   "source": [
    "K = kpdict['kp37_263.1226']\n",
    "data = get_sample_data(K, 'M+H+', sample_labels)\n",
    "data.plot(kind='bar', stacked=False, figsize=(15, 4))"
   ]
  },
  {
   "cell_type": "markdown",
   "metadata": {},
   "source": [
    "The above ion is only present in the 13C samples."
   ]
  },
  {
   "cell_type": "markdown",
   "metadata": {},
   "source": [
    "## Summary\n",
    "\n",
    "Pre-annotation by khipu allow us to use standard data science tools on isotope tracing metabolomics data. \n",
    "\n",
    "User can further filter for preferred isotope patterns and apply custom models."
   ]
  }
 ],
 "metadata": {
  "kernelspec": {
   "display_name": "Python 3",
   "language": "python",
   "name": "python3"
  },
  "language_info": {
   "codemirror_mode": {
    "name": "ipython",
    "version": 3
   },
   "file_extension": ".py",
   "mimetype": "text/x-python",
   "name": "python",
   "nbconvert_exporter": "python",
   "pygments_lexer": "ipython3",
   "version": "3.7.3"
  }
 },
 "nbformat": 4,
 "nbformat_minor": 2
}
